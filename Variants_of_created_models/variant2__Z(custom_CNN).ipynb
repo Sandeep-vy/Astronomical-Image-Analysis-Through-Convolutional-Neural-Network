{
  "nbformat": 4,
  "nbformat_minor": 0,
  "metadata": {
    "colab": {
      "name": "variant2 _Z(custom_CNN).ipynb",
      "provenance": [],
      "collapsed_sections": []
    },
    "kernelspec": {
      "display_name": "Python 3",
      "name": "python3"
    },
    "accelerator": "TPU"
  },
  "cells": [
    {
      "cell_type": "code",
      "metadata": {
        "id": "4WEr6KeHqhuT"
      },
      "source": [
        "import tensorflow as tf\n",
        "from tensorflow.keras import layers\n",
        "from tensorflow.keras.models import Sequential\n",
        "from tensorflow.keras.layers import Input, Lambda, Dense, Flatten, GlobalAveragePooling2D, MaxPool2D\n",
        "from tensorflow.keras.models import Model\n",
        "from tensorflow.keras.preprocessing import image\n",
        "from tensorflow.keras.preprocessing.image import ImageDataGenerator\n",
        "import numpy as np\n",
        "from glob import glob\n",
        "import matplotlib.pyplot as plt\n",
        "import pandas as pd"
      ],
      "execution_count": null,
      "outputs": []
    },
    {
      "cell_type": "code",
      "metadata": {
        "id": "TZ7DDazv4MF4"
      },
      "source": [
        "loss = 'mean_squared_error'\n",
        "metrics = ['mse','mae']\n",
        "batch_size=64\n",
        "epochs = 50\n",
        "image_shape=(227,227,3)"
      ],
      "execution_count": null,
      "outputs": []
    },
    {
      "cell_type": "code",
      "metadata": {
        "colab": {
          "base_uri": "https://localhost:8080/"
        },
        "id": "ROjfIVhM3w8G",
        "outputId": "13427ab1-93d1-469d-cb77-06c09db4a897"
      },
      "source": [
        "from tensorflow.keras.optimizers import Adam\n",
        "import tensorflow as tf\n",
        "\n",
        "\n",
        "model = tf.keras.models.Sequential([\n",
        "    \n",
        "    tf.keras.layers.Conv2D(64, (3,3),activation='relu', padding='valid', input_shape=image_shape),\n",
        "    tf.keras.layers.MaxPooling2D(pool_size=(3,3), strides=(2,2), padding='valid'),\n",
        "\n",
        "    tf.keras.layers.Conv2D(64, (3,3),activation='relu', padding='valid'),\n",
        "    tf.keras.layers.MaxPooling2D(pool_size=(3,3), strides=(2,2), padding='valid'),\n",
        "    \n",
        "    tf.keras.layers.Conv2D(64, (3,3),activation='relu', padding='valid'),\n",
        "    tf.keras.layers.MaxPooling2D(pool_size=(3,3), strides=(2,2), padding='valid'),\n",
        "\n",
        "    tf.keras.layers.Conv2D(64, (3,3),activation='relu', padding='valid'),\n",
        "    tf.keras.layers.MaxPooling2D(pool_size=(3,3), strides=(2,2), padding='valid'),\n",
        "    \n",
        "\n",
        "    # flatten the image pixels\n",
        "    tf.keras.layers.Flatten(),\n",
        "\n",
        "    tf.keras.layers.Dense(2048, input_shape=(227*227*3,), activation='relu'),\n",
        "    tf.keras.layers.Dropout(0.5),\n",
        "    tf.keras.layers.Dropout(0.5),\n",
        "\n",
        "    # 3 neuron fully connected hidden layer\n",
        "    tf.keras.layers.Dense(3, activation='linear')\n",
        "])\n",
        "\n",
        "model.compile(optimizer = tf.keras.optimizers.Adam(0.01), \n",
        "              loss = 'mean_squared_error',\n",
        "              metrics = metrics) \n",
        "\n",
        "model.summary()"
      ],
      "execution_count": null,
      "outputs": [
        {
          "output_type": "stream",
          "text": [
            "Model: \"sequential\"\n",
            "_________________________________________________________________\n",
            "Layer (type)                 Output Shape              Param #   \n",
            "=================================================================\n",
            "conv2d (Conv2D)              (None, 225, 225, 64)      1792      \n",
            "_________________________________________________________________\n",
            "max_pooling2d (MaxPooling2D) (None, 112, 112, 64)      0         \n",
            "_________________________________________________________________\n",
            "conv2d_1 (Conv2D)            (None, 110, 110, 64)      36928     \n",
            "_________________________________________________________________\n",
            "max_pooling2d_1 (MaxPooling2 (None, 54, 54, 64)        0         \n",
            "_________________________________________________________________\n",
            "conv2d_2 (Conv2D)            (None, 52, 52, 64)        36928     \n",
            "_________________________________________________________________\n",
            "max_pooling2d_2 (MaxPooling2 (None, 25, 25, 64)        0         \n",
            "_________________________________________________________________\n",
            "conv2d_3 (Conv2D)            (None, 23, 23, 64)        36928     \n",
            "_________________________________________________________________\n",
            "max_pooling2d_3 (MaxPooling2 (None, 11, 11, 64)        0         \n",
            "_________________________________________________________________\n",
            "flatten (Flatten)            (None, 7744)              0         \n",
            "_________________________________________________________________\n",
            "dense (Dense)                (None, 2048)              15861760  \n",
            "_________________________________________________________________\n",
            "dropout (Dropout)            (None, 2048)              0         \n",
            "_________________________________________________________________\n",
            "dropout_1 (Dropout)          (None, 2048)              0         \n",
            "_________________________________________________________________\n",
            "dense_1 (Dense)              (None, 3)                 6147      \n",
            "=================================================================\n",
            "Total params: 15,980,483\n",
            "Trainable params: 15,980,483\n",
            "Non-trainable params: 0\n",
            "_________________________________________________________________\n"
          ],
          "name": "stdout"
        }
      ]
    },
    {
      "cell_type": "code",
      "metadata": {
        "colab": {
          "base_uri": "https://localhost:8080/",
          "height": 419
        },
        "id": "GBkS25sWDGmU",
        "outputId": "dbd03e1a-d47d-4508-ec73-2828b68f88e7"
      },
      "source": [
        "raw_dataset = pd.read_csv(\"/content/drive/MyDrive/Colab Notebooks/SDSS.csv\")\n",
        "train_df = raw_dataset.copy()\n",
        "train_df"
      ],
      "execution_count": null,
      "outputs": [
        {
          "output_type": "execute_result",
          "data": {
            "text/html": [
              "<div>\n",
              "<style scoped>\n",
              "    .dataframe tbody tr th:only-of-type {\n",
              "        vertical-align: middle;\n",
              "    }\n",
              "\n",
              "    .dataframe tbody tr th {\n",
              "        vertical-align: top;\n",
              "    }\n",
              "\n",
              "    .dataframe thead th {\n",
              "        text-align: right;\n",
              "    }\n",
              "</style>\n",
              "<table border=\"1\" class=\"dataframe\">\n",
              "  <thead>\n",
              "    <tr style=\"text-align: right;\">\n",
              "      <th></th>\n",
              "      <th>img_path</th>\n",
              "      <th>z</th>\n",
              "    </tr>\n",
              "  </thead>\n",
              "  <tbody>\n",
              "    <tr>\n",
              "      <th>0</th>\n",
              "      <td>/content/drive/MyDrive/Colab Notebooks/galaxy_...</td>\n",
              "      <td>0.037450</td>\n",
              "    </tr>\n",
              "    <tr>\n",
              "      <th>1</th>\n",
              "      <td>/content/drive/MyDrive/Colab Notebooks/galaxy_...</td>\n",
              "      <td>-99.990000</td>\n",
              "    </tr>\n",
              "    <tr>\n",
              "      <th>2</th>\n",
              "      <td>/content/drive/MyDrive/Colab Notebooks/galaxy_...</td>\n",
              "      <td>0.029610</td>\n",
              "    </tr>\n",
              "    <tr>\n",
              "      <th>3</th>\n",
              "      <td>/content/drive/MyDrive/Colab Notebooks/galaxy_...</td>\n",
              "      <td>0.002882</td>\n",
              "    </tr>\n",
              "    <tr>\n",
              "      <th>4</th>\n",
              "      <td>/content/drive/MyDrive/Colab Notebooks/galaxy_...</td>\n",
              "      <td>0.038340</td>\n",
              "    </tr>\n",
              "    <tr>\n",
              "      <th>...</th>\n",
              "      <td>...</td>\n",
              "      <td>...</td>\n",
              "    </tr>\n",
              "    <tr>\n",
              "      <th>4453</th>\n",
              "      <td>/content/drive/MyDrive/Colab Notebooks/galaxy_...</td>\n",
              "      <td>-100.000000</td>\n",
              "    </tr>\n",
              "    <tr>\n",
              "      <th>4454</th>\n",
              "      <td>/content/drive/MyDrive/Colab Notebooks/galaxy_...</td>\n",
              "      <td>-99.990000</td>\n",
              "    </tr>\n",
              "    <tr>\n",
              "      <th>4455</th>\n",
              "      <td>/content/drive/MyDrive/Colab Notebooks/galaxy_...</td>\n",
              "      <td>0.024300</td>\n",
              "    </tr>\n",
              "    <tr>\n",
              "      <th>4456</th>\n",
              "      <td>/content/drive/MyDrive/Colab Notebooks/galaxy_...</td>\n",
              "      <td>0.022220</td>\n",
              "    </tr>\n",
              "    <tr>\n",
              "      <th>4457</th>\n",
              "      <td>/content/drive/MyDrive/Colab Notebooks/galaxy_...</td>\n",
              "      <td>0.005804</td>\n",
              "    </tr>\n",
              "  </tbody>\n",
              "</table>\n",
              "<p>4458 rows × 2 columns</p>\n",
              "</div>"
            ],
            "text/plain": [
              "                                               img_path           z\n",
              "0     /content/drive/MyDrive/Colab Notebooks/galaxy_...    0.037450\n",
              "1     /content/drive/MyDrive/Colab Notebooks/galaxy_...  -99.990000\n",
              "2     /content/drive/MyDrive/Colab Notebooks/galaxy_...    0.029610\n",
              "3     /content/drive/MyDrive/Colab Notebooks/galaxy_...    0.002882\n",
              "4     /content/drive/MyDrive/Colab Notebooks/galaxy_...    0.038340\n",
              "...                                                 ...         ...\n",
              "4453  /content/drive/MyDrive/Colab Notebooks/galaxy_... -100.000000\n",
              "4454  /content/drive/MyDrive/Colab Notebooks/galaxy_...  -99.990000\n",
              "4455  /content/drive/MyDrive/Colab Notebooks/galaxy_...    0.024300\n",
              "4456  /content/drive/MyDrive/Colab Notebooks/galaxy_...    0.022220\n",
              "4457  /content/drive/MyDrive/Colab Notebooks/galaxy_...    0.005804\n",
              "\n",
              "[4458 rows x 2 columns]"
            ]
          },
          "metadata": {
            "tags": []
          },
          "execution_count": 4
        }
      ]
    },
    {
      "cell_type": "code",
      "metadata": {
        "id": "yapZIdD_FNya"
      },
      "source": [
        "import numpy as np\n",
        "cnt=0\n",
        "for row in train_df['z']:\n",
        "    try:\n",
        "        if row==-99.990000 or row==-100.000000 :\n",
        "          train_df.loc[cnt, 'z']=np.nan\n",
        "    except ValueError:\n",
        "        pass\n",
        "    cnt+=1"
      ],
      "execution_count": null,
      "outputs": []
    },
    {
      "cell_type": "code",
      "metadata": {
        "colab": {
          "base_uri": "https://localhost:8080/"
        },
        "id": "hH_92FIkFg4z",
        "outputId": "1ecb8c66-3195-4441-d551-8c7292a32048"
      },
      "source": [
        "train_df.isna().sum()"
      ],
      "execution_count": null,
      "outputs": [
        {
          "output_type": "execute_result",
          "data": {
            "text/plain": [
              "img_path       0\n",
              "z           1357\n",
              "dtype: int64"
            ]
          },
          "metadata": {
            "tags": []
          },
          "execution_count": 6
        }
      ]
    },
    {
      "cell_type": "code",
      "metadata": {
        "id": "lX5c8Kd2FwVl"
      },
      "source": [
        "# median = train_df['z'].median()\n",
        "# train_df['z'].fillna(median, inplace=True)\n",
        "train_df = train_df.dropna()"
      ],
      "execution_count": null,
      "outputs": []
    },
    {
      "cell_type": "code",
      "metadata": {
        "colab": {
          "base_uri": "https://localhost:8080/"
        },
        "id": "a3G3RdsXGCeN",
        "outputId": "a6736a32-3fde-45f9-bbfc-0f683bc3d6f0"
      },
      "source": [
        "train_df.isna().sum()"
      ],
      "execution_count": null,
      "outputs": [
        {
          "output_type": "execute_result",
          "data": {
            "text/plain": [
              "img_path    0\n",
              "z           0\n",
              "dtype: int64"
            ]
          },
          "metadata": {
            "tags": []
          },
          "execution_count": 8
        }
      ]
    },
    {
      "cell_type": "code",
      "metadata": {
        "id": "hDSH89sbHXVb"
      },
      "source": [
        "dataset=train_df.copy()"
      ],
      "execution_count": null,
      "outputs": []
    },
    {
      "cell_type": "code",
      "metadata": {
        "id": "svSe112sGFIJ"
      },
      "source": [
        "train_df = dataset.sample(frac=0.8, random_state=0)\n",
        "test_df = dataset.drop(train_df.index)"
      ],
      "execution_count": null,
      "outputs": []
    },
    {
      "cell_type": "code",
      "metadata": {
        "id": "dKnLWGZ7IEmu",
        "colab": {
          "base_uri": "https://localhost:8080/"
        },
        "outputId": "4a0a50e3-385a-4061-f5e2-ce12eb2b789f"
      },
      "source": [
        "datagen = ImageDataGenerator( \n",
        "            rescale=1./255.,\n",
        "            rotation_range=40,\n",
        "            width_shift_range=0.2,\n",
        "            height_shift_range=0.2,\n",
        "            shear_range=0.2,\n",
        "            zoom_range=0.2,\n",
        "            horizontal_flip=True,\n",
        "            validation_split=0.30,\n",
        "            fill_mode='nearest')\n",
        "\n",
        "train_generator=datagen.flow_from_dataframe(\n",
        "            dataframe=train_df,\n",
        "            directory=None,\n",
        "            x_col=\"img_path\",\n",
        "            y_col=\"z\",\n",
        "            subset=\"training\",\n",
        "            batch_size=64,\n",
        "            seed=42,\n",
        "            shuffle=True,\n",
        "            class_mode=\"other\",\n",
        "            target_size=(227,227))\n",
        "\n",
        "valid_generator=datagen.flow_from_dataframe(\n",
        "            dataframe=train_df,\n",
        "            directory=None,\n",
        "            x_col=\"img_path\",\n",
        "            y_col=\"z\",\n",
        "            subset=\"validation\",\n",
        "            batch_size=64,\n",
        "            seed=42,\n",
        "            class_mode=\"other\",\n",
        "            target_size=(227,227))\n",
        "\n",
        "test_datagen=ImageDataGenerator(rescale=1./255.)\n",
        "\n",
        "test_generator=test_datagen.flow_from_dataframe(\n",
        "            dataframe=test_df,\n",
        "            directory=None,\n",
        "            x_col=\"img_path\",\n",
        "            y_col=None,\n",
        "            batch_size=batch_size,\n",
        "            seed=42,\n",
        "            class_mode=None,\n",
        "            target_size=(227,227))           "
      ],
      "execution_count": null,
      "outputs": [
        {
          "output_type": "stream",
          "text": [
            "--- Logging error ---\n",
            "Traceback (most recent call last):\n",
            "  File \"/usr/lib/python3.7/logging/__init__.py\", line 1025, in emit\n",
            "    msg = self.format(record)\n",
            "  File \"/usr/lib/python3.7/logging/__init__.py\", line 869, in format\n",
            "    return fmt.format(record)\n",
            "  File \"/usr/lib/python3.7/logging/__init__.py\", line 608, in format\n",
            "    record.message = record.getMessage()\n",
            "  File \"/usr/lib/python3.7/logging/__init__.py\", line 369, in getMessage\n",
            "    msg = msg % self.args\n",
            "TypeError: not all arguments converted during string formatting\n",
            "Call stack:\n",
            "  File \"/usr/lib/python3.7/runpy.py\", line 193, in _run_module_as_main\n",
            "    \"__main__\", mod_spec)\n",
            "  File \"/usr/lib/python3.7/runpy.py\", line 85, in _run_code\n",
            "    exec(code, run_globals)\n",
            "  File \"/usr/local/lib/python3.7/dist-packages/ipykernel_launcher.py\", line 16, in <module>\n",
            "    app.launch_new_instance()\n",
            "  File \"/usr/local/lib/python3.7/dist-packages/traitlets/config/application.py\", line 845, in launch_instance\n",
            "    app.start()\n",
            "  File \"/usr/local/lib/python3.7/dist-packages/ipykernel/kernelapp.py\", line 499, in start\n",
            "    self.io_loop.start()\n",
            "  File \"/usr/local/lib/python3.7/dist-packages/tornado/platform/asyncio.py\", line 132, in start\n",
            "    self.asyncio_loop.run_forever()\n",
            "  File \"/usr/lib/python3.7/asyncio/base_events.py\", line 541, in run_forever\n",
            "    self._run_once()\n",
            "  File \"/usr/lib/python3.7/asyncio/base_events.py\", line 1786, in _run_once\n",
            "    handle._run()\n",
            "  File \"/usr/lib/python3.7/asyncio/events.py\", line 88, in _run\n",
            "    self._context.run(self._callback, *self._args)\n",
            "  File \"/usr/local/lib/python3.7/dist-packages/tornado/platform/asyncio.py\", line 122, in _handle_events\n",
            "    handler_func(fileobj, events)\n",
            "  File \"/usr/local/lib/python3.7/dist-packages/tornado/stack_context.py\", line 300, in null_wrapper\n",
            "    return fn(*args, **kwargs)\n",
            "  File \"/usr/local/lib/python3.7/dist-packages/zmq/eventloop/zmqstream.py\", line 451, in _handle_events\n",
            "    self._handle_recv()\n",
            "  File \"/usr/local/lib/python3.7/dist-packages/zmq/eventloop/zmqstream.py\", line 480, in _handle_recv\n",
            "    self._run_callback(callback, msg)\n",
            "  File \"/usr/local/lib/python3.7/dist-packages/zmq/eventloop/zmqstream.py\", line 434, in _run_callback\n",
            "    callback(*args, **kwargs)\n",
            "  File \"/usr/local/lib/python3.7/dist-packages/tornado/stack_context.py\", line 300, in null_wrapper\n",
            "    return fn(*args, **kwargs)\n",
            "  File \"/usr/local/lib/python3.7/dist-packages/ipykernel/kernelbase.py\", line 283, in dispatcher\n",
            "    return self.dispatch_shell(stream, msg)\n",
            "  File \"/usr/local/lib/python3.7/dist-packages/ipykernel/kernelbase.py\", line 233, in dispatch_shell\n",
            "    handler(stream, idents, msg)\n",
            "  File \"/usr/local/lib/python3.7/dist-packages/ipykernel/kernelbase.py\", line 399, in execute_request\n",
            "    user_expressions, allow_stdin)\n",
            "  File \"/usr/local/lib/python3.7/dist-packages/ipykernel/ipkernel.py\", line 208, in do_execute\n",
            "    res = shell.run_cell(code, store_history=store_history, silent=silent)\n",
            "  File \"/usr/local/lib/python3.7/dist-packages/ipykernel/zmqshell.py\", line 537, in run_cell\n",
            "    return super(ZMQInteractiveShell, self).run_cell(*args, **kwargs)\n",
            "  File \"/usr/local/lib/python3.7/dist-packages/IPython/core/interactiveshell.py\", line 2718, in run_cell\n",
            "    interactivity=interactivity, compiler=compiler, result=result)\n",
            "  File \"/usr/local/lib/python3.7/dist-packages/IPython/core/interactiveshell.py\", line 2822, in run_ast_nodes\n",
            "    if self.run_code(code, result):\n",
            "  File \"/usr/local/lib/python3.7/dist-packages/IPython/core/interactiveshell.py\", line 2882, in run_code\n",
            "    exec(code_obj, self.user_global_ns, self.user_ns)\n",
            "  File \"<ipython-input-11-595cb5c83fd1>\", line 22, in <module>\n",
            "    target_size=(227,227))\n",
            "  File \"/usr/local/lib/python3.7/dist-packages/tensorflow/python/keras/preprocessing/image.py\", line 1072, in flow_from_dataframe\n",
            "    '`class_mode` \"raw\".', DeprecationWarning)\n",
            "  File \"/usr/local/lib/python3.7/dist-packages/tensorflow/python/platform/tf_logging.py\", line 173, in warn\n",
            "    get_logger().warning(msg, *args, **kwargs)\n",
            "Message: '`class_mode` \"other\" is deprecated, please use `class_mode` \"raw\".'\n",
            "Arguments: (<class 'DeprecationWarning'>,)\n"
          ],
          "name": "stderr"
        },
        {
          "output_type": "stream",
          "text": [
            "Found 1737 validated image filenames.\n"
          ],
          "name": "stdout"
        },
        {
          "output_type": "stream",
          "text": [
            "--- Logging error ---\n",
            "Traceback (most recent call last):\n",
            "  File \"/usr/lib/python3.7/logging/__init__.py\", line 1025, in emit\n",
            "    msg = self.format(record)\n",
            "  File \"/usr/lib/python3.7/logging/__init__.py\", line 869, in format\n",
            "    return fmt.format(record)\n",
            "  File \"/usr/lib/python3.7/logging/__init__.py\", line 608, in format\n",
            "    record.message = record.getMessage()\n",
            "  File \"/usr/lib/python3.7/logging/__init__.py\", line 369, in getMessage\n",
            "    msg = msg % self.args\n",
            "TypeError: not all arguments converted during string formatting\n",
            "Call stack:\n",
            "  File \"/usr/lib/python3.7/runpy.py\", line 193, in _run_module_as_main\n",
            "    \"__main__\", mod_spec)\n",
            "  File \"/usr/lib/python3.7/runpy.py\", line 85, in _run_code\n",
            "    exec(code, run_globals)\n",
            "  File \"/usr/local/lib/python3.7/dist-packages/ipykernel_launcher.py\", line 16, in <module>\n",
            "    app.launch_new_instance()\n",
            "  File \"/usr/local/lib/python3.7/dist-packages/traitlets/config/application.py\", line 845, in launch_instance\n",
            "    app.start()\n",
            "  File \"/usr/local/lib/python3.7/dist-packages/ipykernel/kernelapp.py\", line 499, in start\n",
            "    self.io_loop.start()\n",
            "  File \"/usr/local/lib/python3.7/dist-packages/tornado/platform/asyncio.py\", line 132, in start\n",
            "    self.asyncio_loop.run_forever()\n",
            "  File \"/usr/lib/python3.7/asyncio/base_events.py\", line 541, in run_forever\n",
            "    self._run_once()\n",
            "  File \"/usr/lib/python3.7/asyncio/base_events.py\", line 1786, in _run_once\n",
            "    handle._run()\n",
            "  File \"/usr/lib/python3.7/asyncio/events.py\", line 88, in _run\n",
            "    self._context.run(self._callback, *self._args)\n",
            "  File \"/usr/local/lib/python3.7/dist-packages/tornado/platform/asyncio.py\", line 122, in _handle_events\n",
            "    handler_func(fileobj, events)\n",
            "  File \"/usr/local/lib/python3.7/dist-packages/tornado/stack_context.py\", line 300, in null_wrapper\n",
            "    return fn(*args, **kwargs)\n",
            "  File \"/usr/local/lib/python3.7/dist-packages/zmq/eventloop/zmqstream.py\", line 451, in _handle_events\n",
            "    self._handle_recv()\n",
            "  File \"/usr/local/lib/python3.7/dist-packages/zmq/eventloop/zmqstream.py\", line 480, in _handle_recv\n",
            "    self._run_callback(callback, msg)\n",
            "  File \"/usr/local/lib/python3.7/dist-packages/zmq/eventloop/zmqstream.py\", line 434, in _run_callback\n",
            "    callback(*args, **kwargs)\n",
            "  File \"/usr/local/lib/python3.7/dist-packages/tornado/stack_context.py\", line 300, in null_wrapper\n",
            "    return fn(*args, **kwargs)\n",
            "  File \"/usr/local/lib/python3.7/dist-packages/ipykernel/kernelbase.py\", line 283, in dispatcher\n",
            "    return self.dispatch_shell(stream, msg)\n",
            "  File \"/usr/local/lib/python3.7/dist-packages/ipykernel/kernelbase.py\", line 233, in dispatch_shell\n",
            "    handler(stream, idents, msg)\n",
            "  File \"/usr/local/lib/python3.7/dist-packages/ipykernel/kernelbase.py\", line 399, in execute_request\n",
            "    user_expressions, allow_stdin)\n",
            "  File \"/usr/local/lib/python3.7/dist-packages/ipykernel/ipkernel.py\", line 208, in do_execute\n",
            "    res = shell.run_cell(code, store_history=store_history, silent=silent)\n",
            "  File \"/usr/local/lib/python3.7/dist-packages/ipykernel/zmqshell.py\", line 537, in run_cell\n",
            "    return super(ZMQInteractiveShell, self).run_cell(*args, **kwargs)\n",
            "  File \"/usr/local/lib/python3.7/dist-packages/IPython/core/interactiveshell.py\", line 2718, in run_cell\n",
            "    interactivity=interactivity, compiler=compiler, result=result)\n",
            "  File \"/usr/local/lib/python3.7/dist-packages/IPython/core/interactiveshell.py\", line 2822, in run_ast_nodes\n",
            "    if self.run_code(code, result):\n",
            "  File \"/usr/local/lib/python3.7/dist-packages/IPython/core/interactiveshell.py\", line 2882, in run_code\n",
            "    exec(code_obj, self.user_global_ns, self.user_ns)\n",
            "  File \"<ipython-input-11-595cb5c83fd1>\", line 33, in <module>\n",
            "    target_size=(227,227))\n",
            "  File \"/usr/local/lib/python3.7/dist-packages/tensorflow/python/keras/preprocessing/image.py\", line 1072, in flow_from_dataframe\n",
            "    '`class_mode` \"raw\".', DeprecationWarning)\n",
            "  File \"/usr/local/lib/python3.7/dist-packages/tensorflow/python/platform/tf_logging.py\", line 173, in warn\n",
            "    get_logger().warning(msg, *args, **kwargs)\n",
            "Message: '`class_mode` \"other\" is deprecated, please use `class_mode` \"raw\".'\n",
            "Arguments: (<class 'DeprecationWarning'>,)\n"
          ],
          "name": "stderr"
        },
        {
          "output_type": "stream",
          "text": [
            "Found 744 validated image filenames.\n",
            "Found 620 validated image filenames.\n"
          ],
          "name": "stdout"
        }
      ]
    },
    {
      "cell_type": "code",
      "metadata": {
        "id": "oSJtEm8AKO79"
      },
      "source": [
        "from keras.callbacks import EarlyStopping\n",
        "earlystopper = EarlyStopping(monitor='val_loss', min_delta=0, patience=8, verbose=1, mode='auto')\n",
        "\n",
        "# class myCallback(tf.keras.callbacks.Callback): \n",
        "#     def on_epoch_end(self, epoch, logs={}): \n",
        "#         if(logs.get('loss') < 0.001):   \n",
        "#           print(\"\\nReached %2.2f%% loss, so stopping training!!\" %(0.001*100))   \n",
        "#           self.model.stop_training = True\n",
        "\n",
        "# callbacks = myCallback()"
      ],
      "execution_count": null,
      "outputs": []
    },
    {
      "cell_type": "code",
      "metadata": {
        "colab": {
          "base_uri": "https://localhost:8080/"
        },
        "id": "PTG2RHRuMjY7",
        "outputId": "7a49f0d4-46ac-4911-9297-5da1fe50420d"
      },
      "source": [
        "history = model.fit(train_generator,\n",
        "                    validation_data=valid_generator,\n",
        "                    epochs=40,\n",
        "                    steps_per_epoch=10,\n",
        "                    verbose=1,\n",
        "                    callbacks=[earlystopper])"
      ],
      "execution_count": null,
      "outputs": [
        {
          "output_type": "stream",
          "text": [
            "Epoch 1/40\n",
            "10/10 [==============================] - 299s 31s/step - loss: 90.0800 - mse: 90.0800 - mae: 3.3200 - val_loss: 0.0385 - val_mse: 0.0385 - val_mae: 0.1876\n",
            "Epoch 2/40\n",
            "10/10 [==============================] - 131s 13s/step - loss: 0.0401 - mse: 0.0401 - mae: 0.1411 - val_loss: 0.0054 - val_mse: 0.0054 - val_mae: 0.0483\n",
            "Epoch 3/40\n",
            "10/10 [==============================] - 126s 13s/step - loss: 0.0135 - mse: 0.0135 - mae: 0.0571 - val_loss: 0.0035 - val_mse: 0.0035 - val_mae: 0.0226\n",
            "Epoch 4/40\n",
            "10/10 [==============================] - 120s 12s/step - loss: 0.0016 - mse: 0.0016 - mae: 0.0308 - val_loss: 0.0035 - val_mse: 0.0035 - val_mae: 0.0240\n",
            "Epoch 5/40\n",
            "10/10 [==============================] - 124s 13s/step - loss: 0.1252 - mse: 0.1252 - mae: 0.0522 - val_loss: 0.0031 - val_mse: 0.0031 - val_mae: 0.0157\n",
            "Epoch 6/40\n",
            "10/10 [==============================] - 134s 14s/step - loss: 0.0211 - mse: 0.0211 - mae: 0.0343 - val_loss: 0.0031 - val_mse: 0.0031 - val_mae: 0.0153\n",
            "Epoch 7/40\n",
            "10/10 [==============================] - 124s 13s/step - loss: 0.0051 - mse: 0.0051 - mae: 0.0285 - val_loss: 0.0033 - val_mse: 0.0033 - val_mae: 0.0202\n",
            "Epoch 8/40\n",
            "10/10 [==============================] - 116s 12s/step - loss: 0.0165 - mse: 0.0165 - mae: 0.0361 - val_loss: 0.0032 - val_mse: 0.0032 - val_mae: 0.0177\n",
            "Epoch 9/40\n",
            "10/10 [==============================] - 122s 12s/step - loss: 9.0990e-04 - mse: 9.0990e-04 - mae: 0.0235 - val_loss: 0.0035 - val_mse: 0.0035 - val_mae: 0.0237\n",
            "Epoch 10/40\n",
            "10/10 [==============================] - 115s 12s/step - loss: 0.0017 - mse: 0.0017 - mae: 0.0232 - val_loss: 0.0034 - val_mse: 0.0034 - val_mae: 0.0225\n",
            "Epoch 11/40\n",
            "10/10 [==============================] - 125s 13s/step - loss: 0.0650 - mse: 0.0650 - mae: 0.0346 - val_loss: 0.0033 - val_mse: 0.0033 - val_mae: 0.0208\n",
            "Epoch 12/40\n",
            "10/10 [==============================] - 123s 13s/step - loss: 0.0049 - mse: 0.0049 - mae: 0.0235 - val_loss: 0.0032 - val_mse: 0.0032 - val_mae: 0.0180\n",
            "Epoch 13/40\n",
            "10/10 [==============================] - 116s 12s/step - loss: 0.0103 - mse: 0.0103 - mae: 0.0273 - val_loss: 0.0034 - val_mse: 0.0034 - val_mae: 0.0219\n",
            "Epoch 14/40\n",
            "10/10 [==============================] - 116s 12s/step - loss: 0.0065 - mse: 0.0065 - mae: 0.0243 - val_loss: 0.0032 - val_mse: 0.0032 - val_mae: 0.0182\n",
            "Epoch 00014: early stopping\n"
          ],
          "name": "stdout"
        }
      ]
    },
    {
      "cell_type": "code",
      "metadata": {
        "colab": {
          "base_uri": "https://localhost:8080/",
          "height": 483
        },
        "id": "EMJRMv_EzyKa",
        "outputId": "a8e68771-7e4b-4333-eb01-46edcbaa1ea9"
      },
      "source": [
        "hist = pd.DataFrame(history.history)\n",
        "hist['epoch'] = history.epoch\n",
        "hist"
      ],
      "execution_count": null,
      "outputs": [
        {
          "output_type": "execute_result",
          "data": {
            "text/html": [
              "<div>\n",
              "<style scoped>\n",
              "    .dataframe tbody tr th:only-of-type {\n",
              "        vertical-align: middle;\n",
              "    }\n",
              "\n",
              "    .dataframe tbody tr th {\n",
              "        vertical-align: top;\n",
              "    }\n",
              "\n",
              "    .dataframe thead th {\n",
              "        text-align: right;\n",
              "    }\n",
              "</style>\n",
              "<table border=\"1\" class=\"dataframe\">\n",
              "  <thead>\n",
              "    <tr style=\"text-align: right;\">\n",
              "      <th></th>\n",
              "      <th>loss</th>\n",
              "      <th>mse</th>\n",
              "      <th>mae</th>\n",
              "      <th>val_loss</th>\n",
              "      <th>val_mse</th>\n",
              "      <th>val_mae</th>\n",
              "      <th>epoch</th>\n",
              "    </tr>\n",
              "  </thead>\n",
              "  <tbody>\n",
              "    <tr>\n",
              "      <th>0</th>\n",
              "      <td>48.850788</td>\n",
              "      <td>48.850788</td>\n",
              "      <td>1.865529</td>\n",
              "      <td>0.038543</td>\n",
              "      <td>0.038543</td>\n",
              "      <td>0.187589</td>\n",
              "      <td>0</td>\n",
              "    </tr>\n",
              "    <tr>\n",
              "      <th>1</th>\n",
              "      <td>0.039222</td>\n",
              "      <td>0.039222</td>\n",
              "      <td>0.125683</td>\n",
              "      <td>0.005377</td>\n",
              "      <td>0.005377</td>\n",
              "      <td>0.048322</td>\n",
              "      <td>1</td>\n",
              "    </tr>\n",
              "    <tr>\n",
              "      <th>2</th>\n",
              "      <td>0.013913</td>\n",
              "      <td>0.013913</td>\n",
              "      <td>0.046198</td>\n",
              "      <td>0.003479</td>\n",
              "      <td>0.003479</td>\n",
              "      <td>0.022620</td>\n",
              "      <td>2</td>\n",
              "    </tr>\n",
              "    <tr>\n",
              "      <th>3</th>\n",
              "      <td>0.001563</td>\n",
              "      <td>0.001563</td>\n",
              "      <td>0.029819</td>\n",
              "      <td>0.003488</td>\n",
              "      <td>0.003488</td>\n",
              "      <td>0.023976</td>\n",
              "      <td>3</td>\n",
              "    </tr>\n",
              "    <tr>\n",
              "      <th>4</th>\n",
              "      <td>0.052996</td>\n",
              "      <td>0.052996</td>\n",
              "      <td>0.039389</td>\n",
              "      <td>0.003138</td>\n",
              "      <td>0.003138</td>\n",
              "      <td>0.015730</td>\n",
              "      <td>4</td>\n",
              "    </tr>\n",
              "    <tr>\n",
              "      <th>5</th>\n",
              "      <td>0.047068</td>\n",
              "      <td>0.047068</td>\n",
              "      <td>0.038535</td>\n",
              "      <td>0.003091</td>\n",
              "      <td>0.003091</td>\n",
              "      <td>0.015315</td>\n",
              "      <td>5</td>\n",
              "    </tr>\n",
              "    <tr>\n",
              "      <th>6</th>\n",
              "      <td>0.008687</td>\n",
              "      <td>0.008687</td>\n",
              "      <td>0.030159</td>\n",
              "      <td>0.003290</td>\n",
              "      <td>0.003290</td>\n",
              "      <td>0.020244</td>\n",
              "      <td>6</td>\n",
              "    </tr>\n",
              "    <tr>\n",
              "      <th>7</th>\n",
              "      <td>0.010476</td>\n",
              "      <td>0.010476</td>\n",
              "      <td>0.035228</td>\n",
              "      <td>0.003221</td>\n",
              "      <td>0.003221</td>\n",
              "      <td>0.017702</td>\n",
              "      <td>7</td>\n",
              "    </tr>\n",
              "    <tr>\n",
              "      <th>8</th>\n",
              "      <td>0.001043</td>\n",
              "      <td>0.001043</td>\n",
              "      <td>0.023502</td>\n",
              "      <td>0.003502</td>\n",
              "      <td>0.003502</td>\n",
              "      <td>0.023721</td>\n",
              "      <td>8</td>\n",
              "    </tr>\n",
              "    <tr>\n",
              "      <th>9</th>\n",
              "      <td>0.001339</td>\n",
              "      <td>0.001339</td>\n",
              "      <td>0.022524</td>\n",
              "      <td>0.003446</td>\n",
              "      <td>0.003446</td>\n",
              "      <td>0.022519</td>\n",
              "      <td>9</td>\n",
              "    </tr>\n",
              "    <tr>\n",
              "      <th>10</th>\n",
              "      <td>0.049660</td>\n",
              "      <td>0.049660</td>\n",
              "      <td>0.030804</td>\n",
              "      <td>0.003343</td>\n",
              "      <td>0.003343</td>\n",
              "      <td>0.020815</td>\n",
              "      <td>10</td>\n",
              "    </tr>\n",
              "    <tr>\n",
              "      <th>11</th>\n",
              "      <td>0.009229</td>\n",
              "      <td>0.009229</td>\n",
              "      <td>0.024369</td>\n",
              "      <td>0.003190</td>\n",
              "      <td>0.003190</td>\n",
              "      <td>0.018037</td>\n",
              "      <td>11</td>\n",
              "    </tr>\n",
              "    <tr>\n",
              "      <th>12</th>\n",
              "      <td>0.011558</td>\n",
              "      <td>0.011558</td>\n",
              "      <td>0.027276</td>\n",
              "      <td>0.003421</td>\n",
              "      <td>0.003421</td>\n",
              "      <td>0.021879</td>\n",
              "      <td>12</td>\n",
              "    </tr>\n",
              "    <tr>\n",
              "      <th>13</th>\n",
              "      <td>0.010360</td>\n",
              "      <td>0.010360</td>\n",
              "      <td>0.025808</td>\n",
              "      <td>0.003194</td>\n",
              "      <td>0.003194</td>\n",
              "      <td>0.018216</td>\n",
              "      <td>13</td>\n",
              "    </tr>\n",
              "  </tbody>\n",
              "</table>\n",
              "</div>"
            ],
            "text/plain": [
              "         loss        mse       mae  val_loss   val_mse   val_mae  epoch\n",
              "0   48.850788  48.850788  1.865529  0.038543  0.038543  0.187589      0\n",
              "1    0.039222   0.039222  0.125683  0.005377  0.005377  0.048322      1\n",
              "2    0.013913   0.013913  0.046198  0.003479  0.003479  0.022620      2\n",
              "3    0.001563   0.001563  0.029819  0.003488  0.003488  0.023976      3\n",
              "4    0.052996   0.052996  0.039389  0.003138  0.003138  0.015730      4\n",
              "5    0.047068   0.047068  0.038535  0.003091  0.003091  0.015315      5\n",
              "6    0.008687   0.008687  0.030159  0.003290  0.003290  0.020244      6\n",
              "7    0.010476   0.010476  0.035228  0.003221  0.003221  0.017702      7\n",
              "8    0.001043   0.001043  0.023502  0.003502  0.003502  0.023721      8\n",
              "9    0.001339   0.001339  0.022524  0.003446  0.003446  0.022519      9\n",
              "10   0.049660   0.049660  0.030804  0.003343  0.003343  0.020815     10\n",
              "11   0.009229   0.009229  0.024369  0.003190  0.003190  0.018037     11\n",
              "12   0.011558   0.011558  0.027276  0.003421  0.003421  0.021879     12\n",
              "13   0.010360   0.010360  0.025808  0.003194  0.003194  0.018216     13"
            ]
          },
          "metadata": {
            "tags": []
          },
          "execution_count": 14
        }
      ]
    },
    {
      "cell_type": "code",
      "metadata": {
        "id": "WODIrGEMqSgL"
      },
      "source": [
        "\n",
        "import matplotlib.pyplot as plt\n",
        "%matplotlib inline\n",
        "def plot_loss(history):\n",
        "  plt.plot(history.history['loss'], label='loss')\n",
        "  plt.plot(history.history['val_loss'], label='val_loss')\n",
        "  plt.xlabel('Epoch')\n",
        "  plt.ylabel('Error [z]')\n",
        "  plt.legend()\n",
        "  plt.grid(True)\n",
        "\n",
        "  hist = pd.DataFrame(history.history)\n",
        "  hist['epoch'] = history.epoch\n",
        "\n",
        "  plt.figure()\n",
        "  plt.xlabel('Epoch')\n",
        "  plt.ylabel('Mean Abs Err [z]')\n",
        "  plt.plot(hist['epoch'], hist['mae'], label='Train Error')\n",
        "  plt.plot(hist['epoch'], hist['val_mae'], label='Val Error')\n",
        "  plt.legend()\n",
        "\n",
        "  plt.figure()\n",
        "  plt.xlabel('Epoch')\n",
        "  plt.ylabel('Mean Squared Err [$z^2$]')\n",
        "  plt.plot(hist['epoch'], hist['mse'], label='Train Error')\n",
        "  plt.plot(hist['epoch'], hist['val_mse'], label='Val Error')\n",
        "  plt.legend()\n",
        "\n"
      ],
      "execution_count": null,
      "outputs": []
    },
    {
      "cell_type": "code",
      "metadata": {
        "colab": {
          "base_uri": "https://localhost:8080/",
          "height": 803
        },
        "id": "KMvc4ljur5sJ",
        "outputId": "9cdb170a-3fdc-4c3d-c995-1f5de4720a9c"
      },
      "source": [
        "plot_loss(history)"
      ],
      "execution_count": null,
      "outputs": [
        {
          "output_type": "display_data",
          "data": {
            "image/png": "[encoded data removed]",
            "text/plain": [
              "<Figure size 432x288 with 1 Axes>"
            ]
          },
          "metadata": {
            "tags": [],
            "needs_background": "light"
          }
        },
        {
          "output_type": "display_data",
          "data": {
            "image/png": "[encoded data removed]",
            "text/plain": [
              "<Figure size 432x288 with 1 Axes>"
            ]
          },
          "metadata": {
            "tags": [],
            "needs_background": "light"
          }
        },
        {
          "output_type": "display_data",
          "data": {
            "image/png": "[encoded data removed]",
            "text/plain": [
              "<Figure size 432x288 with 1 Axes>"
            ]
          },
          "metadata": {
            "tags": [],
            "needs_background": "light"
          }
        }
      ]
    },
    {
      "cell_type": "code",
      "metadata": {
        "colab": {
          "base_uri": "https://localhost:8080/"
        },
        "id": "iRmPJcC3BUhZ",
        "outputId": "4883b3bb-e346-4a7a-b133-79104d9d8afd"
      },
      "source": [
        "model.save(\"/content/drive/MyDrive/Colab Notebooks/Zmodel_normal\")"
      ],
      "execution_count": null,
      "outputs": [
        {
          "output_type": "stream",
          "text": [
            "WARNING:tensorflow:From /usr/local/lib/python3.6/dist-packages/tensorflow/python/training/tracking/tracking.py:111: Model.state_updates (from tensorflow.python.keras.engine.training) is deprecated and will be removed in a future version.\n",
            "Instructions for updating:\n",
            "This property should not be used in TensorFlow 2.0, as updates are applied automatically.\n",
            "WARNING:tensorflow:From /usr/local/lib/python3.6/dist-packages/tensorflow/python/training/tracking/tracking.py:111: Layer.updates (from tensorflow.python.keras.engine.base_layer) is deprecated and will be removed in a future version.\n",
            "Instructions for updating:\n",
            "This property should not be used in TensorFlow 2.0, as updates are applied automatically.\n",
            "INFO:tensorflow:Assets written to: /content/drive/MyDrive/Colab Notebooks/Zmodel_normal/assets\n"
          ],
          "name": "stdout"
        }
      ]
    },
    {
      "cell_type": "code",
      "metadata": {
        "id": "eGE8I5ANCAjF"
      },
      "source": [
        "test_features = test_df.copy()\n",
        "test_labels = test_features.pop('z')"
      ],
      "execution_count": null,
      "outputs": []
    },
    {
      "cell_type": "code",
      "metadata": {
        "id": "SIw6oLvNEkxQ"
      },
      "source": [
        "test_predictions = model.predict(test_generator)\n"
      ],
      "execution_count": null,
      "outputs": []
    },
    {
      "cell_type": "code",
      "metadata": {
        "colab": {
          "base_uri": "https://localhost:8080/"
        },
        "id": "LshLdIUQrdy4",
        "outputId": "acaa66bc-56ea-478e-97ac-dc730af53ea9"
      },
      "source": [
        "test_predictions"
      ],
      "execution_count": null,
      "outputs": [
        {
          "output_type": "execute_result",
          "data": {
            "text/plain": [
              "array([[0.02446024],\n",
              "       [0.02446024],\n",
              "       [0.02446024],\n",
              "       [0.02446024],\n",
              "       [0.02446024],\n",
              "       [0.02446024],\n",
              "       [0.02446024],\n",
              "       [0.02446024],\n",
              "       [0.02446024],\n",
              "       [0.02446024],\n",
              "       [0.02446024],\n",
              "       [0.02446024],\n",
              "       [0.02446024],\n",
              "       [0.02446024],\n",
              "       [0.02446024],\n",
              "       [0.02446024],\n",
              "       [0.02446024],\n",
              "       [0.02446024],\n",
              "       [0.02446024],\n",
              "       [0.02446024],\n",
              "       [0.02446024],\n",
              "       [0.02446024],\n",
              "       [0.02446024],\n",
              "       [0.02446024],\n",
              "       [0.02446024],\n",
              "       [0.02446024],\n",
              "       [0.02446024],\n",
              "       [0.02446024],\n",
              "       [0.02446024],\n",
              "       [0.02446024],\n",
              "       [0.02446024],\n",
              "       [0.02446024],\n",
              "       [0.02446024],\n",
              "       [0.02446024],\n",
              "       [0.02446024],\n",
              "       [0.02446024],\n",
              "       [0.02446024],\n",
              "       [0.02446024],\n",
              "       [0.02446024],\n",
              "       [0.02446024],\n",
              "       [0.02446024],\n",
              "       [0.02446024],\n",
              "       [0.02446024],\n",
              "       [0.02446024],\n",
              "       [0.02446024],\n",
              "       [0.02446024],\n",
              "       [0.02446024],\n",
              "       [0.02446024],\n",
              "       [0.02446024],\n",
              "       [0.02446024],\n",
              "       [0.02446024],\n",
              "       [0.02446024],\n",
              "       [0.02446024],\n",
              "       [0.02446024],\n",
              "       [0.02446024],\n",
              "       [0.02446024],\n",
              "       [0.02446024],\n",
              "       [0.02446024],\n",
              "       [0.02446024],\n",
              "       [0.02446024],\n",
              "       [0.02446024],\n",
              "       [0.02446024],\n",
              "       [0.02446024],\n",
              "       [0.02446024],\n",
              "       [0.02446024],\n",
              "       [0.02446024],\n",
              "       [0.02446024],\n",
              "       [0.02446024],\n",
              "       [0.02446024],\n",
              "       [0.02446024],\n",
              "       [0.02446024],\n",
              "       [0.02446024],\n",
              "       [0.02446024],\n",
              "       [0.02446024],\n",
              "       [0.02446024],\n",
              "       [0.02446024],\n",
              "       [0.02446024],\n",
              "       [0.02446024],\n",
              "       [0.02446024],\n",
              "       [0.02446024],\n",
              "       [0.02446024],\n",
              "       [0.02446024],\n",
              "       [0.02446024],\n",
              "       [0.02446024],\n",
              "       [0.02446024],\n",
              "       [0.02446024],\n",
              "       [0.02446024],\n",
              "       [0.02446024],\n",
              "       [0.02446024],\n",
              "       [0.02446024],\n",
              "       [0.02446024],\n",
              "       [0.02446024],\n",
              "       [0.02446024],\n",
              "       [0.02446024],\n",
              "       [0.02446024],\n",
              "       [0.02446024],\n",
              "       [0.02446024],\n",
              "       [0.02446024],\n",
              "       [0.02446024],\n",
              "       [0.02446024],\n",
              "       [0.02446024],\n",
              "       [0.02446024],\n",
              "       [0.02446024],\n",
              "       [0.02446024],\n",
              "       [0.02446024],\n",
              "       [0.02446024],\n",
              "       [0.02446024],\n",
              "       [0.02446024],\n",
              "       [0.02446024],\n",
              "       [0.02446024],\n",
              "       [0.02446024],\n",
              "       [0.02446024],\n",
              "       [0.02446024],\n",
              "       [0.02446024],\n",
              "       [0.02446024],\n",
              "       [0.02446024],\n",
              "       [0.02446024],\n",
              "       [0.02446024],\n",
              "       [0.02446024],\n",
              "       [0.02446024],\n",
              "       [0.02446024],\n",
              "       [0.02446024],\n",
              "       [0.02446024],\n",
              "       [0.02446024],\n",
              "       [0.02446024],\n",
              "       [0.02446024],\n",
              "       [0.02446024],\n",
              "       [0.02446024],\n",
              "       [0.02446024],\n",
              "       [0.02446024],\n",
              "       [0.02446024],\n",
              "       [0.02446024],\n",
              "       [0.02446024],\n",
              "       [0.02446024],\n",
              "       [0.02446024],\n",
              "       [0.02446024],\n",
              "       [0.02446024],\n",
              "       [0.02446024],\n",
              "       [0.02446024],\n",
              "       [0.02446024],\n",
              "       [0.02446024],\n",
              "       [0.02446024],\n",
              "       [0.02446024],\n",
              "       [0.02446024],\n",
              "       [0.02446024],\n",
              "       [0.02446024],\n",
              "       [0.02446024],\n",
              "       [0.02446024],\n",
              "       [0.02446024],\n",
              "       [0.02446024],\n",
              "       [0.02446024],\n",
              "       [0.02446024],\n",
              "       [0.02446024],\n",
              "       [0.02446024],\n",
              "       [0.02446024],\n",
              "       [0.02446024],\n",
              "       [0.02446024],\n",
              "       [0.02446024],\n",
              "       [0.02446024],\n",
              "       [0.02446024],\n",
              "       [0.02446024],\n",
              "       [0.02446024],\n",
              "       [0.02446024],\n",
              "       [0.02446024],\n",
              "       [0.02446024],\n",
              "       [0.02446024],\n",
              "       [0.02446024],\n",
              "       [0.02446024],\n",
              "       [0.02446024],\n",
              "       [0.02446024],\n",
              "       [0.02446024],\n",
              "       [0.02446024],\n",
              "       [0.02446024],\n",
              "       [0.02446024],\n",
              "       [0.02446024],\n",
              "       [0.02446024],\n",
              "       [0.02446024],\n",
              "       [0.02446024],\n",
              "       [0.02446024],\n",
              "       [0.02446024],\n",
              "       [0.02446024],\n",
              "       [0.02446024],\n",
              "       [0.02446024],\n",
              "       [0.02446024],\n",
              "       [0.02446024],\n",
              "       [0.02446024],\n",
              "       [0.02446024],\n",
              "       [0.02446024],\n",
              "       [0.02446024],\n",
              "       [0.02446024],\n",
              "       [0.02446024],\n",
              "       [0.02446024],\n",
              "       [0.02446024],\n",
              "       [0.02446024],\n",
              "       [0.02446024],\n",
              "       [0.02446024],\n",
              "       [0.02446024],\n",
              "       [0.02446024],\n",
              "       [0.02446024],\n",
              "       [0.02446024],\n",
              "       [0.02446024],\n",
              "       [0.02446024],\n",
              "       [0.02446024],\n",
              "       [0.02446024],\n",
              "       [0.02446024],\n",
              "       [0.02446024],\n",
              "       [0.02446024],\n",
              "       [0.02446024],\n",
              "       [0.02446024],\n",
              "       [0.02446024],\n",
              "       [0.02446024],\n",
              "       [0.02446024],\n",
              "       [0.02446024],\n",
              "       [0.02446024],\n",
              "       [0.02446024],\n",
              "       [0.02446024],\n",
              "       [0.02446024],\n",
              "       [0.02446024],\n",
              "       [0.02446024],\n",
              "       [0.02446024],\n",
              "       [0.02446024],\n",
              "       [0.02446024],\n",
              "       [0.02446024],\n",
              "       [0.02446024],\n",
              "       [0.02446024],\n",
              "       [0.02446024],\n",
              "       [0.02446024],\n",
              "       [0.02446024],\n",
              "       [0.02446024],\n",
              "       [0.02446024],\n",
              "       [0.02446024],\n",
              "       [0.02446024],\n",
              "       [0.02446024],\n",
              "       [0.02446024],\n",
              "       [0.02446024],\n",
              "       [0.02446024],\n",
              "       [0.02446024],\n",
              "       [0.02446024],\n",
              "       [0.02446024],\n",
              "       [0.02446024],\n",
              "       [0.02446024],\n",
              "       [0.02446024],\n",
              "       [0.02446024],\n",
              "       [0.02446024],\n",
              "       [0.02446024],\n",
              "       [0.02446024],\n",
              "       [0.02446024],\n",
              "       [0.02446024],\n",
              "       [0.02446024],\n",
              "       [0.02446024],\n",
              "       [0.02446024],\n",
              "       [0.02446024],\n",
              "       [0.02446024],\n",
              "       [0.02446024],\n",
              "       [0.02446024],\n",
              "       [0.02446024],\n",
              "       [0.02446024],\n",
              "       [0.02446024],\n",
              "       [0.02446024],\n",
              "       [0.02446024],\n",
              "       [0.02446024],\n",
              "       [0.02446024],\n",
              "       [0.02446024],\n",
              "       [0.02446024],\n",
              "       [0.02446024],\n",
              "       [0.02446024],\n",
              "       [0.02446024],\n",
              "       [0.02446024],\n",
              "       [0.02446024],\n",
              "       [0.02446024],\n",
              "       [0.02446024],\n",
              "       [0.02446024],\n",
              "       [0.02446024],\n",
              "       [0.02446024],\n",
              "       [0.02446024],\n",
              "       [0.02446024],\n",
              "       [0.02446024],\n",
              "       [0.02446024],\n",
              "       [0.02446024],\n",
              "       [0.02446024],\n",
              "       [0.02446024],\n",
              "       [0.02446024],\n",
              "       [0.02446024],\n",
              "       [0.02446024],\n",
              "       [0.02446024],\n",
              "       [0.02446024],\n",
              "       [0.02446024],\n",
              "       [0.02446024],\n",
              "       [0.02446024],\n",
              "       [0.02446024],\n",
              "       [0.02446024],\n",
              "       [0.02446024],\n",
              "       [0.02446024],\n",
              "       [0.02446024],\n",
              "       [0.02446024],\n",
              "       [0.02446024],\n",
              "       [0.02446024],\n",
              "       [0.02446024],\n",
              "       [0.02446024],\n",
              "       [0.02446024],\n",
              "       [0.02446024],\n",
              "       [0.02446024],\n",
              "       [0.02446024],\n",
              "       [0.02446024],\n",
              "       [0.02446024],\n",
              "       [0.02446024],\n",
              "       [0.02446024],\n",
              "       [0.02446024],\n",
              "       [0.02446024],\n",
              "       [0.02446024],\n",
              "       [0.02446024],\n",
              "       [0.02446024],\n",
              "       [0.02446024],\n",
              "       [0.02446024],\n",
              "       [0.02446024],\n",
              "       [0.02446024],\n",
              "       [0.02446024],\n",
              "       [0.02446024],\n",
              "       [0.02446024],\n",
              "       [0.02446024],\n",
              "       [0.02446024],\n",
              "       [0.02446024],\n",
              "       [0.02446024],\n",
              "       [0.02446024],\n",
              "       [0.02446024],\n",
              "       [0.02446024],\n",
              "       [0.02446024],\n",
              "       [0.02446024],\n",
              "       [0.02446024],\n",
              "       [0.02446024],\n",
              "       [0.02446024],\n",
              "       [0.02446024],\n",
              "       [0.02446024],\n",
              "       [0.02446024],\n",
              "       [0.02446024],\n",
              "       [0.02446024],\n",
              "       [0.02446024],\n",
              "       [0.02446024],\n",
              "       [0.02446024],\n",
              "       [0.02446024],\n",
              "       [0.02446024],\n",
              "       [0.02446024],\n",
              "       [0.02446024],\n",
              "       [0.02446024],\n",
              "       [0.02446024],\n",
              "       [0.02446024],\n",
              "       [0.02446024],\n",
              "       [0.02446024],\n",
              "       [0.02446024],\n",
              "       [0.02446024],\n",
              "       [0.02446024],\n",
              "       [0.02446024],\n",
              "       [0.02446024],\n",
              "       [0.02446024],\n",
              "       [0.02446024],\n",
              "       [0.02446024],\n",
              "       [0.02446024],\n",
              "       [0.02446024],\n",
              "       [0.02446024],\n",
              "       [0.02446024],\n",
              "       [0.02446024],\n",
              "       [0.02446024],\n",
              "       [0.02446024],\n",
              "       [0.02446024],\n",
              "       [0.02446024],\n",
              "       [0.02446024],\n",
              "       [0.02446024],\n",
              "       [0.02446024],\n",
              "       [0.02446024],\n",
              "       [0.02446024],\n",
              "       [0.02446024],\n",
              "       [0.02446024],\n",
              "       [0.02446024],\n",
              "       [0.02446024],\n",
              "       [0.02446024],\n",
              "       [0.02446024],\n",
              "       [0.02446024],\n",
              "       [0.02446024],\n",
              "       [0.02446024],\n",
              "       [0.02446024],\n",
              "       [0.02446024],\n",
              "       [0.02446024],\n",
              "       [0.02446024],\n",
              "       [0.02446024],\n",
              "       [0.02446024],\n",
              "       [0.02446024],\n",
              "       [0.02446024],\n",
              "       [0.02446024],\n",
              "       [0.02446024],\n",
              "       [0.02446024],\n",
              "       [0.02446024],\n",
              "       [0.02446024],\n",
              "       [0.02446024],\n",
              "       [0.02446024],\n",
              "       [0.02446024],\n",
              "       [0.02446024],\n",
              "       [0.02446024],\n",
              "       [0.02446024],\n",
              "       [0.02446024],\n",
              "       [0.02446024],\n",
              "       [0.02446024],\n",
              "       [0.02446024],\n",
              "       [0.02446024],\n",
              "       [0.02446024],\n",
              "       [0.02446024],\n",
              "       [0.02446024],\n",
              "       [0.02446024],\n",
              "       [0.02446024],\n",
              "       [0.02446024],\n",
              "       [0.02446024],\n",
              "       [0.02446024],\n",
              "       [0.02446024],\n",
              "       [0.02446024],\n",
              "       [0.02446024],\n",
              "       [0.02446024],\n",
              "       [0.02446024],\n",
              "       [0.02446024],\n",
              "       [0.02446024],\n",
              "       [0.02446024],\n",
              "       [0.02446024],\n",
              "       [0.02446024],\n",
              "       [0.02446024],\n",
              "       [0.02446024],\n",
              "       [0.02446024],\n",
              "       [0.02446024],\n",
              "       [0.02446024],\n",
              "       [0.02446024],\n",
              "       [0.02446024],\n",
              "       [0.02446024],\n",
              "       [0.02446024],\n",
              "       [0.02446024],\n",
              "       [0.02446024],\n",
              "       [0.02446024],\n",
              "       [0.02446024],\n",
              "       [0.02446024],\n",
              "       [0.02446024],\n",
              "       [0.02446024],\n",
              "       [0.02446024],\n",
              "       [0.02446024],\n",
              "       [0.02446024],\n",
              "       [0.02446024],\n",
              "       [0.02446024],\n",
              "       [0.02446024],\n",
              "       [0.02446024],\n",
              "       [0.02446024],\n",
              "       [0.02446024],\n",
              "       [0.02446024],\n",
              "       [0.02446024],\n",
              "       [0.02446024],\n",
              "       [0.02446024],\n",
              "       [0.02446024],\n",
              "       [0.02446024],\n",
              "       [0.02446024],\n",
              "       [0.02446024],\n",
              "       [0.02446024],\n",
              "       [0.02446024],\n",
              "       [0.02446024],\n",
              "       [0.02446024],\n",
              "       [0.02446024],\n",
              "       [0.02446024],\n",
              "       [0.02446024],\n",
              "       [0.02446024],\n",
              "       [0.02446024],\n",
              "       [0.02446024],\n",
              "       [0.02446024],\n",
              "       [0.02446024],\n",
              "       [0.02446024],\n",
              "       [0.02446024],\n",
              "       [0.02446024],\n",
              "       [0.02446024],\n",
              "       [0.02446024],\n",
              "       [0.02446024],\n",
              "       [0.02446024],\n",
              "       [0.02446024],\n",
              "       [0.02446024],\n",
              "       [0.02446024],\n",
              "       [0.02446024],\n",
              "       [0.02446024],\n",
              "       [0.02446024],\n",
              "       [0.02446024],\n",
              "       [0.02446024],\n",
              "       [0.02446024],\n",
              "       [0.02446024],\n",
              "       [0.02446024],\n",
              "       [0.02446024],\n",
              "       [0.02446024],\n",
              "       [0.02446024],\n",
              "       [0.02446024],\n",
              "       [0.02446024],\n",
              "       [0.02446024],\n",
              "       [0.02446024],\n",
              "       [0.02446024],\n",
              "       [0.02446024],\n",
              "       [0.02446024],\n",
              "       [0.02446024],\n",
              "       [0.02446024],\n",
              "       [0.02446024],\n",
              "       [0.02446024],\n",
              "       [0.02446024],\n",
              "       [0.02446024],\n",
              "       [0.02446024],\n",
              "       [0.02446024],\n",
              "       [0.02446024],\n",
              "       [0.02446024],\n",
              "       [0.02446024],\n",
              "       [0.02446024],\n",
              "       [0.02446024],\n",
              "       [0.02446024],\n",
              "       [0.02446024],\n",
              "       [0.02446024],\n",
              "       [0.02446024],\n",
              "       [0.02446024],\n",
              "       [0.02446024],\n",
              "       [0.02446024],\n",
              "       [0.02446024],\n",
              "       [0.02446024],\n",
              "       [0.02446024],\n",
              "       [0.02446024],\n",
              "       [0.02446024],\n",
              "       [0.02446024],\n",
              "       [0.02446024],\n",
              "       [0.02446024],\n",
              "       [0.02446024],\n",
              "       [0.02446024],\n",
              "       [0.02446024],\n",
              "       [0.02446024],\n",
              "       [0.02446024],\n",
              "       [0.02446024],\n",
              "       [0.02446024],\n",
              "       [0.02446024],\n",
              "       [0.02446024],\n",
              "       [0.02446024],\n",
              "       [0.02446024],\n",
              "       [0.02446024],\n",
              "       [0.02446024],\n",
              "       [0.02446024],\n",
              "       [0.02446024],\n",
              "       [0.02446024],\n",
              "       [0.02446024],\n",
              "       [0.02446024],\n",
              "       [0.02446024],\n",
              "       [0.02446024],\n",
              "       [0.02446024],\n",
              "       [0.02446024],\n",
              "       [0.02446024],\n",
              "       [0.02446024],\n",
              "       [0.02446024],\n",
              "       [0.02446024],\n",
              "       [0.02446024],\n",
              "       [0.02446024],\n",
              "       [0.02446024],\n",
              "       [0.02446024],\n",
              "       [0.02446024],\n",
              "       [0.02446024],\n",
              "       [0.02446024],\n",
              "       [0.02446024],\n",
              "       [0.02446024],\n",
              "       [0.02446024],\n",
              "       [0.02446024],\n",
              "       [0.02446024],\n",
              "       [0.02446024],\n",
              "       [0.02446024],\n",
              "       [0.02446024],\n",
              "       [0.02446024],\n",
              "       [0.02446024],\n",
              "       [0.02446024],\n",
              "       [0.02446024],\n",
              "       [0.02446024],\n",
              "       [0.02446024],\n",
              "       [0.02446024],\n",
              "       [0.02446024],\n",
              "       [0.02446024],\n",
              "       [0.02446024],\n",
              "       [0.02446024],\n",
              "       [0.02446024],\n",
              "       [0.02446024],\n",
              "       [0.02446024],\n",
              "       [0.02446024],\n",
              "       [0.02446024],\n",
              "       [0.02446024],\n",
              "       [0.02446024],\n",
              "       [0.02446024],\n",
              "       [0.02446024],\n",
              "       [0.02446024],\n",
              "       [0.02446024],\n",
              "       [0.02446024],\n",
              "       [0.02446024],\n",
              "       [0.02446024],\n",
              "       [0.02446024],\n",
              "       [0.02446024],\n",
              "       [0.02446024],\n",
              "       [0.02446024],\n",
              "       [0.02446024],\n",
              "       [0.02446024],\n",
              "       [0.02446024],\n",
              "       [0.02446024],\n",
              "       [0.02446024],\n",
              "       [0.02446024],\n",
              "       [0.02446024],\n",
              "       [0.02446024],\n",
              "       [0.02446024],\n",
              "       [0.02446024],\n",
              "       [0.02446024],\n",
              "       [0.02446024],\n",
              "       [0.02446024],\n",
              "       [0.02446024],\n",
              "       [0.02446024],\n",
              "       [0.02446024],\n",
              "       [0.02446024],\n",
              "       [0.02446024],\n",
              "       [0.02446024],\n",
              "       [0.02446024],\n",
              "       [0.02446024],\n",
              "       [0.02446024],\n",
              "       [0.02446024],\n",
              "       [0.02446024],\n",
              "       [0.02446024],\n",
              "       [0.02446024],\n",
              "       [0.02446024],\n",
              "       [0.02446024]], dtype=float32)"
            ]
          },
          "metadata": {
            "tags": []
          },
          "execution_count": 30
        }
      ]
    },
    {
      "cell_type": "code",
      "metadata": {
        "id": "phGJMcbLzVVs"
      },
      "source": [
        "np.save('/content/drive/MyDrive/Colab Notebooks/normalpredictions', test_predictions)"
      ],
      "execution_count": null,
      "outputs": []
    },
    {
      "cell_type": "code",
      "metadata": {
        "id": "Q7Xiv-ohGOz2"
      },
      "source": [
        "result={}"
      ],
      "execution_count": null,
      "outputs": []
    },
    {
      "cell_type": "code",
      "metadata": {
        "id": "yalRCAkfGYsr"
      },
      "source": [
        "result['Predicted'] = test_predictions"
      ],
      "execution_count": null,
      "outputs": []
    },
    {
      "cell_type": "code",
      "metadata": {
        "id": "BJWMNNHWGb-1"
      },
      "source": [
        "result['z'] = np.array (test_labels)"
      ],
      "execution_count": null,
      "outputs": []
    },
    {
      "cell_type": "code",
      "metadata": {
        "id": "CaiFBFHPGgoe"
      },
      "source": [
        "from sklearn.metrics import mean_squared_error\n",
        "MSE = mean_squared_error(y_true = result['z'], y_pred = result['Predicted'])\n",
        "RMSE = MSE**(0.5)"
      ],
      "execution_count": null,
      "outputs": []
    },
    {
      "cell_type": "code",
      "metadata": {
        "colab": {
          "base_uri": "https://localhost:8080/"
        },
        "id": "NWe7v13yGnFE",
        "outputId": "165dbeac-6051-4940-cd34-6227bf3e9a1e"
      },
      "source": [
        "print(MSE)\n",
        "print(RMSE)"
      ],
      "execution_count": null,
      "outputs": [
        {
          "output_type": "stream",
          "text": [
            "0.059609204411127714\n",
            "0.24414996295540925\n"
          ],
          "name": "stdout"
        }
      ]
    },
    {
      "cell_type": "code",
      "metadata": {
        "id": "3rwUEBd_Yt2y"
      },
      "source": [
        "result['Predicted']=test_predictions.flatten()"
      ],
      "execution_count": null,
      "outputs": []
    },
    {
      "cell_type": "code",
      "metadata": {
        "colab": {
          "base_uri": "https://localhost:8080/",
          "height": 396
        },
        "id": "aXhypob6Gtmz",
        "outputId": "e3ebe077-3505-47df-ee03-da5ed69c6717"
      },
      "source": [
        "fig1 = plt.gcf()\n",
        "pd.value_counts(result['Predicted'].round(2)).sort_index().plot(kind=\"bar\")"
      ],
      "execution_count": null,
      "outputs": [
        {
          "output_type": "execute_result",
          "data": {
            "text/plain": [
              "<matplotlib.axes._subplots.AxesSubplot at 0x7fd481e17cf8>"
            ]
          },
          "metadata": {
            "tags": []
          },
          "execution_count": 43
        },
        {
          "output_type": "display_data",
          "data": {
            "image/png": "[encoded data removed]",
            "text/plain": [
              "<Figure size 432x288 with 1 Axes>"
            ]
          },
          "metadata": {
            "tags": [],
            "needs_background": "light"
          }
        }
      ]
    },
    {
      "cell_type": "code",
      "metadata": {
        "id": "5R_u91GdttIt"
      },
      "source": [
        "test_predictions = np.load(\"/content/drive/MyDrive/Colab Notebooks/normalpredictions.npy\")"
      ],
      "execution_count": null,
      "outputs": []
    },
    {
      "cell_type": "code",
      "metadata": {
        "id": "2HOu4z39uBVL"
      },
      "source": [
        "spec=test_labels.to_numpy()"
      ],
      "execution_count": null,
      "outputs": []
    },
    {
      "cell_type": "code",
      "metadata": {
        "id": "4HcJdibHuJJN"
      },
      "source": [
        "outlier=(spec-test_predictions)/(1+spec)"
      ],
      "execution_count": null,
      "outputs": []
    },
    {
      "cell_type": "code",
      "metadata": {
        "colab": {
          "base_uri": "https://localhost:8080/"
        },
        "id": "fbCcaJk3uMPS",
        "outputId": "62940453-3e0a-4f81-a8ee-6af1c851143b"
      },
      "source": [
        "outlier"
      ],
      "execution_count": null,
      "outputs": [
        {
          "output_type": "execute_result",
          "data": {
            "text/plain": [
              "array([[ 0.01252085,  0.01336726,  0.85265925, ...,  0.00578382,\n",
              "        -0.00991743,  0.00244385],\n",
              "       [ 0.01252085,  0.01336726,  0.85265925, ...,  0.00578382,\n",
              "        -0.00991743,  0.00244385],\n",
              "       [ 0.01252085,  0.01336726,  0.85265925, ...,  0.00578382,\n",
              "        -0.00991743,  0.00244385],\n",
              "       ...,\n",
              "       [ 0.01252085,  0.01336726,  0.85265925, ...,  0.00578382,\n",
              "        -0.00991743,  0.00244385],\n",
              "       [ 0.01252085,  0.01336726,  0.85265925, ...,  0.00578382,\n",
              "        -0.00991743,  0.00244385],\n",
              "       [ 0.01252085,  0.01336726,  0.85265925, ...,  0.00578382,\n",
              "        -0.00991743,  0.00244385]])"
            ]
          },
          "metadata": {
            "tags": []
          },
          "execution_count": 14
        }
      ]
    },
    {
      "cell_type": "code",
      "metadata": {
        "id": "-wCPAgEGuSud"
      },
      "source": [
        "f=pd.DataFrame(outlier)\n"
      ],
      "execution_count": null,
      "outputs": []
    },
    {
      "cell_type": "code",
      "metadata": {
        "colab": {
          "base_uri": "https://localhost:8080/"
        },
        "id": "ZSEer3dzuZyD",
        "outputId": "879234c1-b45e-431b-bf91-465bf04cde3f"
      },
      "source": [
        "f[0].median()"
      ],
      "execution_count": null,
      "outputs": [
        {
          "output_type": "execute_result",
          "data": {
            "text/plain": [
              "0.012520852861786363"
            ]
          },
          "metadata": {
            "tags": []
          },
          "execution_count": 16
        }
      ]
    }
  ]
}