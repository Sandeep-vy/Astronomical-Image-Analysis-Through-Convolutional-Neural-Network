{
  "nbformat": 4,
  "nbformat_minor": 0,
  "metadata": {
    "colab": {
      "name": "variant1_ Z(vgg16).ipynb",
      "provenance": [],
      "collapsed_sections": []
    },
    "kernelspec": {
      "name": "python3",
      "display_name": "Python 3"
    },
    "accelerator": "TPU"
  },
  "cells": [
    {
      "cell_type": "code",
      "metadata": {
        "id": "4WEr6KeHqhuT"
      },
      "source": [
        "from keras.layers import Input, Lambda, Dense, Flatten\n",
        "from keras.models import Model\n",
        "from keras.applications.vgg16 import VGG16\n",
        "from keras.applications.vgg16 import preprocess_input\n",
        "from keras.preprocessing import image\n",
        "from keras.preprocessing.image import ImageDataGenerator\n",
        "from keras.models import Sequential\n",
        "import numpy as np\n",
        "from glob import glob\n",
        "import matplotlib.pyplot as plt"
      ],
      "execution_count": null,
      "outputs": []
    },
    {
      "cell_type": "code",
      "metadata": {
        "id": "aW2boPqsq2H1"
      },
      "source": [
        "import os\n",
        "import tensorflow as tf\n",
        "from tensorflow.keras import layers\n",
        "from tensorflow.keras import Model\n",
        "\n",
        "from keras.preprocessing.image import ImageDataGenerator\n",
        "\n",
        "import pandas as pd"
      ],
      "execution_count": null,
      "outputs": []
    },
    {
      "cell_type": "code",
      "metadata": {
        "id": "WjKqyiAU1GUw",
        "colab": {
          "base_uri": "https://localhost:8080/"
        },
        "outputId": "7d3cc750-0818-4623-ab78-f99ff272936a"
      },
      "source": [
        "\n",
        "from tensorflow.keras.applications import VGG16\n",
        "\n",
        "pre_model = VGG16(input_shape = (150, 150, 3), \n",
        "                                include_top = False, \n",
        "                                weights = 'imagenet')\n",
        "\n",
        "# Make all the layers in the pre-model non-trainable\n",
        "for layer in pre_model.layers:\n",
        "    layer.trainable = False"
      ],
      "execution_count": null,
      "outputs": [
        {
          "output_type": "stream",
          "text": [
            "Downloading data from https://storage.googleapis.com/tensorflow/keras-applications/vgg16/vgg16_weights_tf_dim_ordering_tf_kernels_notop.h5\n",
            "58892288/58889256 [==============================] - 1s 0us/step\n"
          ],
          "name": "stdout"
        }
      ]
    },
    {
      "cell_type": "code",
      "metadata": {
        "colab": {
          "base_uri": "https://localhost:8080/"
        },
        "id": "9vQKyH0I2tqJ",
        "outputId": "ef0adc0a-2478-4b28-cf8b-be12b094a0e9"
      },
      "source": [
        "\n",
        "last_layer = pre_model.get_layer('block5_conv3')\n",
        "print('last layer output shape: ', last_layer.output_shape)\n",
        "last_output = last_layer.output"
      ],
      "execution_count": null,
      "outputs": [
        {
          "output_type": "stream",
          "text": [
            "last layer output shape:  (None, 9, 9, 512)\n"
          ],
          "name": "stdout"
        }
      ]
    },
    {
      "cell_type": "code",
      "metadata": {
        "id": "TZ7DDazv4MF4"
      },
      "source": [
        "loss = 'mean_squared_error'\n",
        "metrics = ['mse','mae']\n",
        "batch_size=64\n",
        "epochs = 4"
      ],
      "execution_count": null,
      "outputs": []
    },
    {
      "cell_type": "code",
      "metadata": {
        "colab": {
          "base_uri": "https://localhost:8080/"
        },
        "id": "ROjfIVhM3w8G",
        "outputId": "35cb0e08-e517-4ed0-84e9-8ce0864a8789"
      },
      "source": [
        "from tensorflow.keras.optimizers import Adam\n",
        "\n",
        "# Flatten the output layer to 1 dimension\n",
        "x = layers.Flatten()(last_output)\n",
        "# Add a fully connected layer with 1,024 hidden units and ReLU activation\n",
        "x = layers.Dense(1024, activation='relu')(x)\n",
        "# Add a dropout rate of 0.2\n",
        "x = layers.Dropout(0.4)(x)                  \n",
        "# Add a final linear layer for classification\n",
        "x = layers.Dense  (1, activation='linear')(x)           \n",
        "\n",
        "model = Model( pre_model.input, x) \n",
        "\n",
        "model.compile(optimizer = Adam(lr=0.001), \n",
        "              loss = 'mean_squared_error',\n",
        "              metrics = metrics) \n",
        "\n",
        "model.summary()"
      ],
      "execution_count": null,
      "outputs": [
        {
          "output_type": "stream",
          "text": [
            "Model: \"model_1\"\n",
            "_________________________________________________________________\n",
            "Layer (type)                 Output Shape              Param #   \n",
            "=================================================================\n",
            "input_1 (InputLayer)         [(None, 150, 150, 3)]     0         \n",
            "_________________________________________________________________\n",
            "block1_conv1 (Conv2D)        (None, 150, 150, 64)      1792      \n",
            "_________________________________________________________________\n",
            "block1_conv2 (Conv2D)        (None, 150, 150, 64)      36928     \n",
            "_________________________________________________________________\n",
            "block1_pool (MaxPooling2D)   (None, 75, 75, 64)        0         \n",
            "_________________________________________________________________\n",
            "block2_conv1 (Conv2D)        (None, 75, 75, 128)       73856     \n",
            "_________________________________________________________________\n",
            "block2_conv2 (Conv2D)        (None, 75, 75, 128)       147584    \n",
            "_________________________________________________________________\n",
            "block2_pool (MaxPooling2D)   (None, 37, 37, 128)       0         \n",
            "_________________________________________________________________\n",
            "block3_conv1 (Conv2D)        (None, 37, 37, 256)       295168    \n",
            "_________________________________________________________________\n",
            "block3_conv2 (Conv2D)        (None, 37, 37, 256)       590080    \n",
            "_________________________________________________________________\n",
            "block3_conv3 (Conv2D)        (None, 37, 37, 256)       590080    \n",
            "_________________________________________________________________\n",
            "block3_pool (MaxPooling2D)   (None, 18, 18, 256)       0         \n",
            "_________________________________________________________________\n",
            "block4_conv1 (Conv2D)        (None, 18, 18, 512)       1180160   \n",
            "_________________________________________________________________\n",
            "block4_conv2 (Conv2D)        (None, 18, 18, 512)       2359808   \n",
            "_________________________________________________________________\n",
            "block4_conv3 (Conv2D)        (None, 18, 18, 512)       2359808   \n",
            "_________________________________________________________________\n",
            "block4_pool (MaxPooling2D)   (None, 9, 9, 512)         0         \n",
            "_________________________________________________________________\n",
            "block5_conv1 (Conv2D)        (None, 9, 9, 512)         2359808   \n",
            "_________________________________________________________________\n",
            "block5_conv2 (Conv2D)        (None, 9, 9, 512)         2359808   \n",
            "_________________________________________________________________\n",
            "block5_conv3 (Conv2D)        (None, 9, 9, 512)         2359808   \n",
            "_________________________________________________________________\n",
            "flatten_1 (Flatten)          (None, 41472)             0         \n",
            "_________________________________________________________________\n",
            "dense_2 (Dense)              (None, 1024)              42468352  \n",
            "_________________________________________________________________\n",
            "dropout_1 (Dropout)          (None, 1024)              0         \n",
            "_________________________________________________________________\n",
            "dense_3 (Dense)              (None, 1)                 1025      \n",
            "=================================================================\n",
            "Total params: 57,184,065\n",
            "Trainable params: 42,469,377\n",
            "Non-trainable params: 14,714,688\n",
            "_________________________________________________________________\n"
          ],
          "name": "stdout"
        }
      ]
    },
    {
      "cell_type": "code",
      "metadata": {
        "colab": {
          "base_uri": "https://localhost:8080/",
          "height": 204
        },
        "id": "GBkS25sWDGmU",
        "outputId": "46d713d3-95be-43a3-837e-2d6231d46ba4"
      },
      "source": [
        "raw_dataset = pd.read_csv(\"/content/drive/MyDrive/Colab Notebooks/SDSS.csv\")\n",
        "train_df = raw_dataset.copy()\n",
        "train_df.head()"
      ],
      "execution_count": null,
      "outputs": [
        {
          "output_type": "execute_result",
          "data": {
            "text/html": [
              "<div>\n",
              "<style scoped>\n",
              "    .dataframe tbody tr th:only-of-type {\n",
              "        vertical-align: middle;\n",
              "    }\n",
              "\n",
              "    .dataframe tbody tr th {\n",
              "        vertical-align: top;\n",
              "    }\n",
              "\n",
              "    .dataframe thead th {\n",
              "        text-align: right;\n",
              "    }\n",
              "</style>\n",
              "<table border=\"1\" class=\"dataframe\">\n",
              "  <thead>\n",
              "    <tr style=\"text-align: right;\">\n",
              "      <th></th>\n",
              "      <th>img_path</th>\n",
              "      <th>z</th>\n",
              "    </tr>\n",
              "  </thead>\n",
              "  <tbody>\n",
              "    <tr>\n",
              "      <th>0</th>\n",
              "      <td>/content/drive/MyDrive/Colab Notebooks/galaxy_...</td>\n",
              "      <td>0.037450</td>\n",
              "    </tr>\n",
              "    <tr>\n",
              "      <th>1</th>\n",
              "      <td>/content/drive/MyDrive/Colab Notebooks/galaxy_...</td>\n",
              "      <td>-99.990000</td>\n",
              "    </tr>\n",
              "    <tr>\n",
              "      <th>2</th>\n",
              "      <td>/content/drive/MyDrive/Colab Notebooks/galaxy_...</td>\n",
              "      <td>0.029610</td>\n",
              "    </tr>\n",
              "    <tr>\n",
              "      <th>3</th>\n",
              "      <td>/content/drive/MyDrive/Colab Notebooks/galaxy_...</td>\n",
              "      <td>0.002882</td>\n",
              "    </tr>\n",
              "    <tr>\n",
              "      <th>4</th>\n",
              "      <td>/content/drive/MyDrive/Colab Notebooks/galaxy_...</td>\n",
              "      <td>0.038340</td>\n",
              "    </tr>\n",
              "  </tbody>\n",
              "</table>\n",
              "</div>"
            ],
            "text/plain": [
              "                                            img_path          z\n",
              "0  /content/drive/MyDrive/Colab Notebooks/galaxy_...   0.037450\n",
              "1  /content/drive/MyDrive/Colab Notebooks/galaxy_... -99.990000\n",
              "2  /content/drive/MyDrive/Colab Notebooks/galaxy_...   0.029610\n",
              "3  /content/drive/MyDrive/Colab Notebooks/galaxy_...   0.002882\n",
              "4  /content/drive/MyDrive/Colab Notebooks/galaxy_...   0.038340"
            ]
          },
          "metadata": {
            "tags": []
          },
          "execution_count": 8
        }
      ]
    },
    {
      "cell_type": "code",
      "metadata": {
        "id": "yapZIdD_FNya"
      },
      "source": [
        "import numpy as np\n",
        "cnt=0\n",
        "for row in train_df['z']:\n",
        "    try:\n",
        "        if row==-99.990000 or row==-100.000000 :\n",
        "          train_df.loc[cnt, 'z']=np.nan\n",
        "    except ValueError:\n",
        "        pass\n",
        "    cnt+=1"
      ],
      "execution_count": null,
      "outputs": []
    },
    {
      "cell_type": "code",
      "metadata": {
        "colab": {
          "base_uri": "https://localhost:8080/"
        },
        "id": "hH_92FIkFg4z",
        "outputId": "0ce6ac07-07f4-46ee-b9f0-87a37ff181a3"
      },
      "source": [
        "train_df.isna().sum()"
      ],
      "execution_count": null,
      "outputs": [
        {
          "output_type": "execute_result",
          "data": {
            "text/plain": [
              "img_path       0\n",
              "z           1357\n",
              "dtype: int64"
            ]
          },
          "metadata": {
            "tags": []
          },
          "execution_count": 10
        }
      ]
    },
    {
      "cell_type": "code",
      "metadata": {
        "id": "lX5c8Kd2FwVl"
      },
      "source": [
        "median = train_df['z'].median()\n",
        "train_df['z'].fillna(median, inplace=True)"
      ],
      "execution_count": null,
      "outputs": []
    },
    {
      "cell_type": "code",
      "metadata": {
        "colab": {
          "base_uri": "https://localhost:8080/"
        },
        "id": "a3G3RdsXGCeN",
        "outputId": "985daa47-f980-4e8a-cecb-91e04069e161"
      },
      "source": [
        "train_df.isna().sum()"
      ],
      "execution_count": null,
      "outputs": [
        {
          "output_type": "execute_result",
          "data": {
            "text/plain": [
              "img_path    0\n",
              "z           0\n",
              "dtype: int64"
            ]
          },
          "metadata": {
            "tags": []
          },
          "execution_count": 12
        }
      ]
    },
    {
      "cell_type": "code",
      "metadata": {
        "id": "hDSH89sbHXVb"
      },
      "source": [
        "dataset=train_df.copy()"
      ],
      "execution_count": null,
      "outputs": []
    },
    {
      "cell_type": "code",
      "metadata": {
        "id": "svSe112sGFIJ"
      },
      "source": [
        "train_df = dataset.sample(frac=0.8, random_state=0)\n",
        "test_df = dataset.drop(train_df.index)"
      ],
      "execution_count": null,
      "outputs": []
    },
    {
      "cell_type": "code",
      "metadata": {
        "colab": {
          "base_uri": "https://localhost:8080/"
        },
        "id": "dKnLWGZ7IEmu",
        "outputId": "9c0205a6-9a78-4ca8-e2e3-6c24a88035dd"
      },
      "source": [
        "datagen = ImageDataGenerator( \n",
        "            rescale=1./255.,\n",
        "            rotation_range=40,\n",
        "            width_shift_range=0.2,\n",
        "            height_shift_range=0.2,\n",
        "            shear_range=0.2,\n",
        "            zoom_range=0.2,\n",
        "            horizontal_flip=True,\n",
        "            validation_split=0.30,\n",
        "            fill_mode='nearest')\n",
        "\n",
        "train_generator=datagen.flow_from_dataframe(\n",
        "            dataframe=train_df,\n",
        "            directory=None,\n",
        "            x_col=\"img_path\",\n",
        "            y_col=\"z\",\n",
        "            subset=\"training\",\n",
        "            batch_size=32,\n",
        "            seed=42,\n",
        "            shuffle=True,\n",
        "            class_mode=\"other\",\n",
        "            target_size=(150,150))\n",
        "\n",
        "valid_generator=datagen.flow_from_dataframe(\n",
        "            dataframe=train_df,\n",
        "            directory=None,\n",
        "            x_col=\"img_path\",\n",
        "            y_col=\"z\",\n",
        "            subset=\"validation\",\n",
        "            batch_size=32,\n",
        "            seed=42,\n",
        "            class_mode=\"other\",\n",
        "            target_size=(150,150))\n",
        "\n",
        "test_datagen=ImageDataGenerator(rescale=1./255.)\n",
        "\n",
        "test_generator=test_datagen.flow_from_dataframe(\n",
        "            dataframe=test_df,\n",
        "            directory=None,\n",
        "            x_col=\"img_path\",\n",
        "            y_col=None,\n",
        "            batch_size=batch_size,\n",
        "            seed=42,\n",
        "            class_mode=None,\n",
        "            target_size=(150,150))           "
      ],
      "execution_count": null,
      "outputs": [
        {
          "output_type": "stream",
          "text": [
            "--- Logging error ---\n",
            "Traceback (most recent call last):\n",
            "  File \"/usr/lib/python3.7/logging/__init__.py\", line 1025, in emit\n",
            "    msg = self.format(record)\n",
            "  File \"/usr/lib/python3.7/logging/__init__.py\", line 869, in format\n",
            "    return fmt.format(record)\n",
            "  File \"/usr/lib/python3.7/logging/__init__.py\", line 608, in format\n",
            "    record.message = record.getMessage()\n",
            "  File \"/usr/lib/python3.7/logging/__init__.py\", line 369, in getMessage\n",
            "    msg = msg % self.args\n",
            "TypeError: not all arguments converted during string formatting\n",
            "Call stack:\n",
            "  File \"/usr/lib/python3.7/runpy.py\", line 193, in _run_module_as_main\n",
            "    \"__main__\", mod_spec)\n",
            "  File \"/usr/lib/python3.7/runpy.py\", line 85, in _run_code\n",
            "    exec(code, run_globals)\n",
            "  File \"/usr/local/lib/python3.7/dist-packages/ipykernel_launcher.py\", line 16, in <module>\n",
            "    app.launch_new_instance()\n",
            "  File \"/usr/local/lib/python3.7/dist-packages/traitlets/config/application.py\", line 845, in launch_instance\n",
            "    app.start()\n",
            "  File \"/usr/local/lib/python3.7/dist-packages/ipykernel/kernelapp.py\", line 499, in start\n",
            "    self.io_loop.start()\n",
            "  File \"/usr/local/lib/python3.7/dist-packages/tornado/platform/asyncio.py\", line 132, in start\n",
            "    self.asyncio_loop.run_forever()\n",
            "  File \"/usr/lib/python3.7/asyncio/base_events.py\", line 541, in run_forever\n",
            "    self._run_once()\n",
            "  File \"/usr/lib/python3.7/asyncio/base_events.py\", line 1786, in _run_once\n",
            "    handle._run()\n",
            "  File \"/usr/lib/python3.7/asyncio/events.py\", line 88, in _run\n",
            "    self._context.run(self._callback, *self._args)\n",
            "  File \"/usr/local/lib/python3.7/dist-packages/tornado/platform/asyncio.py\", line 122, in _handle_events\n",
            "    handler_func(fileobj, events)\n",
            "  File \"/usr/local/lib/python3.7/dist-packages/tornado/stack_context.py\", line 300, in null_wrapper\n",
            "    return fn(*args, **kwargs)\n",
            "  File \"/usr/local/lib/python3.7/dist-packages/zmq/eventloop/zmqstream.py\", line 451, in _handle_events\n",
            "    self._handle_recv()\n",
            "  File \"/usr/local/lib/python3.7/dist-packages/zmq/eventloop/zmqstream.py\", line 480, in _handle_recv\n",
            "    self._run_callback(callback, msg)\n",
            "  File \"/usr/local/lib/python3.7/dist-packages/zmq/eventloop/zmqstream.py\", line 434, in _run_callback\n",
            "    callback(*args, **kwargs)\n",
            "  File \"/usr/local/lib/python3.7/dist-packages/tornado/stack_context.py\", line 300, in null_wrapper\n",
            "    return fn(*args, **kwargs)\n",
            "  File \"/usr/local/lib/python3.7/dist-packages/ipykernel/kernelbase.py\", line 283, in dispatcher\n",
            "    return self.dispatch_shell(stream, msg)\n",
            "  File \"/usr/local/lib/python3.7/dist-packages/ipykernel/kernelbase.py\", line 233, in dispatch_shell\n",
            "    handler(stream, idents, msg)\n",
            "  File \"/usr/local/lib/python3.7/dist-packages/ipykernel/kernelbase.py\", line 399, in execute_request\n",
            "    user_expressions, allow_stdin)\n",
            "  File \"/usr/local/lib/python3.7/dist-packages/ipykernel/ipkernel.py\", line 208, in do_execute\n",
            "    res = shell.run_cell(code, store_history=store_history, silent=silent)\n",
            "  File \"/usr/local/lib/python3.7/dist-packages/ipykernel/zmqshell.py\", line 537, in run_cell\n",
            "    return super(ZMQInteractiveShell, self).run_cell(*args, **kwargs)\n",
            "  File \"/usr/local/lib/python3.7/dist-packages/IPython/core/interactiveshell.py\", line 2718, in run_cell\n",
            "    interactivity=interactivity, compiler=compiler, result=result)\n",
            "  File \"/usr/local/lib/python3.7/dist-packages/IPython/core/interactiveshell.py\", line 2822, in run_ast_nodes\n",
            "    if self.run_code(code, result):\n",
            "  File \"/usr/local/lib/python3.7/dist-packages/IPython/core/interactiveshell.py\", line 2882, in run_code\n",
            "    exec(code_obj, self.user_global_ns, self.user_ns)\n",
            "  File \"<ipython-input-15-7888daccfe44>\", line 22, in <module>\n",
            "    target_size=(150,150))\n",
            "  File \"/usr/local/lib/python3.7/dist-packages/tensorflow/python/keras/preprocessing/image.py\", line 1072, in flow_from_dataframe\n",
            "    '`class_mode` \"raw\".', DeprecationWarning)\n",
            "  File \"/usr/local/lib/python3.7/dist-packages/tensorflow/python/platform/tf_logging.py\", line 173, in warn\n",
            "    get_logger().warning(msg, *args, **kwargs)\n",
            "Message: '`class_mode` \"other\" is deprecated, please use `class_mode` \"raw\".'\n",
            "Arguments: (<class 'DeprecationWarning'>,)\n"
          ],
          "name": "stderr"
        },
        {
          "output_type": "stream",
          "text": [
            "Found 2497 validated image filenames.\n"
          ],
          "name": "stdout"
        },
        {
          "output_type": "stream",
          "text": [
            "--- Logging error ---\n",
            "Traceback (most recent call last):\n",
            "  File \"/usr/lib/python3.7/logging/__init__.py\", line 1025, in emit\n",
            "    msg = self.format(record)\n",
            "  File \"/usr/lib/python3.7/logging/__init__.py\", line 869, in format\n",
            "    return fmt.format(record)\n",
            "  File \"/usr/lib/python3.7/logging/__init__.py\", line 608, in format\n",
            "    record.message = record.getMessage()\n",
            "  File \"/usr/lib/python3.7/logging/__init__.py\", line 369, in getMessage\n",
            "    msg = msg % self.args\n",
            "TypeError: not all arguments converted during string formatting\n",
            "Call stack:\n",
            "  File \"/usr/lib/python3.7/runpy.py\", line 193, in _run_module_as_main\n",
            "    \"__main__\", mod_spec)\n",
            "  File \"/usr/lib/python3.7/runpy.py\", line 85, in _run_code\n",
            "    exec(code, run_globals)\n",
            "  File \"/usr/local/lib/python3.7/dist-packages/ipykernel_launcher.py\", line 16, in <module>\n",
            "    app.launch_new_instance()\n",
            "  File \"/usr/local/lib/python3.7/dist-packages/traitlets/config/application.py\", line 845, in launch_instance\n",
            "    app.start()\n",
            "  File \"/usr/local/lib/python3.7/dist-packages/ipykernel/kernelapp.py\", line 499, in start\n",
            "    self.io_loop.start()\n",
            "  File \"/usr/local/lib/python3.7/dist-packages/tornado/platform/asyncio.py\", line 132, in start\n",
            "    self.asyncio_loop.run_forever()\n",
            "  File \"/usr/lib/python3.7/asyncio/base_events.py\", line 541, in run_forever\n",
            "    self._run_once()\n",
            "  File \"/usr/lib/python3.7/asyncio/base_events.py\", line 1786, in _run_once\n",
            "    handle._run()\n",
            "  File \"/usr/lib/python3.7/asyncio/events.py\", line 88, in _run\n",
            "    self._context.run(self._callback, *self._args)\n",
            "  File \"/usr/local/lib/python3.7/dist-packages/tornado/platform/asyncio.py\", line 122, in _handle_events\n",
            "    handler_func(fileobj, events)\n",
            "  File \"/usr/local/lib/python3.7/dist-packages/tornado/stack_context.py\", line 300, in null_wrapper\n",
            "    return fn(*args, **kwargs)\n",
            "  File \"/usr/local/lib/python3.7/dist-packages/zmq/eventloop/zmqstream.py\", line 451, in _handle_events\n",
            "    self._handle_recv()\n",
            "  File \"/usr/local/lib/python3.7/dist-packages/zmq/eventloop/zmqstream.py\", line 480, in _handle_recv\n",
            "    self._run_callback(callback, msg)\n",
            "  File \"/usr/local/lib/python3.7/dist-packages/zmq/eventloop/zmqstream.py\", line 434, in _run_callback\n",
            "    callback(*args, **kwargs)\n",
            "  File \"/usr/local/lib/python3.7/dist-packages/tornado/stack_context.py\", line 300, in null_wrapper\n",
            "    return fn(*args, **kwargs)\n",
            "  File \"/usr/local/lib/python3.7/dist-packages/ipykernel/kernelbase.py\", line 283, in dispatcher\n",
            "    return self.dispatch_shell(stream, msg)\n",
            "  File \"/usr/local/lib/python3.7/dist-packages/ipykernel/kernelbase.py\", line 233, in dispatch_shell\n",
            "    handler(stream, idents, msg)\n",
            "  File \"/usr/local/lib/python3.7/dist-packages/ipykernel/kernelbase.py\", line 399, in execute_request\n",
            "    user_expressions, allow_stdin)\n",
            "  File \"/usr/local/lib/python3.7/dist-packages/ipykernel/ipkernel.py\", line 208, in do_execute\n",
            "    res = shell.run_cell(code, store_history=store_history, silent=silent)\n",
            "  File \"/usr/local/lib/python3.7/dist-packages/ipykernel/zmqshell.py\", line 537, in run_cell\n",
            "    return super(ZMQInteractiveShell, self).run_cell(*args, **kwargs)\n",
            "  File \"/usr/local/lib/python3.7/dist-packages/IPython/core/interactiveshell.py\", line 2718, in run_cell\n",
            "    interactivity=interactivity, compiler=compiler, result=result)\n",
            "  File \"/usr/local/lib/python3.7/dist-packages/IPython/core/interactiveshell.py\", line 2822, in run_ast_nodes\n",
            "    if self.run_code(code, result):\n",
            "  File \"/usr/local/lib/python3.7/dist-packages/IPython/core/interactiveshell.py\", line 2882, in run_code\n",
            "    exec(code_obj, self.user_global_ns, self.user_ns)\n",
            "  File \"<ipython-input-15-7888daccfe44>\", line 33, in <module>\n",
            "    target_size=(150,150))\n",
            "  File \"/usr/local/lib/python3.7/dist-packages/tensorflow/python/keras/preprocessing/image.py\", line 1072, in flow_from_dataframe\n",
            "    '`class_mode` \"raw\".', DeprecationWarning)\n",
            "  File \"/usr/local/lib/python3.7/dist-packages/tensorflow/python/platform/tf_logging.py\", line 173, in warn\n",
            "    get_logger().warning(msg, *args, **kwargs)\n",
            "Message: '`class_mode` \"other\" is deprecated, please use `class_mode` \"raw\".'\n",
            "Arguments: (<class 'DeprecationWarning'>,)\n"
          ],
          "name": "stderr"
        },
        {
          "output_type": "stream",
          "text": [
            "Found 1069 validated image filenames.\n",
            "Found 892 validated image filenames.\n"
          ],
          "name": "stdout"
        }
      ]
    },
    {
      "cell_type": "code",
      "metadata": {
        "id": "oSJtEm8AKO79"
      },
      "source": [
        "from keras.callbacks import EarlyStopping\n",
        "earlystopper = EarlyStopping(monitor='val_loss', min_delta=0, patience=8, verbose=1, mode='auto')\n"
      ],
      "execution_count": null,
      "outputs": []
    },
    {
      "cell_type": "code",
      "metadata": {
        "colab": {
          "base_uri": "https://localhost:8080/"
        },
        "id": "PTG2RHRuMjY7",
        "outputId": "fc71590c-7434-43d7-d80c-d9152b3c7c8a"
      },
      "source": [
        "history = model.fit(train_generator,\n",
        "                    validation_data=valid_generator,\n",
        "                    epochs=50,\n",
        "                    steps_per_epoch=10,\n",
        "                    verbose=1,\n",
        "                    callbacks=[earlystopper])"
      ],
      "execution_count": null,
      "outputs": [
        {
          "output_type": "stream",
          "text": [
            "Epoch 1/50\n",
            "10/10 [==============================] - 324s 34s/step - loss: 552.0917 - mse: 552.0917 - mae: 13.3090 - val_loss: 2.6155 - val_mse: 2.6155 - val_mae: 1.6120\n",
            "Epoch 2/50\n",
            "10/10 [==============================] - 314s 34s/step - loss: 4.5212 - mse: 4.5212 - mae: 1.7036 - val_loss: 0.4065 - val_mse: 0.4065 - val_mae: 0.6074\n",
            "Epoch 3/50\n",
            "10/10 [==============================] - 318s 34s/step - loss: 2.7595 - mse: 2.7595 - mae: 1.3325 - val_loss: 0.0501 - val_mse: 0.0501 - val_mae: 0.1242\n",
            "Epoch 4/50\n",
            "10/10 [==============================] - 313s 33s/step - loss: 0.8417 - mse: 0.8417 - mae: 0.7224 - val_loss: 0.0560 - val_mse: 0.0560 - val_mae: 0.1516\n",
            "Epoch 5/50\n",
            "10/10 [==============================] - 313s 34s/step - loss: 0.4992 - mse: 0.4992 - mae: 0.5609 - val_loss: 0.0326 - val_mse: 0.0326 - val_mae: 0.0714\n",
            "Epoch 6/50\n",
            "10/10 [==============================] - 311s 33s/step - loss: 0.2371 - mse: 0.2371 - mae: 0.3785 - val_loss: 0.0311 - val_mse: 0.0311 - val_mae: 0.0580\n",
            "Epoch 7/50\n",
            "10/10 [==============================] - 311s 33s/step - loss: 0.1159 - mse: 0.1159 - mae: 0.2860 - val_loss: 0.0487 - val_mse: 0.0487 - val_mae: 0.1437\n",
            "Epoch 8/50\n",
            "10/10 [==============================] - 311s 34s/step - loss: 0.0835 - mse: 0.0835 - mae: 0.2388 - val_loss: 0.0278 - val_mse: 0.0278 - val_mae: 0.0387\n",
            "Epoch 9/50\n",
            "10/10 [==============================] - 310s 33s/step - loss: 0.0713 - mse: 0.0713 - mae: 0.2273 - val_loss: 0.0291 - val_mse: 0.0291 - val_mae: 0.0449\n",
            "Epoch 10/50\n",
            "10/10 [==============================] - 305s 33s/step - loss: 0.0512 - mse: 0.0512 - mae: 0.1870 - val_loss: 0.0274 - val_mse: 0.0274 - val_mae: 0.0323\n",
            "Epoch 11/50\n",
            "10/10 [==============================] - 311s 33s/step - loss: 0.0406 - mse: 0.0406 - mae: 0.1653 - val_loss: 0.0279 - val_mse: 0.0279 - val_mae: 0.0356\n",
            "Epoch 12/50\n",
            "10/10 [==============================] - 310s 33s/step - loss: 0.0368 - mse: 0.0368 - mae: 0.1622 - val_loss: 0.0313 - val_mse: 0.0313 - val_mae: 0.0658\n",
            "Epoch 13/50\n",
            "10/10 [==============================] - 302s 33s/step - loss: 0.0313 - mse: 0.0313 - mae: 0.1391 - val_loss: 0.0295 - val_mse: 0.0295 - val_mae: 0.0489\n",
            "Epoch 14/50\n",
            "10/10 [==============================] - 309s 33s/step - loss: 0.0194 - mse: 0.0194 - mae: 0.1194 - val_loss: 0.0271 - val_mse: 0.0271 - val_mae: 0.0243\n",
            "Epoch 15/50\n",
            "10/10 [==============================] - 310s 33s/step - loss: 0.0148 - mse: 0.0148 - mae: 0.1015 - val_loss: 0.0265 - val_mse: 0.0265 - val_mae: 0.0230\n",
            "Epoch 16/50\n",
            "10/10 [==============================] - 302s 33s/step - loss: 0.0453 - mse: 0.0453 - mae: 0.1124 - val_loss: 0.0277 - val_mse: 0.0277 - val_mae: 0.0251\n",
            "Epoch 17/50\n",
            "10/10 [==============================] - 309s 34s/step - loss: 0.0097 - mse: 0.0097 - mae: 0.0855 - val_loss: 0.0279 - val_mse: 0.0279 - val_mae: 0.0351\n",
            "Epoch 18/50\n",
            "10/10 [==============================] - 310s 34s/step - loss: 0.0109 - mse: 0.0109 - mae: 0.0900 - val_loss: 0.0303 - val_mse: 0.0303 - val_mae: 0.0698\n",
            "Epoch 19/50\n",
            "10/10 [==============================] - 304s 33s/step - loss: 0.0087 - mse: 0.0087 - mae: 0.0780 - val_loss: 0.0271 - val_mse: 0.0271 - val_mae: 0.0239\n",
            "Epoch 20/50\n",
            "10/10 [==============================] - 308s 33s/step - loss: 0.0072 - mse: 0.0072 - mae: 0.0742 - val_loss: 0.0267 - val_mse: 0.0267 - val_mae: 0.0194\n",
            "Epoch 21/50\n",
            "10/10 [==============================] - 309s 33s/step - loss: 0.0549 - mse: 0.0549 - mae: 0.0815 - val_loss: 0.0265 - val_mse: 0.0265 - val_mae: 0.0208\n",
            "Epoch 22/50\n",
            "10/10 [==============================] - 314s 34s/step - loss: 0.0103 - mse: 0.0103 - mae: 0.0746 - val_loss: 0.0267 - val_mse: 0.0267 - val_mae: 0.0192\n",
            "Epoch 23/50\n",
            "10/10 [==============================] - 310s 34s/step - loss: 0.0073 - mse: 0.0073 - mae: 0.0677 - val_loss: 0.0285 - val_mse: 0.0285 - val_mae: 0.0472\n",
            "Epoch 00023: early stopping\n"
          ],
          "name": "stdout"
        }
      ]
    },
    {
      "cell_type": "code",
      "metadata": {
        "colab": {
          "base_uri": "https://localhost:8080/",
          "height": 762
        },
        "id": "EMJRMv_EzyKa",
        "outputId": "1fdfefb3-6da0-42ca-ac55-a9bf7e330aad"
      },
      "source": [
        "hist = pd.DataFrame(history.history)\n",
        "hist['epoch'] = history.epoch\n",
        "hist"
      ],
      "execution_count": null,
      "outputs": [
        {
          "output_type": "execute_result",
          "data": {
            "text/html": [
              "<div>\n",
              "<style scoped>\n",
              "    .dataframe tbody tr th:only-of-type {\n",
              "        vertical-align: middle;\n",
              "    }\n",
              "\n",
              "    .dataframe tbody tr th {\n",
              "        vertical-align: top;\n",
              "    }\n",
              "\n",
              "    .dataframe thead th {\n",
              "        text-align: right;\n",
              "    }\n",
              "</style>\n",
              "<table border=\"1\" class=\"dataframe\">\n",
              "  <thead>\n",
              "    <tr style=\"text-align: right;\">\n",
              "      <th></th>\n",
              "      <th>loss</th>\n",
              "      <th>mse</th>\n",
              "      <th>mae</th>\n",
              "      <th>val_loss</th>\n",
              "      <th>val_mse</th>\n",
              "      <th>val_mae</th>\n",
              "      <th>epoch</th>\n",
              "    </tr>\n",
              "  </thead>\n",
              "  <tbody>\n",
              "    <tr>\n",
              "      <th>0</th>\n",
              "      <td>309.302185</td>\n",
              "      <td>309.302185</td>\n",
              "      <td>8.885818</td>\n",
              "      <td>2.615462</td>\n",
              "      <td>2.615462</td>\n",
              "      <td>1.611986</td>\n",
              "      <td>0</td>\n",
              "    </tr>\n",
              "    <tr>\n",
              "      <th>1</th>\n",
              "      <td>4.139109</td>\n",
              "      <td>4.139109</td>\n",
              "      <td>1.633675</td>\n",
              "      <td>0.406480</td>\n",
              "      <td>0.406480</td>\n",
              "      <td>0.607376</td>\n",
              "      <td>1</td>\n",
              "    </tr>\n",
              "    <tr>\n",
              "      <th>2</th>\n",
              "      <td>2.008870</td>\n",
              "      <td>2.008870</td>\n",
              "      <td>1.140914</td>\n",
              "      <td>0.050066</td>\n",
              "      <td>0.050066</td>\n",
              "      <td>0.124200</td>\n",
              "      <td>2</td>\n",
              "    </tr>\n",
              "    <tr>\n",
              "      <th>3</th>\n",
              "      <td>0.769852</td>\n",
              "      <td>0.769852</td>\n",
              "      <td>0.697555</td>\n",
              "      <td>0.056038</td>\n",
              "      <td>0.056038</td>\n",
              "      <td>0.151614</td>\n",
              "      <td>3</td>\n",
              "    </tr>\n",
              "    <tr>\n",
              "      <th>4</th>\n",
              "      <td>0.446431</td>\n",
              "      <td>0.446431</td>\n",
              "      <td>0.530082</td>\n",
              "      <td>0.032563</td>\n",
              "      <td>0.032563</td>\n",
              "      <td>0.071352</td>\n",
              "      <td>4</td>\n",
              "    </tr>\n",
              "    <tr>\n",
              "      <th>5</th>\n",
              "      <td>0.202921</td>\n",
              "      <td>0.202921</td>\n",
              "      <td>0.349604</td>\n",
              "      <td>0.031148</td>\n",
              "      <td>0.031148</td>\n",
              "      <td>0.057968</td>\n",
              "      <td>5</td>\n",
              "    </tr>\n",
              "    <tr>\n",
              "      <th>6</th>\n",
              "      <td>0.114583</td>\n",
              "      <td>0.114583</td>\n",
              "      <td>0.280427</td>\n",
              "      <td>0.048676</td>\n",
              "      <td>0.048676</td>\n",
              "      <td>0.143687</td>\n",
              "      <td>6</td>\n",
              "    </tr>\n",
              "    <tr>\n",
              "      <th>7</th>\n",
              "      <td>0.083779</td>\n",
              "      <td>0.083779</td>\n",
              "      <td>0.243380</td>\n",
              "      <td>0.027801</td>\n",
              "      <td>0.027801</td>\n",
              "      <td>0.038667</td>\n",
              "      <td>7</td>\n",
              "    </tr>\n",
              "    <tr>\n",
              "      <th>8</th>\n",
              "      <td>0.064526</td>\n",
              "      <td>0.064526</td>\n",
              "      <td>0.215940</td>\n",
              "      <td>0.029096</td>\n",
              "      <td>0.029096</td>\n",
              "      <td>0.044932</td>\n",
              "      <td>8</td>\n",
              "    </tr>\n",
              "    <tr>\n",
              "      <th>9</th>\n",
              "      <td>0.049996</td>\n",
              "      <td>0.049996</td>\n",
              "      <td>0.178066</td>\n",
              "      <td>0.027359</td>\n",
              "      <td>0.027359</td>\n",
              "      <td>0.032303</td>\n",
              "      <td>9</td>\n",
              "    </tr>\n",
              "    <tr>\n",
              "      <th>10</th>\n",
              "      <td>0.039083</td>\n",
              "      <td>0.039083</td>\n",
              "      <td>0.164591</td>\n",
              "      <td>0.027939</td>\n",
              "      <td>0.027939</td>\n",
              "      <td>0.035579</td>\n",
              "      <td>10</td>\n",
              "    </tr>\n",
              "    <tr>\n",
              "      <th>11</th>\n",
              "      <td>0.034222</td>\n",
              "      <td>0.034222</td>\n",
              "      <td>0.156756</td>\n",
              "      <td>0.031289</td>\n",
              "      <td>0.031289</td>\n",
              "      <td>0.065812</td>\n",
              "      <td>11</td>\n",
              "    </tr>\n",
              "    <tr>\n",
              "      <th>12</th>\n",
              "      <td>0.027980</td>\n",
              "      <td>0.027980</td>\n",
              "      <td>0.134075</td>\n",
              "      <td>0.029497</td>\n",
              "      <td>0.029497</td>\n",
              "      <td>0.048913</td>\n",
              "      <td>12</td>\n",
              "    </tr>\n",
              "    <tr>\n",
              "      <th>13</th>\n",
              "      <td>0.019786</td>\n",
              "      <td>0.019786</td>\n",
              "      <td>0.115764</td>\n",
              "      <td>0.027070</td>\n",
              "      <td>0.027070</td>\n",
              "      <td>0.024265</td>\n",
              "      <td>13</td>\n",
              "    </tr>\n",
              "    <tr>\n",
              "      <th>14</th>\n",
              "      <td>0.015559</td>\n",
              "      <td>0.015559</td>\n",
              "      <td>0.104030</td>\n",
              "      <td>0.026454</td>\n",
              "      <td>0.026454</td>\n",
              "      <td>0.023000</td>\n",
              "      <td>14</td>\n",
              "    </tr>\n",
              "    <tr>\n",
              "      <th>15</th>\n",
              "      <td>0.030388</td>\n",
              "      <td>0.030388</td>\n",
              "      <td>0.109022</td>\n",
              "      <td>0.027651</td>\n",
              "      <td>0.027651</td>\n",
              "      <td>0.025125</td>\n",
              "      <td>15</td>\n",
              "    </tr>\n",
              "    <tr>\n",
              "      <th>16</th>\n",
              "      <td>0.009954</td>\n",
              "      <td>0.009954</td>\n",
              "      <td>0.087900</td>\n",
              "      <td>0.027944</td>\n",
              "      <td>0.027944</td>\n",
              "      <td>0.035081</td>\n",
              "      <td>16</td>\n",
              "    </tr>\n",
              "    <tr>\n",
              "      <th>17</th>\n",
              "      <td>0.013099</td>\n",
              "      <td>0.013099</td>\n",
              "      <td>0.087553</td>\n",
              "      <td>0.030334</td>\n",
              "      <td>0.030334</td>\n",
              "      <td>0.069789</td>\n",
              "      <td>17</td>\n",
              "    </tr>\n",
              "    <tr>\n",
              "      <th>18</th>\n",
              "      <td>0.007927</td>\n",
              "      <td>0.007927</td>\n",
              "      <td>0.075923</td>\n",
              "      <td>0.027133</td>\n",
              "      <td>0.027133</td>\n",
              "      <td>0.023871</td>\n",
              "      <td>18</td>\n",
              "    </tr>\n",
              "    <tr>\n",
              "      <th>19</th>\n",
              "      <td>0.006453</td>\n",
              "      <td>0.006453</td>\n",
              "      <td>0.069635</td>\n",
              "      <td>0.026658</td>\n",
              "      <td>0.026658</td>\n",
              "      <td>0.019420</td>\n",
              "      <td>19</td>\n",
              "    </tr>\n",
              "    <tr>\n",
              "      <th>20</th>\n",
              "      <td>0.121237</td>\n",
              "      <td>0.121237</td>\n",
              "      <td>0.088002</td>\n",
              "      <td>0.026469</td>\n",
              "      <td>0.026469</td>\n",
              "      <td>0.020779</td>\n",
              "      <td>20</td>\n",
              "    </tr>\n",
              "    <tr>\n",
              "      <th>21</th>\n",
              "      <td>0.008870</td>\n",
              "      <td>0.008870</td>\n",
              "      <td>0.070666</td>\n",
              "      <td>0.026698</td>\n",
              "      <td>0.026698</td>\n",
              "      <td>0.019188</td>\n",
              "      <td>21</td>\n",
              "    </tr>\n",
              "    <tr>\n",
              "      <th>22</th>\n",
              "      <td>0.010016</td>\n",
              "      <td>0.010016</td>\n",
              "      <td>0.076966</td>\n",
              "      <td>0.028532</td>\n",
              "      <td>0.028532</td>\n",
              "      <td>0.047156</td>\n",
              "      <td>22</td>\n",
              "    </tr>\n",
              "  </tbody>\n",
              "</table>\n",
              "</div>"
            ],
            "text/plain": [
              "          loss         mse       mae  val_loss   val_mse   val_mae  epoch\n",
              "0   309.302185  309.302185  8.885818  2.615462  2.615462  1.611986      0\n",
              "1     4.139109    4.139109  1.633675  0.406480  0.406480  0.607376      1\n",
              "2     2.008870    2.008870  1.140914  0.050066  0.050066  0.124200      2\n",
              "3     0.769852    0.769852  0.697555  0.056038  0.056038  0.151614      3\n",
              "4     0.446431    0.446431  0.530082  0.032563  0.032563  0.071352      4\n",
              "5     0.202921    0.202921  0.349604  0.031148  0.031148  0.057968      5\n",
              "6     0.114583    0.114583  0.280427  0.048676  0.048676  0.143687      6\n",
              "7     0.083779    0.083779  0.243380  0.027801  0.027801  0.038667      7\n",
              "8     0.064526    0.064526  0.215940  0.029096  0.029096  0.044932      8\n",
              "9     0.049996    0.049996  0.178066  0.027359  0.027359  0.032303      9\n",
              "10    0.039083    0.039083  0.164591  0.027939  0.027939  0.035579     10\n",
              "11    0.034222    0.034222  0.156756  0.031289  0.031289  0.065812     11\n",
              "12    0.027980    0.027980  0.134075  0.029497  0.029497  0.048913     12\n",
              "13    0.019786    0.019786  0.115764  0.027070  0.027070  0.024265     13\n",
              "14    0.015559    0.015559  0.104030  0.026454  0.026454  0.023000     14\n",
              "15    0.030388    0.030388  0.109022  0.027651  0.027651  0.025125     15\n",
              "16    0.009954    0.009954  0.087900  0.027944  0.027944  0.035081     16\n",
              "17    0.013099    0.013099  0.087553  0.030334  0.030334  0.069789     17\n",
              "18    0.007927    0.007927  0.075923  0.027133  0.027133  0.023871     18\n",
              "19    0.006453    0.006453  0.069635  0.026658  0.026658  0.019420     19\n",
              "20    0.121237    0.121237  0.088002  0.026469  0.026469  0.020779     20\n",
              "21    0.008870    0.008870  0.070666  0.026698  0.026698  0.019188     21\n",
              "22    0.010016    0.010016  0.076966  0.028532  0.028532  0.047156     22"
            ]
          },
          "metadata": {
            "tags": []
          },
          "execution_count": 18
        }
      ]
    },
    {
      "cell_type": "code",
      "metadata": {
        "id": "WODIrGEMqSgL"
      },
      "source": [
        "\n",
        "import matplotlib.pyplot as plt\n",
        "%matplotlib inline\n",
        "def plot_loss(history):\n",
        "  plt.plot(history.history['loss'], label='loss')\n",
        "  plt.plot(history.history['val_loss'], label='val_loss')\n",
        "  plt.xlabel('Epoch')\n",
        "  plt.ylabel('Error [z]')\n",
        "  plt.legend()\n",
        "  plt.grid(True)\n",
        "\n",
        "  hist = pd.DataFrame(history.history)\n",
        "  hist['epoch'] = history.epoch\n",
        "\n",
        "  plt.figure()\n",
        "  plt.xlabel('Epoch')\n",
        "  plt.ylabel('Mean Abs Err [z]')\n",
        "  plt.plot(hist['epoch'], hist['mae'], label='Train Error')\n",
        "  plt.plot(hist['epoch'], hist['val_mae'], label='Val Error')\n",
        "  plt.legend()\n",
        "\n",
        "  plt.figure()\n",
        "  plt.xlabel('Epoch')\n",
        "  plt.ylabel('Mean Squared Err [$z^2$]')\n",
        "  plt.plot(hist['epoch'], hist['mse'], label='Train Error')\n",
        "  plt.plot(hist['epoch'], hist['val_mse'], label='Val Error')\n",
        "  plt.legend()\n",
        "\n"
      ],
      "execution_count": null,
      "outputs": []
    },
    {
      "cell_type": "code",
      "metadata": {
        "colab": {
          "base_uri": "https://localhost:8080/",
          "height": 803
        },
        "id": "KMvc4ljur5sJ",
        "outputId": "d5fbceb2-bf33-4e14-99af-052e6744beaa"
      },
      "source": [
        "plot_loss(history)"
      ],
      "execution_count": null,
      "outputs": [
        {
          "output_type": "display_data",
          "data": {
            "image/png": "[encoded data removed]",
            "text/plain": [
              "<Figure size 432x288 with 1 Axes>"
            ]
          },
          "metadata": {
            "tags": [],
            "needs_background": "light"
          }
        },
        {
          "output_type": "display_data",
          "data": {
            "image/png": "[encoded data removed]",
            "text/plain": [
              "<Figure size 432x288 with 1 Axes>"
            ]
          },
          "metadata": {
            "tags": [],
            "needs_background": "light"
          }
        },
        {
          "output_type": "display_data",
          "data": {
            "image/png": "[encoded data removed]",
            "text/plain": [
              "<Figure size 432x288 with 1 Axes>"
            ]
          },
          "metadata": {
            "tags": [],
            "needs_background": "light"
          }
        }
      ]
    },
    {
      "cell_type": "code",
      "metadata": {
        "colab": {
          "base_uri": "https://localhost:8080/"
        },
        "id": "iRmPJcC3BUhZ",
        "outputId": "35667a35-99fa-4a57-9da4-b70e078db4b9"
      },
      "source": [
        "model.save(\"MainZmodel_vgg\")"
      ],
      "execution_count": null,
      "outputs": [
        {
          "output_type": "stream",
          "text": [
            "INFO:tensorflow:Assets written to: MainZmodel_vgg/assets\n"
          ],
          "name": "stdout"
        }
      ]
    },
    {
      "cell_type": "code",
      "metadata": {
        "id": "eGE8I5ANCAjF"
      },
      "source": [
        "test_features = test_df.copy()\n",
        "test_labels = test_features.pop('z')"
      ],
      "execution_count": null,
      "outputs": []
    },
    {
      "cell_type": "code",
      "metadata": {
        "id": "SIw6oLvNEkxQ"
      },
      "source": [
        "test_predictions = model.predict(test_generator).flatten()\n"
      ],
      "execution_count": null,
      "outputs": []
    },
    {
      "cell_type": "code",
      "metadata": {
        "id": "wWFprGRZ8GVz"
      },
      "source": [
        "np.save('/content/drive/MyDrive/Colab Notebooks/MainVggpredictions', test_predictions)"
      ],
      "execution_count": null,
      "outputs": []
    },
    {
      "cell_type": "code",
      "metadata": {
        "colab": {
          "base_uri": "https://localhost:8080/"
        },
        "id": "iRAJMDnlzRtI",
        "outputId": "27a97ca8-d3fe-48ed-8a37-f7dea95d31bb"
      },
      "source": [
        "test_predictions"
      ],
      "execution_count": null,
      "outputs": [
        {
          "output_type": "execute_result",
          "data": {
            "text/plain": [
              "array([-0.02034224, -0.0261186 , -0.02567275, -0.01913811, -0.02959118,\n",
              "       -0.02183121, -0.02228227, -0.02360803, -0.02180323, -0.01996563,\n",
              "       -0.02629888, -0.03990575, -0.02984136, -0.02888045, -0.01813351,\n",
              "       -0.02244404, -0.02090772, -0.03480326, -0.02755329, -0.03055094,\n",
              "       -0.02439303, -0.01716209, -0.02628995, -0.01769989, -0.02188587,\n",
              "       -0.01966479, -0.02006311, -0.02234462, -0.01135835, -0.01816527,\n",
              "       -0.01936389, -0.02358705, -0.02050253, -0.02346168, -0.02379719,\n",
              "       -0.01929624, -0.01725584, -0.01092485, -0.02399895, -0.02407073,\n",
              "       -0.02174782, -0.03908805, -0.02433312, -0.02741629, -0.02029357,\n",
              "       -0.01500411, -0.02389983, -0.01927943, -0.02033518, -0.03072391,\n",
              "       -0.0415182 , -0.02386137, -0.02615946, -0.0169835 , -0.02827142,\n",
              "       -0.01533023, -0.02309091, -0.01248026, -0.02027927, -0.01359505,\n",
              "       -0.03173329, -0.01377136, -0.03028033, -0.01661628, -0.02694814,\n",
              "       -0.03096807, -0.02077659, -0.01497477, -0.02846049, -0.01804055,\n",
              "       -0.02927994, -0.02284497, -0.02158993, -0.02295234, -0.03247306,\n",
              "       -0.02462082, -0.02054318, -0.03114116, -0.01471509, -0.0190427 ,\n",
              "       -0.01418641, -0.00839094, -0.01792619, -0.02275088, -0.02750268,\n",
              "       -0.01480452, -0.02334425, -0.02835478, -0.01816837, -0.01300192,\n",
              "       -0.02389312, -0.01863261, -0.00607751, -0.02906713, -0.02196685,\n",
              "       -0.0189841 , -0.02164226, -0.0139776 , -0.01418736, -0.02101962,\n",
              "       -0.01542861, -0.02210525, -0.01561023, -0.01826226, -0.02292495,\n",
              "       -0.01581727, -0.02437008, -0.03987823, -0.01819811, -0.02546779,\n",
              "       -0.02177596, -0.02154322, -0.02209532, -0.00936924, -0.03071601,\n",
              "       -0.01798975, -0.03938033, -0.0347555 , -0.0160342 , -0.02136418,\n",
              "       -0.03097109, -0.02176842, -0.02206974, -0.02393142, -0.03660481,\n",
              "       -0.022095  , -0.02298843, -0.01239439, -0.02214878, -0.01431893,\n",
              "       -0.02148635, -0.01979188, -0.01257195, -0.02621009, -0.02663875,\n",
              "       -0.02248644, -0.01601753, -0.01667067, -0.02916457, -0.02925358,\n",
              "       -0.0223676 , -0.02268127, -0.02998554, -0.01789858, -0.02586265,\n",
              "       -0.02436246, -0.01823014, -0.01734802, -0.01984537, -0.0211175 ,\n",
              "       -0.02953781, -0.02155479, -0.03173259, -0.02738181, -0.01624396,\n",
              "       -0.01451989, -0.01764173, -0.02488203, -0.0387051 , -0.01814446,\n",
              "       -0.02641557, -0.02340721, -0.02258391, -0.01681853, -0.01977178,\n",
              "       -0.01809178, -0.03568969, -0.01823374, -0.0301313 , -0.0238153 ,\n",
              "       -0.02163706, -0.03550659, -0.02102205, -0.0211425 , -0.033994  ,\n",
              "       -0.01973   , -0.0235965 , -0.02493124, -0.024561  , -0.01693008,\n",
              "       -0.02631055, -0.01875782, -0.01970941, -0.01517639, -0.02200512,\n",
              "       -0.02818539, -0.02573611, -0.02469132, -0.01562671, -0.02992583,\n",
              "       -0.02152349, -0.02790134, -0.03995177, -0.02127547, -0.01812547,\n",
              "       -0.01932061, -0.03309197, -0.02536024, -0.02738824, -0.02398878,\n",
              "       -0.00748858, -0.02452331, -0.01995151, -0.02771476, -0.02412403,\n",
              "       -0.0172252 , -0.02765717, -0.03214482, -0.03323346, -0.02404415,\n",
              "       -0.02017498, -0.02370455, -0.03931912, -0.01254487, -0.03196193,\n",
              "       -0.01795667, -0.02673022, -0.02486431, -0.03431683, -0.03135578,\n",
              "       -0.02637012, -0.01940939, -0.01872293, -0.01944436, -0.0297846 ,\n",
              "       -0.01829973, -0.01247592, -0.02898879, -0.01227924, -0.01129174,\n",
              "       -0.01753827, -0.02102645, -0.02014256, -0.03142791, -0.02221818,\n",
              "       -0.01981536, -0.02751147, -0.02779688, -0.03118959, -0.01295421,\n",
              "       -0.01955542, -0.01405379, -0.03277265, -0.01443075, -0.0280731 ,\n",
              "       -0.02915917, -0.02015838, -0.02443545, -0.02335687, -0.01951169,\n",
              "       -0.00983685, -0.00940189, -0.02028605, -0.0296385 , -0.02949109,\n",
              "       -0.01765421, -0.0239592 , -0.01934925, -0.03463124, -0.02741029,\n",
              "       -0.0256443 , -0.02159152, -0.02978513, -0.01956104, -0.01734846,\n",
              "       -0.01065378, -0.01420834, -0.02727051, -0.01918208, -0.0407148 ,\n",
              "       -0.01335199, -0.01833791, -0.02672578, -0.03186323, -0.01950254,\n",
              "       -0.02120442, -0.01910884, -0.02581594, -0.01325568, -0.02566901,\n",
              "       -0.01559708, -0.02206975, -0.02279754, -0.02081806, -0.01813801,\n",
              "       -0.02470542, -0.01568038, -0.02452479, -0.02592293, -0.02544493,\n",
              "       -0.02144788, -0.01395053, -0.03203273, -0.02583169, -0.02115151,\n",
              "       -0.02668794, -0.02119557, -0.01457153, -0.03082097, -0.02797838,\n",
              "       -0.02304669, -0.02362086, -0.02506359, -0.02867546, -0.02090234,\n",
              "       -0.02300364, -0.03358703, -0.02535115, -0.02232624, -0.02942177,\n",
              "       -0.01720848, -0.01730815, -0.03427069, -0.02798722, -0.02357708,\n",
              "       -0.01915877, -0.01686935, -0.02547271, -0.02947453, -0.01358093,\n",
              "       -0.01963519, -0.02100456, -0.02738874, -0.02436628, -0.01706034,\n",
              "       -0.02898733, -0.03151584, -0.00436518, -0.00886019, -0.01648251,\n",
              "       -0.01749022, -0.01698325, -0.0235012 , -0.03007171, -0.01680785,\n",
              "       -0.01943774, -0.02616682, -0.01206492, -0.02311598, -0.02145649,\n",
              "       -0.02348898, -0.03024041, -0.01959157, -0.0231128 , -0.03038283,\n",
              "       -0.02465604, -0.02154964, -0.02482657, -0.03276099, -0.02413893,\n",
              "       -0.03111535, -0.03149349, -0.03599261, -0.02164662, -0.02110779,\n",
              "       -0.02237346, -0.01644927, -0.02368996, -0.02246995, -0.02895358,\n",
              "       -0.02709768, -0.02296348, -0.02560713, -0.03567699, -0.01861037,\n",
              "       -0.02649567, -0.02325915, -0.02201721, -0.03298032, -0.02407362,\n",
              "       -0.03556307, -0.03347008, -0.01772119, -0.01916477, -0.03901646,\n",
              "       -0.02132109, -0.02974558, -0.02155679, -0.01827309, -0.03457272,\n",
              "       -0.02104329, -0.04246498, -0.02474866, -0.02001309, -0.02435317,\n",
              "       -0.0121577 , -0.02467014, -0.01378603, -0.02613403, -0.02417502,\n",
              "       -0.02632644, -0.01421846, -0.02786438, -0.0191379 , -0.02340806,\n",
              "       -0.01637451, -0.02788958, -0.01820225, -0.0183922 , -0.01695187,\n",
              "       -0.01812786, -0.03151127, -0.01494135, -0.01122002, -0.02180666,\n",
              "       -0.02967148, -0.01511941, -0.03077786, -0.02391477, -0.0316276 ,\n",
              "       -0.02974134, -0.01119309, -0.03193181, -0.01421841, -0.01292959,\n",
              "       -0.01905071, -0.0174465 , -0.01988173, -0.01973743, -0.02152595,\n",
              "       -0.01578187, -0.02863882, -0.01487795, -0.01370055, -0.01860057,\n",
              "       -0.01852538, -0.02137488, -0.02686015, -0.02714503, -0.02971716,\n",
              "       -0.00783267, -0.02291757, -0.0273229 , -0.02315916, -0.02376154,\n",
              "       -0.01793877, -0.01741698, -0.02277094, -0.01823708, -0.02465511,\n",
              "       -0.020819  , -0.00561421, -0.03157699, -0.01521276, -0.02082943,\n",
              "       -0.03516927, -0.01969219, -0.02530605, -0.01739008, -0.02287966,\n",
              "       -0.03358656, -0.02162217, -0.03390829, -0.02742355, -0.01976844,\n",
              "       -0.02952468, -0.02593141, -0.0171467 , -0.02292688, -0.03239843,\n",
              "       -0.01216458, -0.02707829, -0.02264821, -0.02187609, -0.02559153,\n",
              "       -0.03006738, -0.02499622, -0.02037279, -0.0150069 , -0.01613072,\n",
              "       -0.02240174, -0.02175505, -0.02138086, -0.0242139 , -0.03323153,\n",
              "       -0.0209515 , -0.01985374, -0.01994395, -0.02856982, -0.02494722,\n",
              "       -0.02773329, -0.01829112, -0.03758798, -0.02410448, -0.02266461,\n",
              "       -0.0290795 , -0.01197786, -0.01624575, -0.02600196, -0.02134049,\n",
              "       -0.01935863, -0.03570953, -0.02273227, -0.03200604, -0.01548577,\n",
              "       -0.01515003, -0.01454004, -0.0073744 , -0.02786417, -0.02377502,\n",
              "       -0.03034424, -0.01720323, -0.01981195, -0.01794574, -0.01770408,\n",
              "       -0.02110562, -0.03092651, -0.02193775, -0.02058625, -0.02472611,\n",
              "       -0.0174272 , -0.0229599 , -0.01625335, -0.02879821, -0.00991807,\n",
              "       -0.02357944, -0.01197637, -0.02523648, -0.02824305, -0.01534712,\n",
              "       -0.01941581, -0.02072671, -0.02055146, -0.01694816, -0.02758281,\n",
              "       -0.03529353, -0.00961583, -0.01791129, -0.02730401, -0.01979684,\n",
              "       -0.02081371, -0.016898  , -0.03234717, -0.02330954, -0.02948773,\n",
              "       -0.0283314 , -0.03165807, -0.02325066, -0.03672489, -0.03173963,\n",
              "       -0.01539485, -0.01446432, -0.03088586, -0.01968797, -0.022745  ,\n",
              "       -0.03676498, -0.01774089, -0.02231345, -0.02988166, -0.01692425,\n",
              "       -0.03145229, -0.01812302, -0.01469335, -0.01751023, -0.01752349,\n",
              "       -0.02981487, -0.02130917, -0.01748679, -0.02235464, -0.03361803,\n",
              "       -0.02426408, -0.03453956, -0.01887239, -0.02108669, -0.017508  ,\n",
              "       -0.03324975, -0.02532384, -0.02058537, -0.02849158, -0.01997289,\n",
              "       -0.01606179, -0.02019421, -0.0274667 , -0.01270245, -0.01595705,\n",
              "       -0.0221784 , -0.0227478 , -0.02647523, -0.0130488 , -0.02999682,\n",
              "       -0.01217373, -0.02175082, -0.02656609, -0.02546288, -0.01568199,\n",
              "       -0.0156951 , -0.01665862, -0.02366244, -0.01827489, -0.01420757,\n",
              "       -0.01587203, -0.02496484, -0.02104031, -0.02668537, -0.02463293,\n",
              "       -0.0301977 , -0.01233754, -0.00168564, -0.0193589 , -0.02417502,\n",
              "       -0.01932778, -0.01378197, -0.01377158, -0.01812042, -0.0265153 ,\n",
              "       -0.01797097, -0.02612965, -0.01962252, -0.02149797, -0.02825914,\n",
              "       -0.019925  , -0.01199084, -0.03413638, -0.03089736, -0.01891601,\n",
              "       -0.02528798, -0.02129172, -0.02728175, -0.03217468, -0.02703593,\n",
              "       -0.01974626, -0.03163688, -0.02754916, -0.02562254, -0.01949682,\n",
              "       -0.02035917, -0.0107573 , -0.01232748, -0.02031063, -0.02897051,\n",
              "       -0.01856361, -0.02565207, -0.02424463, -0.02422147, -0.01457923,\n",
              "       -0.01311637, -0.0255334 , -0.02688747, -0.02297231, -0.01800375,\n",
              "       -0.031276  , -0.01998686, -0.02393479, -0.03061449, -0.03384089,\n",
              "       -0.02672253, -0.01468714, -0.02262964, -0.03233655, -0.0134271 ,\n",
              "       -0.01918973, -0.01518932, -0.02245202, -0.02967738, -0.03158281,\n",
              "       -0.02711504, -0.02794156, -0.01964927, -0.02325035, -0.02909858,\n",
              "       -0.02330792, -0.03448193, -0.02449323, -0.02926223, -0.02787511,\n",
              "       -0.01371688, -0.01201014, -0.0189972 , -0.01344763, -0.022802  ,\n",
              "       -0.01933017, -0.02599128, -0.02556323, -0.02015799, -0.01858669,\n",
              "       -0.03060286, -0.01633198, -0.01220398, -0.02143759, -0.01531988,\n",
              "       -0.03462947, -0.02582128, -0.03190036, -0.01772403, -0.02577066,\n",
              "       -0.02684282, -0.02312662, -0.02324401, -0.03013286, -0.0246238 ,\n",
              "       -0.02886801, -0.01936319, -0.02147473, -0.02288577, -0.01039076,\n",
              "       -0.02192393, -0.02398348, -0.02654137, -0.02723326, -0.02036332,\n",
              "       -0.01985281, -0.01347194, -0.02122702, -0.01307966, -0.03322648,\n",
              "       -0.01573747, -0.01770271, -0.01351752, -0.02695888, -0.02337353,\n",
              "       -0.00216998, -0.01841825, -0.02147983, -0.02619215, -0.02246138,\n",
              "       -0.02775685, -0.02960246, -0.03003143, -0.02590253, -0.02893303,\n",
              "       -0.0302719 , -0.02378236, -0.02081847, -0.01934172, -0.02166983,\n",
              "       -0.02458903, -0.0134629 , -0.02331961, -0.02497015, -0.01830565,\n",
              "       -0.02669531, -0.02544397, -0.03391056, -0.01558835, -0.00869162,\n",
              "       -0.02140064, -0.0350578 , -0.03051126, -0.01981765, -0.0260293 ,\n",
              "       -0.01393349, -0.04051698, -0.03227036, -0.02059703, -0.01322182,\n",
              "       -0.01930085, -0.0221757 , -0.0276041 , -0.02026968, -0.02711133,\n",
              "       -0.02969924, -0.01992967, -0.02836364, -0.01879565, -0.02514283,\n",
              "       -0.02697486, -0.02233829, -0.03134973, -0.02650032, -0.01191866,\n",
              "       -0.01734719, -0.02165134, -0.0232883 , -0.02366172, -0.0263594 ,\n",
              "       -0.0268975 , -0.01463681, -0.01495611, -0.04128274, -0.03096518,\n",
              "       -0.02548407, -0.01103443, -0.02745283, -0.01451579, -0.01828951,\n",
              "       -0.02300453, -0.03004477, -0.01977342, -0.02413991, -0.02059807,\n",
              "       -0.02172808, -0.02541843, -0.01497512, -0.02122683, -0.01799366,\n",
              "       -0.02323867, -0.01104829, -0.01875088, -0.02423467, -0.03687607,\n",
              "       -0.01411274, -0.01508309, -0.02768664, -0.02385765, -0.021519  ,\n",
              "       -0.01965108, -0.03095581, -0.02573558, -0.02000953, -0.03049579,\n",
              "       -0.01247423, -0.03231396, -0.03943441, -0.02107031, -0.01609576,\n",
              "       -0.02262297, -0.01814366, -0.03595007, -0.02238856, -0.00957212,\n",
              "       -0.02951454, -0.02242252, -0.02608907, -0.01805435, -0.0303199 ,\n",
              "       -0.02999337, -0.0164882 , -0.01222313, -0.02517371, -0.02620985,\n",
              "       -0.02546365, -0.01900872, -0.02324207, -0.02581782, -0.02225596,\n",
              "       -0.02315088, -0.02773032, -0.01814469, -0.02457213, -0.01646488,\n",
              "       -0.00732803, -0.02271551, -0.02136532, -0.02874443, -0.01673694,\n",
              "       -0.02734097, -0.01986393, -0.02272   , -0.03035562, -0.01494199,\n",
              "       -0.02124979, -0.0272961 , -0.02809618, -0.02824859, -0.0236989 ,\n",
              "       -0.02507717, -0.02401375, -0.03562335, -0.01689049, -0.02736088,\n",
              "       -0.02057189, -0.0196162 , -0.02115113, -0.03135806, -0.02155309,\n",
              "       -0.01831764, -0.03766169, -0.02952491, -0.02086603, -0.01695117,\n",
              "       -0.02543666, -0.01334744, -0.0167246 , -0.02174645, -0.02581714,\n",
              "       -0.00922675, -0.01971873, -0.01992353, -0.02235781, -0.02542919,\n",
              "       -0.01363251, -0.00579947, -0.02089998, -0.03143185, -0.01790328,\n",
              "       -0.03280447, -0.03309084, -0.03054144, -0.02396053, -0.03114322,\n",
              "       -0.01898889, -0.02697966, -0.01868352, -0.0192775 , -0.014372  ,\n",
              "       -0.03423188, -0.02858843, -0.03324172, -0.02583901, -0.02539909,\n",
              "       -0.02231093, -0.02046959], dtype=float32)"
            ]
          },
          "metadata": {
            "tags": []
          },
          "execution_count": 26
        }
      ]
    },
    {
      "cell_type": "code",
      "metadata": {
        "colab": {
          "base_uri": "https://localhost:8080/",
          "height": 400
        },
        "id": "m6D_rOhxymhU",
        "outputId": "b6b52736-89e8-4573-bad8-d94ce750e7b5"
      },
      "source": [
        "fig1 = plt.gcf()\n",
        "pd.value_counts(test_predictions.round(2)).sort_index().plot(kind=\"bar\")"
      ],
      "execution_count": null,
      "outputs": [
        {
          "output_type": "execute_result",
          "data": {
            "text/plain": [
              "<matplotlib.axes._subplots.AxesSubplot at 0x7f963e483750>"
            ]
          },
          "metadata": {
            "tags": []
          },
          "execution_count": 27
        },
        {
          "output_type": "display_data",
          "data": {
            "image/png": "[encoded data removed]",
            "text/plain": [
              "<Figure size 432x288 with 1 Axes>"
            ]
          },
          "metadata": {
            "tags": [],
            "needs_background": "light"
          }
        }
      ]
    },
    {
      "cell_type": "code",
      "metadata": {
        "colab": {
          "base_uri": "https://localhost:8080/",
          "height": 285
        },
        "id": "v1yIxlQizDPN",
        "outputId": "982efe56-4945-4dc4-87ca-6e1c00797675"
      },
      "source": [
        "plt.scatter(test_labels, test_predictions )\n",
        "plt.plot(test_labels, test_predictions)"
      ],
      "execution_count": null,
      "outputs": [
        {
          "output_type": "execute_result",
          "data": {
            "text/plain": [
              "[<matplotlib.lines.Line2D at 0x7f963e4f1cd0>]"
            ]
          },
          "metadata": {
            "tags": []
          },
          "execution_count": 28
        },
        {
          "output_type": "display_data",
          "data": {
            "image/png": "[encoded data removed]",
            "text/plain": [
              "<Figure size 432x288 with 1 Axes>"
            ]
          },
          "metadata": {
            "tags": [],
            "needs_background": "light"
          }
        }
      ]
    },
    {
      "cell_type": "code",
      "metadata": {
        "colab": {
          "base_uri": "https://localhost:8080/",
          "height": 285
        },
        "id": "mVPnjjct59C2",
        "outputId": "1e2a2276-cc82-46aa-e3fe-66ba534aa27e"
      },
      "source": [
        "plt.plot(test_labels, test_predictions,'*g')"
      ],
      "execution_count": null,
      "outputs": [
        {
          "output_type": "execute_result",
          "data": {
            "text/plain": [
              "[<matplotlib.lines.Line2D at 0x7f963ee0dc10>]"
            ]
          },
          "metadata": {
            "tags": []
          },
          "execution_count": 29
        },
        {
          "output_type": "display_data",
          "data": {
            "image/png": "[encoded data removed]",
            "text/plain": [
              "<Figure size 432x288 with 1 Axes>"
            ]
          },
          "metadata": {
            "tags": [],
            "needs_background": "light"
          }
        }
      ]
    },
    {
      "cell_type": "code",
      "metadata": {
        "colab": {
          "base_uri": "https://localhost:8080/",
          "height": 283
        },
        "id": "lLiIP6fmDSfI",
        "outputId": "565c56cb-676d-429d-e514-141456282aba"
      },
      "source": [
        "\n",
        "a = plt.axes(aspect='equal')\n",
        "plt.scatter(test_labels, test_predictions)\n",
        "plt.xlabel('True Values [z]')\n",
        "plt.ylabel('Predictions [z]')\n",
        "lims = [-0.1, 0.2]\n",
        "plt.xlim(lims)\n",
        "plt.ylim(lims)\n",
        "_ = plt.plot(lims, lims)"
      ],
      "execution_count": null,
      "outputs": [
        {
          "output_type": "display_data",
          "data": {
            "image/png": "[encoded data removed]",
            "text/plain": [
              "<Figure size 432x288 with 1 Axes>"
            ]
          },
          "metadata": {
            "tags": [],
            "needs_background": "light"
          }
        }
      ]
    },
    {
      "cell_type": "code",
      "metadata": {
        "id": "wvZtRPyPSdhG"
      },
      "source": [
        "test_predictions = np.load('/content/drive/MyDrive/Colab Notebooks/Vggpredictions.npy')"
      ],
      "execution_count": null,
      "outputs": []
    },
    {
      "cell_type": "code",
      "metadata": {
        "id": "g0VWePUFjlf5"
      },
      "source": [
        "spec=test_labels.to_numpy()"
      ],
      "execution_count": null,
      "outputs": []
    },
    {
      "cell_type": "code",
      "metadata": {
        "colab": {
          "base_uri": "https://localhost:8080/"
        },
        "id": "bOKhQQxBi2iZ",
        "outputId": "1a3bebae-90f3-42d6-fc89-209dc396b967"
      },
      "source": [
        "type(spec)"
      ],
      "execution_count": null,
      "outputs": [
        {
          "output_type": "execute_result",
          "data": {
            "text/plain": [
              "numpy.ndarray"
            ]
          },
          "metadata": {
            "tags": []
          },
          "execution_count": 41
        }
      ]
    },
    {
      "cell_type": "code",
      "metadata": {
        "colab": {
          "base_uri": "https://localhost:8080/"
        },
        "id": "rubxEHbojAsp",
        "outputId": "da9b5b1f-5890-48bd-eff7-426d23fe9acc"
      },
      "source": [
        "type(test_predictions)"
      ],
      "execution_count": null,
      "outputs": [
        {
          "output_type": "execute_result",
          "data": {
            "text/plain": [
              "numpy.ndarray"
            ]
          },
          "metadata": {
            "tags": []
          },
          "execution_count": 42
        }
      ]
    },
    {
      "cell_type": "code",
      "metadata": {
        "id": "FD1HLl96k2Ob"
      },
      "source": [
        "outlier=(spec-test_predictions)/(1+spec)"
      ],
      "execution_count": null,
      "outputs": []
    },
    {
      "cell_type": "code",
      "metadata": {
        "colab": {
          "base_uri": "https://localhost:8080/"
        },
        "id": "IkGdhESilMqT",
        "outputId": "0bb3a15b-49c5-479e-ce12-fa30b91de557"
      },
      "source": [
        "outlier\n"
      ],
      "execution_count": null,
      "outputs": [
        {
          "output_type": "execute_result",
          "data": {
            "text/plain": [
              "array([0.05570605, 0.04343247, 0.04546971, 0.03606481, 0.0420446 ,\n",
              "       0.07841644, 0.03364659, 0.03695582, 0.0399859 , 0.03987855,\n",
              "       0.04088699, 0.05941351, 0.03465937, 0.04861224, 0.02443372,\n",
              "       0.02827825, 0.0647164 , 0.06031569, 0.04731204, 0.04772054,\n",
              "       0.03065692, 0.03400897, 0.04373228, 0.03765884, 0.03926555,\n",
              "       0.03958382, 0.03997405, 0.0422092 , 0.03144616, 0.03439706,\n",
              "       0.059928  , 0.07814257, 0.04572404, 0.03983254, 0.04363226,\n",
              "       0.03659893, 0.03966994, 0.02282682, 0.04382992, 0.06381191,\n",
              "       0.04540274, 0.05125101, 0.0441573 , 0.04717782, 0.03961649,\n",
              "       0.03569803, 0.04427587, 0.03920629, 0.03972317, 0.03482013,\n",
              "       0.0609932 , 0.05033795, 0.04594653, 0.03984479, 0.04912413,\n",
              "       0.0325128 , 0.05089956, 0.03254527, 0.04018581, 0.03363741,\n",
              "       0.04503594, 0.03381014, 0.04701475, 0.03659725, 0.04651368,\n",
              "       0.05065743, 0.04067304, 0.0372151 , 0.0482008 , 0.03799259,\n",
              "       0.04726753, 0.04337416, 0.0422955 , 0.04882432, 0.04533243,\n",
              "       0.03831521, 0.05930002, 0.04609834, 0.03473469, 0.03815457,\n",
              "       0.03055071, 0.02853904, 0.03788054, 0.04260721, 0.04726246,\n",
              "       0.02985152, 0.04224084, 0.05461751, 0.0381178 , 0.02990105,\n",
              "       0.04372624, 0.03857262, 0.02627262, 0.04879512, 0.02960194,\n",
              "       0.03911465, 0.03914897, 0.03998442, 0.03421768, 0.04091113,\n",
              "       0.03003627, 0.04859244, 0.03312992, 0.05597602, 0.04100207,\n",
              "       0.03581447, 0.04419351, 0.04700095, 0.03218307, 0.04012508,\n",
              "       0.05024948, 0.04142409, 0.04196497, 0.02949747, 0.05041049,\n",
              "       0.02463491, 0.07440485, 0.05436791, 0.036027  , 0.04124868,\n",
              "       0.03291879, 0.02814283, 0.05693486, 0.04376376, 0.05617964,\n",
              "       0.04277114, 0.04283993, 0.03538126, 0.04201734, 0.03258375,\n",
              "       0.04842543, 0.04614685, 0.0326351 , 0.05359894, 0.04063587,\n",
              "       0.03871297, 0.02194455, 0.03953924, 0.0453084 , 0.04572438,\n",
              "       0.05213069, 0.05130344, 0.04969487, 0.03424875, 0.05378544,\n",
              "       0.05131461, 0.03666831, 0.03731412, 0.02828183, 0.04043358,\n",
              "       0.04925624, 0.04408569, 0.04143328, 0.06159602, 0.02096389,\n",
              "       0.04281429, 0.02563542, 0.04032323, 0.04573896, 0.03809438,\n",
              "       0.04012262, 0.0432502 , 0.04928013, 0.03679539, 0.04008362,\n",
              "       0.02421192, 0.04890985, 0.02571334, 0.05615316, 0.03035845,\n",
              "       0.04151601, 0.05551087, 0.04668528, 0.04774841, 0.03982419,\n",
              "       0.04103813, 0.04343564, 0.04474326, 0.04438054, 0.03690468,\n",
              "       0.04609455, 0.03514113, 0.03152481, 0.03518662, 0.03077851,\n",
              "       0.0479313 , 0.04553178, 0.03740717, 0.03562779, 0.03634856,\n",
              "       0.03573673, 0.04204082, 0.05849933, 0.04116177, 0.03674519,\n",
              "       0.04091911, 0.05386901, 0.0408977 , 0.04715034, 0.0409543 ,\n",
              "       0.02765502, 0.04260844, 0.03986472, 0.04240428, 0.04022899,\n",
              "       0.02196865, 0.0458434 , 0.05181028, 0.0528768 , 0.0438742 ,\n",
              "       0.02399312, 0.04468331, 0.04897205, 0.01409767, 0.0516311 ,\n",
              "       0.03791041, 0.0465057 , 0.02981999, 0.0387702 , 0.05149259,\n",
              "       0.06905399, 0.03933361, 0.0386611 , 0.05848883, 0.04949801,\n",
              "       0.04076502, 0.03254102, 0.05083848, 0.04328633, 0.04375622,\n",
              "       0.03891285, 0.04819107, 0.04786863, 0.08836842, 0.04208533,\n",
              "       0.04715255, 0.05107332, 0.04755068, 0.05087446, 0.03300959,\n",
              "       0.0290686 , 0.03408683, 0.05837542, 0.04891702, 0.04782129,\n",
              "       0.04998353, 0.04006738, 0.04425755, 0.04320088, 0.02303365,\n",
              "       0.05014855, 0.02952945, 0.04019246, 0.03484743, 0.04921046,\n",
              "       0.0376141 , 0.02883059, 0.02549835, 0.04301349, 0.03653718,\n",
              "       0.0591662 , 0.04215642, 0.04949853, 0.05469792, 0.03731456,\n",
              "       0.45628368, 0.04853712, 0.04703501, 0.05100198, 0.52697968,\n",
              "       0.03339929, 0.04904428, 0.04720142, 0.05803112, 0.05709612,\n",
              "       0.04017065, 0.03903917, 0.0500214 , 0.03404307, 0.0529166 ,\n",
              "       0.04998753, 0.06350049, 0.0806867 , 0.04914406, 0.02331056,\n",
              "       0.04452204, 0.03568037, 0.04838185, 0.04141368, 0.04524652,\n",
              "       0.05875868, 0.04217756, 0.05430387, 0.06407364, 0.04104033,\n",
              "       0.04694046, 0.04108349, 0.0335336 , 0.0619093 , 0.04772849,\n",
              "       0.02956606, 0.04737923, 0.04845263, 0.0511907 , 0.06672609,\n",
              "       0.04285483, 0.06068623, 0.03101872, 0.05819035, 0.03456656,\n",
              "       0.05083732, 0.05295493, 0.03672896, 0.06961274, 0.05355111,\n",
              "       0.03908809, 0.02315923, 0.03228734, 0.05309045, 0.06046378,\n",
              "       0.03955483, 0.06106876, 0.06472492, 0.02991999, 0.03703229,\n",
              "       0.05763522, 0.0685234 , 0.04557716, 0.05232982, 0.03393923,\n",
              "       0.03745343, 0.0385204 , 0.04334228, 0.05001195, 0.04697121,\n",
              "       0.05674353, 0.04485893, 0.05432704, 0.04296489, 0.04133912,\n",
              "       0.06904969, 0.04994456, 0.03951209, 0.04296177, 0.05625099,\n",
              "       0.04245677, 0.04423939, 0.03639941, 0.07056126, 0.0437797 ,\n",
              "       0.05080172, 0.07249834, 0.04029783, 0.0630235 , 0.05125879,\n",
              "       0.04223745, 0.07852878, 0.04352721, 0.03521476, 0.04868388,\n",
              "       0.04637053, 0.04281548, 0.04277966, 0.06244421, 0.04275216,\n",
              "       0.06380311, 0.04227948, 0.02983191, 0.0526288 , 0.02681508,\n",
              "       0.06068047, 0.04976659, 0.03819796, 0.03909396, 0.08641334,\n",
              "       0.06546836, 0.09887117, 0.03404657, 0.03866305, 0.05418885,\n",
              "       0.04093431, 0.06282969, 0.04650736, 0.03033038, 0.04289234,\n",
              "       0.03274097, 0.0351007 , 0.01723063, 0.04585619, 0.04400241,\n",
              "       0.04611012, 0.0242685 , 0.0476168 , 0.03945346, 0.04325103,\n",
              "       0.0363604 , 0.04734284, 0.03810388, 0.03811093, 0.04017015,\n",
              "       0.02452793, 0.0525077 , 0.03495635, 0.03131064, 0.04168218,\n",
              "       0.0424736 , 0.01585113, 0.06630496, 0.04374744, 0.05130357,\n",
              "       0.05329535, 0.03152145, 0.0516016 , 0.04611628, 0.01952817,\n",
              "       0.02024699, 0.01693274, 0.03979636, 0.03965499, 0.02601602,\n",
              "       0.0357798 , 0.05157182, 0.01884378, 0.02096207, 0.02566547,\n",
              "       0.02135562, 0.02309716, 0.04500506, 0.07335673, 0.0375028 ,\n",
              "       0.01973311, 0.03608466, 0.04252756, 0.04300719, 0.0310269 ,\n",
              "       0.03789287, 0.03738169, 0.04262686, 0.03818512, 0.04447275,\n",
              "       0.04071458, 0.00939042, 0.05334069, 0.03522226, 0.02381266,\n",
              "       0.04134302, 0.03745122, 0.03128496, 0.02041211, 0.02944064,\n",
              "       0.0372057 , 0.02841259, 0.05353791, 0.04718493, 0.03968536,\n",
              "       0.05223317, 0.04572311, 0.04113744, 0.03122348, 0.03618718,\n",
              "       0.01787368, 0.05070621, 0.04250662, 0.02215477, 0.02854863,\n",
              "       0.04977505, 0.02908571, 0.02596375, 0.04299917, 0.03612156,\n",
              "       0.02717635, 0.04163161, 0.0446158 , 0.02639867, 0.06157205,\n",
              "       0.04084439, 0.02136475, 0.02570592, 0.04830792, 0.04475892,\n",
              "       0.03015596, 0.025952  , 0.05714284, 0.0439333 , 0.04591564,\n",
              "       0.03183201, 0.05006092, 0.03844799, 0.04579223, 0.02473344,\n",
              "       0.03928388, 0.03734988, 0.02438301, 0.05167431, 0.03548972,\n",
              "       0.03516079, 0.03456319, 0.00768133, 0.0476166 , 0.04361054,\n",
              "       0.05214491, 0.03717227, 0.03972799, 0.02634256, 0.02984077,\n",
              "       0.04099538, 0.05061672, 0.02545391, 0.04317685, 0.03146133,\n",
              "       0.040653  , 0.04281198, 0.03847421, 0.03266658, 0.01028664,\n",
              "       0.0272661 , 0.03205162, 0.03172586, 0.07270676, 0.03535388,\n",
              "       0.02263136, 0.02461071, 0.03582401, 0.03315253, 0.0723423 ,\n",
              "       0.03877796, 0.02973904, 0.03326307, 0.04245241, 0.02347347,\n",
              "       0.0407094 , 0.03687325, 0.03419669, 0.04585596, 0.04914196,\n",
              "       0.03398164, 0.05133341, 0.03138989, 0.04518171, 0.03594772,\n",
              "       0.03540064, 0.03448902, 0.03342601, 0.02795328, 0.05675829,\n",
              "       0.05633656, 0.04449503, 0.04217867, 0.0337101 , 0.03689896,\n",
              "       0.05024788, 0.06660363, 0.03471339, 0.03314428, 0.03504704,\n",
              "       0.05296975, 0.04531008, 0.03745008, 0.04551987, 0.04336613,\n",
              "       0.04408966, 0.03731018, 0.03880752, 0.04097683, 0.03747085,\n",
              "       0.05678302, 0.04512789, 0.0404857 , 0.06400329, 0.03988567,\n",
              "       0.03605403, 0.04010248, 0.04725521, 0.03964054, 0.03884222,\n",
              "       0.05966938, 0.04487797, 0.0487906 , 0.03511571, 0.04591102,\n",
              "       0.03224497, 0.04162747, 0.04670913, 0.04867521, 0.02629537,\n",
              "       0.0357798 , 0.04029613, 0.02783401, 0.04007479, 0.03674767,\n",
              "       0.04028713, 0.0322539 , 0.03097284, 0.05119305, 0.0471488 ,\n",
              "       0.06082423, 0.02033552, 0.02196998, 0.04231462, 0.0288337 ,\n",
              "       0.03041019, 0.03382054, 0.03714019, 0.04004578, 0.05942598,\n",
              "       0.02526008, 0.04591732, 0.03779851, 0.02526726, 0.03568054,\n",
              "       0.03983874, 0.03206579, 0.05409497, 0.05058816, 0.02644162,\n",
              "       0.04025993, 0.02896387, 0.04463125, 0.04191837, 0.04680519,\n",
              "       0.02520899, 0.05056855, 0.05089709, 0.04746418, 0.03941926,\n",
              "       0.02809553, 0.03085732, 0.01847673, 0.03438923, 0.05604319,\n",
              "       0.03236212, 0.04544944, 0.04196822, 0.03180054, 0.03849193,\n",
              "       0.01903161, 0.04533319, 0.04665975, 0.04282414, 0.04162763,\n",
              "       0.0437078 , 0.03862787, 0.04698814, 0.0346237 , 0.0648595 ,\n",
              "       0.04950587, 0.03470731, 0.04683061, 0.03628873, 0.02853341,\n",
              "       0.03911841, 0.01857132, 0.04540991, 0.05202124, 0.05515666,\n",
              "       0.0468827 , 0.0340963 , 0.03895663, 0.02936438, 0.05659872,\n",
              "       0.04315293, 0.05731379, 0.04431415, 0.04569536, 0.04762732,\n",
              "       0.03375676, 0.02387977, 0.02478898, 0.03349298, 0.04265728,\n",
              "       0.04565112, 0.05818259, 0.0431971 , 0.0380597 , 0.04573551,\n",
              "       0.0353115 , 0.04302209, 0.02484203, 0.04421398, 0.03998273,\n",
              "       0.04206021, 0.04561522, 0.03613654, 0.03184934, 0.04556563,\n",
              "       0.04013692, 0.02849613, 0.03769779, 0.03768415, 0.03080436,\n",
              "       0.04860004, 0.03928835, 0.02665004, 0.04273936, 0.04525794,\n",
              "       0.04179706, 0.05318331, 0.03361818, 0.03913834, 0.04026815,\n",
              "       0.03976802, 0.03908981, 0.04659707, 0.03313249, 0.04062994,\n",
              "       0.03092291, 0.02395234, 0.01905885, 0.03199251, 0.04321721,\n",
              "       0.03038575, 0.04467999, 0.04136198, 0.05502339, 0.05122814,\n",
              "       0.05689868, 0.05436855, 0.05825551, 0.04569482, 0.03993537,\n",
              "       0.06007686, 0.05139622, 0.04769259, 0.03231833, 0.05581168,\n",
              "       0.04440801, 0.02185635, 0.05333825, 0.03321681, 0.0382523 ,\n",
              "       0.0449745 , 0.04524558, 0.05354014, 0.03559021, 0.02883361,\n",
              "       0.04262563, 0.04054874, 0.0502099 , 0.04795996, 0.05934722,\n",
              "       0.02456572, 0.06001233, 0.05193327, 0.04049712, 0.03327176,\n",
              "       0.03604475, 0.05761866, 0.04736181, 0.05187082, 0.05614433,\n",
              "       0.06706335, 0.04195513, 0.04810592, 0.02748893, 0.05690623,\n",
              "       0.03541498, 0.042203  , 0.06107606, 0.04628046, 0.04966593,\n",
              "       0.04726312, 0.03255445, 0.04114223, 0.03204901, 0.0478215 ,\n",
              "       0.04142943, 0.03333216, 0.04984578, 0.0710014 , 0.0506546 ,\n",
              "       0.04528486, 0.51898562, 0.04045467, 0.02792076, 0.04819522,\n",
              "       0.04356783, 0.06013001, 0.03432612, 0.03977242, 0.04049814,\n",
              "       0.04160519, 0.04245319, 0.04596226, 0.04111412, 0.03721093,\n",
              "       0.04308509, 0.02841059, 0.03868848, 0.05374826, 0.07792677,\n",
              "       0.0443032 , 0.02955246, 0.05793631, 0.03225765, 0.05387643,\n",
              "       0.04842666, 0.06087629, 0.03965103, 0.03992155, 0.05019475,\n",
              "       0.04716688, 0.05197598, 0.05425425, 0.05599837, 0.05336479,\n",
              "       0.05486164, 0.05209752, 0.05553821, 0.05722413, 0.04680395,\n",
              "       0.06406008, 0.05987702, 0.03996162, 0.05446683, 0.05486506,\n",
              "       0.04970254, 0.04581045, 0.04362105, 0.04498081, 0.05482043,\n",
              "       0.02552777, 0.03894108, 0.05040984, 0.04561184, 0.04212235,\n",
              "       0.04898057, 0.05519578, 0.02609372, 0.04439145, 0.04689745,\n",
              "       0.03566033, 0.0528996 , 0.0500998 , 0.04847898, 0.03671546,\n",
              "       0.04710403, 0.03977892, 0.05120289, 0.05005743, 0.04446793,\n",
              "       0.04113662, 0.05735699, 0.057365  , 0.04799321, 0.03203694,\n",
              "       0.05902746, 0.04384442, 0.05521813, 0.03686589, 0.04712354,\n",
              "       0.04047249, 0.03953622, 0.05292548, 0.06051953, 0.04143376,\n",
              "       0.03826404, 0.06486478, 0.04209265, 0.03076195, 0.03692534,\n",
              "       0.04500452, 0.04061321, 0.03670337, 0.04162319, 0.03811959,\n",
              "       0.03725234, 0.04244159, 0.04454559, 0.04932837, 0.0439104 ,\n",
              "       0.03367411, 0.02600022, 0.04079391, 0.05111179, 0.03785811,\n",
              "       0.05245652, 0.03872965, 0.04138339, 0.0547291 , 0.09976791,\n",
              "       0.02634389, 0.06610967, 0.04765389, 0.0392044 , 0.03439858,\n",
              "       0.05385492, 0.04122509, 0.05288489, 0.0386158 , 0.0574915 ,\n",
              "       0.04724455, 0.04176165])"
            ]
          },
          "metadata": {
            "tags": []
          },
          "execution_count": 44
        }
      ]
    },
    {
      "cell_type": "code",
      "metadata": {
        "id": "-Dmap4sOkVW7"
      },
      "source": [
        "f=pd.DataFrame(outlier)"
      ],
      "execution_count": null,
      "outputs": []
    },
    {
      "cell_type": "code",
      "metadata": {
        "colab": {
          "base_uri": "https://localhost:8080/"
        },
        "id": "EuKS7DC8rV5P",
        "outputId": "f80db478-fdca-4e54-b0f9-297796b83ca5"
      },
      "source": [
        "f[0].median()"
      ],
      "execution_count": null,
      "outputs": [
        {
          "output_type": "execute_result",
          "data": {
            "text/plain": [
              "0.04208899146570086"
            ]
          },
          "metadata": {
            "tags": []
          },
          "execution_count": 47
        }
      ]
    }
  ]
}