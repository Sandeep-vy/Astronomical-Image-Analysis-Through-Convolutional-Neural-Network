{
  "nbformat": 4,
  "nbformat_minor": 0,
  "metadata": {
    "colab": {
      "name": "!Z(vgg16).ipynb",
      "provenance": [],
      "collapsed_sections": []
    },
    "kernelspec": {
      "name": "python3",
      "display_name": "Python 3"
    },
    "accelerator": "TPU"
  },
  "cells": [
    {
      "cell_type": "code",
      "metadata": {
        "id": "4WEr6KeHqhuT"
      },
      "source": [
        "from keras.layers import Input, Lambda, Dense, Flatten\n",
        "from keras.models import Model\n",
        "from keras.applications.vgg16 import VGG16\n",
        "from keras.applications.vgg16 import preprocess_input\n",
        "from keras.preprocessing import image\n",
        "from keras.preprocessing.image import ImageDataGenerator\n",
        "from keras.models import Sequential\n",
        "import numpy as np\n",
        "from glob import glob\n",
        "import matplotlib.pyplot as plt"
      ],
      "execution_count": null,
      "outputs": []
    },
    {
      "cell_type": "code",
      "metadata": {
        "id": "aW2boPqsq2H1"
      },
      "source": [
        "import os\n",
        "import tensorflow as tf\n",
        "from tensorflow.keras import layers\n",
        "from tensorflow.keras import Model\n",
        "\n",
        "from keras.preprocessing.image import ImageDataGenerator\n",
        "\n",
        "import pandas as pd"
      ],
      "execution_count": null,
      "outputs": []
    },
    {
      "cell_type": "code",
      "metadata": {
        "id": "WjKqyiAU1GUw",
        "colab": {
          "base_uri": "https://localhost:8080/"
        },
        "outputId": "f8eb11aa-6059-46a6-ecc9-4506efd050c9"
      },
      "source": [
        "\n",
        "from tensorflow.keras.applications import VGG16\n",
        "\n",
        "pre_model = VGG16(input_shape = (150, 150, 3), \n",
        "                                include_top = False, \n",
        "                                weights = 'imagenet')\n",
        "\n",
        "# Make all the layers in the pre-model non-trainable\n",
        "for layer in pre_model.layers:\n",
        "    layer.trainable = False"
      ],
      "execution_count": null,
      "outputs": [
        {
          "output_type": "stream",
          "text": [
            "Downloading data from https://storage.googleapis.com/tensorflow/keras-applications/vgg16/vgg16_weights_tf_dim_ordering_tf_kernels_notop.h5\n",
            "58892288/58889256 [==============================] - 1s 0us/step\n"
          ],
          "name": "stdout"
        }
      ]
    },
    {
      "cell_type": "code",
      "metadata": {
        "colab": {
          "base_uri": "https://localhost:8080/"
        },
        "id": "9vQKyH0I2tqJ",
        "outputId": "afe8fc4a-5120-4dbd-c1b2-bd947e02dc62"
      },
      "source": [
        "\n",
        "last_layer = pre_model.get_layer('block5_conv3')\n",
        "print('last layer output shape: ', last_layer.output_shape)\n",
        "last_output = last_layer.output"
      ],
      "execution_count": null,
      "outputs": [
        {
          "output_type": "stream",
          "text": [
            "last layer output shape:  (None, 9, 9, 512)\n"
          ],
          "name": "stdout"
        }
      ]
    },
    {
      "cell_type": "code",
      "metadata": {
        "id": "TZ7DDazv4MF4"
      },
      "source": [
        "loss = 'mean_squared_error'\n",
        "metrics = ['mse','mae']\n",
        "batch_size=64\n",
        "epochs = 4"
      ],
      "execution_count": null,
      "outputs": []
    },
    {
      "cell_type": "code",
      "metadata": {
        "colab": {
          "base_uri": "https://localhost:8080/"
        },
        "id": "ROjfIVhM3w8G",
        "outputId": "7c76a746-e503-4990-9c8c-701a3de94f59"
      },
      "source": [
        "from tensorflow.keras.optimizers import RMSprop\n",
        "\n",
        "# Flatten the output layer to 1 dimension\n",
        "x = layers.Flatten()(last_output)\n",
        "# Add a fully connected layer with 1,024 hidden units and ReLU activation\n",
        "x = layers.Dense(1024, activation='relu')(x)\n",
        "# Add a dropout rate of 0.2\n",
        "x = layers.Dropout(0.4)(x)                  \n",
        "# Add a final linear layer for classification\n",
        "x = layers.Dense  (1, activation='linear')(x)           \n",
        "\n",
        "model = Model( pre_model.input, x) \n",
        "\n",
        "model.compile(optimizer = RMSprop(lr=0.001), \n",
        "              loss = 'mean_squared_error',\n",
        "              metrics = metrics) \n",
        "\n",
        "model.summary()"
      ],
      "execution_count": null,
      "outputs": [
        {
          "output_type": "stream",
          "text": [
            "Model: \"model_1\"\n",
            "_________________________________________________________________\n",
            "Layer (type)                 Output Shape              Param #   \n",
            "=================================================================\n",
            "input_1 (InputLayer)         [(None, 150, 150, 3)]     0         \n",
            "_________________________________________________________________\n",
            "block1_conv1 (Conv2D)        (None, 150, 150, 64)      1792      \n",
            "_________________________________________________________________\n",
            "block1_conv2 (Conv2D)        (None, 150, 150, 64)      36928     \n",
            "_________________________________________________________________\n",
            "block1_pool (MaxPooling2D)   (None, 75, 75, 64)        0         \n",
            "_________________________________________________________________\n",
            "block2_conv1 (Conv2D)        (None, 75, 75, 128)       73856     \n",
            "_________________________________________________________________\n",
            "block2_conv2 (Conv2D)        (None, 75, 75, 128)       147584    \n",
            "_________________________________________________________________\n",
            "block2_pool (MaxPooling2D)   (None, 37, 37, 128)       0         \n",
            "_________________________________________________________________\n",
            "block3_conv1 (Conv2D)        (None, 37, 37, 256)       295168    \n",
            "_________________________________________________________________\n",
            "block3_conv2 (Conv2D)        (None, 37, 37, 256)       590080    \n",
            "_________________________________________________________________\n",
            "block3_conv3 (Conv2D)        (None, 37, 37, 256)       590080    \n",
            "_________________________________________________________________\n",
            "block3_pool (MaxPooling2D)   (None, 18, 18, 256)       0         \n",
            "_________________________________________________________________\n",
            "block4_conv1 (Conv2D)        (None, 18, 18, 512)       1180160   \n",
            "_________________________________________________________________\n",
            "block4_conv2 (Conv2D)        (None, 18, 18, 512)       2359808   \n",
            "_________________________________________________________________\n",
            "block4_conv3 (Conv2D)        (None, 18, 18, 512)       2359808   \n",
            "_________________________________________________________________\n",
            "block4_pool (MaxPooling2D)   (None, 9, 9, 512)         0         \n",
            "_________________________________________________________________\n",
            "block5_conv1 (Conv2D)        (None, 9, 9, 512)         2359808   \n",
            "_________________________________________________________________\n",
            "block5_conv2 (Conv2D)        (None, 9, 9, 512)         2359808   \n",
            "_________________________________________________________________\n",
            "block5_conv3 (Conv2D)        (None, 9, 9, 512)         2359808   \n",
            "_________________________________________________________________\n",
            "flatten_1 (Flatten)          (None, 41472)             0         \n",
            "_________________________________________________________________\n",
            "dense_2 (Dense)              (None, 1024)              42468352  \n",
            "_________________________________________________________________\n",
            "dropout_1 (Dropout)          (None, 1024)              0         \n",
            "_________________________________________________________________\n",
            "dense_3 (Dense)              (None, 1)                 1025      \n",
            "=================================================================\n",
            "Total params: 57,184,065\n",
            "Trainable params: 42,469,377\n",
            "Non-trainable params: 14,714,688\n",
            "_________________________________________________________________\n"
          ],
          "name": "stdout"
        }
      ]
    },
    {
      "cell_type": "code",
      "metadata": {
        "colab": {
          "base_uri": "https://localhost:8080/",
          "height": 204
        },
        "id": "GBkS25sWDGmU",
        "outputId": "5cb0098b-f9e7-48f3-c1da-89fe82eb09d3"
      },
      "source": [
        "raw_dataset = pd.read_csv(\"/content/drive/MyDrive/Colab Notebooks/SDSS.csv\")\n",
        "train_df = raw_dataset.copy()\n",
        "train_df.head()"
      ],
      "execution_count": null,
      "outputs": [
        {
          "output_type": "execute_result",
          "data": {
            "text/html": [
              "<div>\n",
              "<style scoped>\n",
              "    .dataframe tbody tr th:only-of-type {\n",
              "        vertical-align: middle;\n",
              "    }\n",
              "\n",
              "    .dataframe tbody tr th {\n",
              "        vertical-align: top;\n",
              "    }\n",
              "\n",
              "    .dataframe thead th {\n",
              "        text-align: right;\n",
              "    }\n",
              "</style>\n",
              "<table border=\"1\" class=\"dataframe\">\n",
              "  <thead>\n",
              "    <tr style=\"text-align: right;\">\n",
              "      <th></th>\n",
              "      <th>img_path</th>\n",
              "      <th>z</th>\n",
              "    </tr>\n",
              "  </thead>\n",
              "  <tbody>\n",
              "    <tr>\n",
              "      <th>0</th>\n",
              "      <td>/content/drive/MyDrive/Colab Notebooks/galaxy_...</td>\n",
              "      <td>0.037450</td>\n",
              "    </tr>\n",
              "    <tr>\n",
              "      <th>1</th>\n",
              "      <td>/content/drive/MyDrive/Colab Notebooks/galaxy_...</td>\n",
              "      <td>-99.990000</td>\n",
              "    </tr>\n",
              "    <tr>\n",
              "      <th>2</th>\n",
              "      <td>/content/drive/MyDrive/Colab Notebooks/galaxy_...</td>\n",
              "      <td>0.029610</td>\n",
              "    </tr>\n",
              "    <tr>\n",
              "      <th>3</th>\n",
              "      <td>/content/drive/MyDrive/Colab Notebooks/galaxy_...</td>\n",
              "      <td>0.002882</td>\n",
              "    </tr>\n",
              "    <tr>\n",
              "      <th>4</th>\n",
              "      <td>/content/drive/MyDrive/Colab Notebooks/galaxy_...</td>\n",
              "      <td>0.038340</td>\n",
              "    </tr>\n",
              "  </tbody>\n",
              "</table>\n",
              "</div>"
            ],
            "text/plain": [
              "                                            img_path          z\n",
              "0  /content/drive/MyDrive/Colab Notebooks/galaxy_...   0.037450\n",
              "1  /content/drive/MyDrive/Colab Notebooks/galaxy_... -99.990000\n",
              "2  /content/drive/MyDrive/Colab Notebooks/galaxy_...   0.029610\n",
              "3  /content/drive/MyDrive/Colab Notebooks/galaxy_...   0.002882\n",
              "4  /content/drive/MyDrive/Colab Notebooks/galaxy_...   0.038340"
            ]
          },
          "metadata": {
            "tags": []
          },
          "execution_count": 3
        }
      ]
    },
    {
      "cell_type": "code",
      "metadata": {
        "id": "yapZIdD_FNya"
      },
      "source": [
        "import numpy as np\n",
        "cnt=0\n",
        "for row in train_df['z']:\n",
        "    try:\n",
        "        if row==-99.990000 or row==-100.000000 :\n",
        "          train_df.loc[cnt, 'z']=np.nan\n",
        "    except ValueError:\n",
        "        pass\n",
        "    cnt+=1"
      ],
      "execution_count": null,
      "outputs": []
    },
    {
      "cell_type": "code",
      "metadata": {
        "colab": {
          "base_uri": "https://localhost:8080/"
        },
        "id": "hH_92FIkFg4z",
        "outputId": "916b9041-ebc7-4307-a4d9-ffccd3a2d391"
      },
      "source": [
        "train_df.isna().sum()"
      ],
      "execution_count": null,
      "outputs": [
        {
          "output_type": "execute_result",
          "data": {
            "text/plain": [
              "img_path       0\n",
              "z           1357\n",
              "dtype: int64"
            ]
          },
          "metadata": {
            "tags": []
          },
          "execution_count": 5
        }
      ]
    },
    {
      "cell_type": "code",
      "metadata": {
        "id": "lX5c8Kd2FwVl"
      },
      "source": [
        "median = train_df['z'].median()\n",
        "train_df['z'].fillna(median, inplace=True)"
      ],
      "execution_count": null,
      "outputs": []
    },
    {
      "cell_type": "code",
      "metadata": {
        "colab": {
          "base_uri": "https://localhost:8080/"
        },
        "id": "a3G3RdsXGCeN",
        "outputId": "d0cd8f55-f1a7-4761-b71e-95aac3428aec"
      },
      "source": [
        "train_df.isna().sum()"
      ],
      "execution_count": null,
      "outputs": [
        {
          "output_type": "execute_result",
          "data": {
            "text/plain": [
              "img_path    0\n",
              "z           0\n",
              "dtype: int64"
            ]
          },
          "metadata": {
            "tags": []
          },
          "execution_count": 7
        }
      ]
    },
    {
      "cell_type": "code",
      "metadata": {
        "id": "hDSH89sbHXVb"
      },
      "source": [
        "dataset=train_df.copy()"
      ],
      "execution_count": null,
      "outputs": []
    },
    {
      "cell_type": "code",
      "metadata": {
        "id": "svSe112sGFIJ"
      },
      "source": [
        "train_df = dataset.sample(frac=0.8, random_state=0)\n",
        "test_df = dataset.drop(train_df.index)"
      ],
      "execution_count": null,
      "outputs": []
    },
    {
      "cell_type": "code",
      "metadata": {
        "colab": {
          "base_uri": "https://localhost:8080/"
        },
        "id": "dKnLWGZ7IEmu",
        "outputId": "1b6cb401-c457-46f4-e99c-cffec4868764"
      },
      "source": [
        "datagen = ImageDataGenerator( \n",
        "            rescale=1./255.,\n",
        "            rotation_range=40,\n",
        "            width_shift_range=0.2,\n",
        "            height_shift_range=0.2,\n",
        "            shear_range=0.2,\n",
        "            zoom_range=0.2,\n",
        "            horizontal_flip=True,\n",
        "            validation_split=0.30,\n",
        "            fill_mode='nearest')\n",
        "\n",
        "train_generator=datagen.flow_from_dataframe(\n",
        "            dataframe=train_df,\n",
        "            directory=None,\n",
        "            x_col=\"img_path\",\n",
        "            y_col=\"z\",\n",
        "            subset=\"training\",\n",
        "            batch_size=32,\n",
        "            seed=42,\n",
        "            shuffle=True,\n",
        "            class_mode=\"other\",\n",
        "            target_size=(150,150))\n",
        "\n",
        "valid_generator=datagen.flow_from_dataframe(\n",
        "            dataframe=train_df,\n",
        "            directory=None,\n",
        "            x_col=\"img_path\",\n",
        "            y_col=\"z\",\n",
        "            subset=\"validation\",\n",
        "            batch_size=32,\n",
        "            seed=42,\n",
        "            class_mode=\"other\",\n",
        "            target_size=(150,150))\n",
        "\n",
        "test_datagen=ImageDataGenerator(rescale=1./255.)\n",
        "\n",
        "test_generator=test_datagen.flow_from_dataframe(\n",
        "            dataframe=test_df,\n",
        "            directory=None,\n",
        "            x_col=\"img_path\",\n",
        "            y_col=None,\n",
        "            batch_size=batch_size,\n",
        "            seed=42,\n",
        "            class_mode=None,\n",
        "            target_size=(150,150))           "
      ],
      "execution_count": null,
      "outputs": [
        {
          "output_type": "stream",
          "text": [
            "--- Logging error ---\n",
            "Traceback (most recent call last):\n",
            "  File \"/usr/lib/python3.6/logging/__init__.py\", line 994, in emit\n",
            "    msg = self.format(record)\n",
            "  File \"/usr/lib/python3.6/logging/__init__.py\", line 840, in format\n",
            "    return fmt.format(record)\n",
            "  File \"/usr/lib/python3.6/logging/__init__.py\", line 577, in format\n",
            "    record.message = record.getMessage()\n",
            "  File \"/usr/lib/python3.6/logging/__init__.py\", line 338, in getMessage\n",
            "    msg = msg % self.args\n",
            "TypeError: not all arguments converted during string formatting\n",
            "Call stack:\n",
            "  File \"/usr/lib/python3.6/runpy.py\", line 193, in _run_module_as_main\n",
            "    \"__main__\", mod_spec)\n",
            "  File \"/usr/lib/python3.6/runpy.py\", line 85, in _run_code\n",
            "    exec(code, run_globals)\n",
            "  File \"/usr/local/lib/python3.6/dist-packages/ipykernel_launcher.py\", line 16, in <module>\n",
            "    app.launch_new_instance()\n",
            "  File \"/usr/local/lib/python3.6/dist-packages/traitlets/config/application.py\", line 664, in launch_instance\n",
            "    app.start()\n",
            "  File \"/usr/local/lib/python3.6/dist-packages/ipykernel/kernelapp.py\", line 499, in start\n",
            "    self.io_loop.start()\n",
            "  File \"/usr/local/lib/python3.6/dist-packages/tornado/platform/asyncio.py\", line 132, in start\n",
            "    self.asyncio_loop.run_forever()\n",
            "  File \"/usr/lib/python3.6/asyncio/base_events.py\", line 438, in run_forever\n",
            "    self._run_once()\n",
            "  File \"/usr/lib/python3.6/asyncio/base_events.py\", line 1451, in _run_once\n",
            "    handle._run()\n",
            "  File \"/usr/lib/python3.6/asyncio/events.py\", line 145, in _run\n",
            "    self._callback(*self._args)\n",
            "  File \"/usr/local/lib/python3.6/dist-packages/tornado/platform/asyncio.py\", line 122, in _handle_events\n",
            "    handler_func(fileobj, events)\n",
            "  File \"/usr/local/lib/python3.6/dist-packages/tornado/stack_context.py\", line 300, in null_wrapper\n",
            "    return fn(*args, **kwargs)\n",
            "  File \"/usr/local/lib/python3.6/dist-packages/zmq/eventloop/zmqstream.py\", line 462, in _handle_events\n",
            "    self._handle_recv()\n",
            "  File \"/usr/local/lib/python3.6/dist-packages/zmq/eventloop/zmqstream.py\", line 492, in _handle_recv\n",
            "    self._run_callback(callback, msg)\n",
            "  File \"/usr/local/lib/python3.6/dist-packages/zmq/eventloop/zmqstream.py\", line 444, in _run_callback\n",
            "    callback(*args, **kwargs)\n",
            "  File \"/usr/local/lib/python3.6/dist-packages/tornado/stack_context.py\", line 300, in null_wrapper\n",
            "    return fn(*args, **kwargs)\n",
            "  File \"/usr/local/lib/python3.6/dist-packages/ipykernel/kernelbase.py\", line 283, in dispatcher\n",
            "    return self.dispatch_shell(stream, msg)\n",
            "  File \"/usr/local/lib/python3.6/dist-packages/ipykernel/kernelbase.py\", line 233, in dispatch_shell\n",
            "    handler(stream, idents, msg)\n",
            "  File \"/usr/local/lib/python3.6/dist-packages/ipykernel/kernelbase.py\", line 399, in execute_request\n",
            "    user_expressions, allow_stdin)\n",
            "  File \"/usr/local/lib/python3.6/dist-packages/ipykernel/ipkernel.py\", line 208, in do_execute\n",
            "    res = shell.run_cell(code, store_history=store_history, silent=silent)\n",
            "  File \"/usr/local/lib/python3.6/dist-packages/ipykernel/zmqshell.py\", line 537, in run_cell\n",
            "    return super(ZMQInteractiveShell, self).run_cell(*args, **kwargs)\n",
            "  File \"/usr/local/lib/python3.6/dist-packages/IPython/core/interactiveshell.py\", line 2718, in run_cell\n",
            "    interactivity=interactivity, compiler=compiler, result=result)\n",
            "  File \"/usr/local/lib/python3.6/dist-packages/IPython/core/interactiveshell.py\", line 2822, in run_ast_nodes\n",
            "    if self.run_code(code, result):\n",
            "  File \"/usr/local/lib/python3.6/dist-packages/IPython/core/interactiveshell.py\", line 2882, in run_code\n",
            "    exec(code_obj, self.user_global_ns, self.user_ns)\n",
            "  File \"<ipython-input-16-7888daccfe44>\", line 22, in <module>\n",
            "    target_size=(150,150))\n",
            "  File \"/usr/local/lib/python3.6/dist-packages/tensorflow/python/keras/preprocessing/image.py\", line 1072, in flow_from_dataframe\n",
            "    '`class_mode` \"raw\".', DeprecationWarning)\n",
            "  File \"/usr/local/lib/python3.6/dist-packages/tensorflow/python/platform/tf_logging.py\", line 173, in warn\n",
            "    get_logger().warning(msg, *args, **kwargs)\n",
            "Message: '`class_mode` \"other\" is deprecated, please use `class_mode` \"raw\".'\n",
            "Arguments: (<class 'DeprecationWarning'>,)\n"
          ],
          "name": "stderr"
        },
        {
          "output_type": "stream",
          "text": [
            "Found 2497 validated image filenames.\n"
          ],
          "name": "stdout"
        },
        {
          "output_type": "stream",
          "text": [
            "--- Logging error ---\n",
            "Traceback (most recent call last):\n",
            "  File \"/usr/lib/python3.6/logging/__init__.py\", line 994, in emit\n",
            "    msg = self.format(record)\n",
            "  File \"/usr/lib/python3.6/logging/__init__.py\", line 840, in format\n",
            "    return fmt.format(record)\n",
            "  File \"/usr/lib/python3.6/logging/__init__.py\", line 577, in format\n",
            "    record.message = record.getMessage()\n",
            "  File \"/usr/lib/python3.6/logging/__init__.py\", line 338, in getMessage\n",
            "    msg = msg % self.args\n",
            "TypeError: not all arguments converted during string formatting\n",
            "Call stack:\n",
            "  File \"/usr/lib/python3.6/runpy.py\", line 193, in _run_module_as_main\n",
            "    \"__main__\", mod_spec)\n",
            "  File \"/usr/lib/python3.6/runpy.py\", line 85, in _run_code\n",
            "    exec(code, run_globals)\n",
            "  File \"/usr/local/lib/python3.6/dist-packages/ipykernel_launcher.py\", line 16, in <module>\n",
            "    app.launch_new_instance()\n",
            "  File \"/usr/local/lib/python3.6/dist-packages/traitlets/config/application.py\", line 664, in launch_instance\n",
            "    app.start()\n",
            "  File \"/usr/local/lib/python3.6/dist-packages/ipykernel/kernelapp.py\", line 499, in start\n",
            "    self.io_loop.start()\n",
            "  File \"/usr/local/lib/python3.6/dist-packages/tornado/platform/asyncio.py\", line 132, in start\n",
            "    self.asyncio_loop.run_forever()\n",
            "  File \"/usr/lib/python3.6/asyncio/base_events.py\", line 438, in run_forever\n",
            "    self._run_once()\n",
            "  File \"/usr/lib/python3.6/asyncio/base_events.py\", line 1451, in _run_once\n",
            "    handle._run()\n",
            "  File \"/usr/lib/python3.6/asyncio/events.py\", line 145, in _run\n",
            "    self._callback(*self._args)\n",
            "  File \"/usr/local/lib/python3.6/dist-packages/tornado/platform/asyncio.py\", line 122, in _handle_events\n",
            "    handler_func(fileobj, events)\n",
            "  File \"/usr/local/lib/python3.6/dist-packages/tornado/stack_context.py\", line 300, in null_wrapper\n",
            "    return fn(*args, **kwargs)\n",
            "  File \"/usr/local/lib/python3.6/dist-packages/zmq/eventloop/zmqstream.py\", line 462, in _handle_events\n",
            "    self._handle_recv()\n",
            "  File \"/usr/local/lib/python3.6/dist-packages/zmq/eventloop/zmqstream.py\", line 492, in _handle_recv\n",
            "    self._run_callback(callback, msg)\n",
            "  File \"/usr/local/lib/python3.6/dist-packages/zmq/eventloop/zmqstream.py\", line 444, in _run_callback\n",
            "    callback(*args, **kwargs)\n",
            "  File \"/usr/local/lib/python3.6/dist-packages/tornado/stack_context.py\", line 300, in null_wrapper\n",
            "    return fn(*args, **kwargs)\n",
            "  File \"/usr/local/lib/python3.6/dist-packages/ipykernel/kernelbase.py\", line 283, in dispatcher\n",
            "    return self.dispatch_shell(stream, msg)\n",
            "  File \"/usr/local/lib/python3.6/dist-packages/ipykernel/kernelbase.py\", line 233, in dispatch_shell\n",
            "    handler(stream, idents, msg)\n",
            "  File \"/usr/local/lib/python3.6/dist-packages/ipykernel/kernelbase.py\", line 399, in execute_request\n",
            "    user_expressions, allow_stdin)\n",
            "  File \"/usr/local/lib/python3.6/dist-packages/ipykernel/ipkernel.py\", line 208, in do_execute\n",
            "    res = shell.run_cell(code, store_history=store_history, silent=silent)\n",
            "  File \"/usr/local/lib/python3.6/dist-packages/ipykernel/zmqshell.py\", line 537, in run_cell\n",
            "    return super(ZMQInteractiveShell, self).run_cell(*args, **kwargs)\n",
            "  File \"/usr/local/lib/python3.6/dist-packages/IPython/core/interactiveshell.py\", line 2718, in run_cell\n",
            "    interactivity=interactivity, compiler=compiler, result=result)\n",
            "  File \"/usr/local/lib/python3.6/dist-packages/IPython/core/interactiveshell.py\", line 2822, in run_ast_nodes\n",
            "    if self.run_code(code, result):\n",
            "  File \"/usr/local/lib/python3.6/dist-packages/IPython/core/interactiveshell.py\", line 2882, in run_code\n",
            "    exec(code_obj, self.user_global_ns, self.user_ns)\n",
            "  File \"<ipython-input-16-7888daccfe44>\", line 33, in <module>\n",
            "    target_size=(150,150))\n",
            "  File \"/usr/local/lib/python3.6/dist-packages/tensorflow/python/keras/preprocessing/image.py\", line 1072, in flow_from_dataframe\n",
            "    '`class_mode` \"raw\".', DeprecationWarning)\n",
            "  File \"/usr/local/lib/python3.6/dist-packages/tensorflow/python/platform/tf_logging.py\", line 173, in warn\n",
            "    get_logger().warning(msg, *args, **kwargs)\n",
            "Message: '`class_mode` \"other\" is deprecated, please use `class_mode` \"raw\".'\n",
            "Arguments: (<class 'DeprecationWarning'>,)\n"
          ],
          "name": "stderr"
        },
        {
          "output_type": "stream",
          "text": [
            "Found 1069 validated image filenames.\n",
            "Found 892 validated image filenames.\n"
          ],
          "name": "stdout"
        }
      ]
    },
    {
      "cell_type": "code",
      "metadata": {
        "id": "oSJtEm8AKO79"
      },
      "source": [
        "from keras.callbacks import EarlyStopping\n",
        "earlystopper = EarlyStopping(monitor='val_loss', min_delta=0, patience=2, verbose=1, mode='auto')\n"
      ],
      "execution_count": null,
      "outputs": []
    },
    {
      "cell_type": "code",
      "metadata": {
        "colab": {
          "base_uri": "https://localhost:8080/"
        },
        "id": "PTG2RHRuMjY7",
        "outputId": "24020347-033c-416b-e2a4-b6a4f09a06a0"
      },
      "source": [
        "history = model.fit(train_generator,\n",
        "                    validation_data=valid_generator,\n",
        "                    epochs=20,\n",
        "                    steps_per_epoch=20,\n",
        "                    verbose=1,\n",
        "                    callbacks=[earlystopper])"
      ],
      "execution_count": null,
      "outputs": [
        {
          "output_type": "stream",
          "text": [
            "Epoch 1/20\n",
            "20/20 [==============================] - 759s 39s/step - loss: 3082.6395 - mse: 3082.6395 - mae: 21.6962 - val_loss: 1.1271 - val_mse: 1.1271 - val_mae: 0.9688\n",
            "Epoch 2/20\n",
            "20/20 [==============================] - 416s 21s/step - loss: 5.7128 - mse: 5.7128 - mae: 1.8464 - val_loss: 1.5339 - val_mse: 1.5339 - val_mae: 1.2135\n",
            "Epoch 3/20\n",
            "20/20 [==============================] - 397s 20s/step - loss: 2.9398 - mse: 2.9398 - mae: 1.3618 - val_loss: 0.3144 - val_mse: 0.3144 - val_mae: 0.5395\n",
            "Epoch 4/20\n",
            "20/20 [==============================] - 394s 20s/step - loss: 0.3162 - mse: 0.3162 - mae: 0.4465 - val_loss: 0.0294 - val_mse: 0.0294 - val_mae: 0.0542\n",
            "Epoch 5/20\n",
            "20/20 [==============================] - 392s 20s/step - loss: 0.0193 - mse: 0.0193 - mae: 0.1071 - val_loss: 0.0269 - val_mse: 0.0269 - val_mae: 0.0230\n",
            "Epoch 6/20\n",
            "20/20 [==============================] - 390s 20s/step - loss: 0.0284 - mse: 0.0284 - mae: 0.0514 - val_loss: 0.0265 - val_mse: 0.0265 - val_mae: 0.0156\n",
            "Epoch 7/20\n",
            "20/20 [==============================] - 386s 20s/step - loss: 0.0183 - mse: 0.0183 - mae: 0.0356 - val_loss: 0.0268 - val_mse: 0.0268 - val_mae: 0.0213\n",
            "Epoch 8/20\n",
            "20/20 [==============================] - 382s 20s/step - loss: 0.1879 - mse: 0.1879 - mae: 0.1085 - val_loss: 0.0267 - val_mse: 0.0267 - val_mae: 0.0184\n",
            "Epoch 00008: early stopping\n"
          ],
          "name": "stdout"
        }
      ]
    },
    {
      "cell_type": "code",
      "metadata": {
        "colab": {
          "base_uri": "https://localhost:8080/",
          "height": 297
        },
        "id": "EMJRMv_EzyKa",
        "outputId": "ead33fbe-092e-4715-e180-ddcae76ced54"
      },
      "source": [
        "hist = pd.DataFrame(history.history)\n",
        "hist['epoch'] = history.epoch\n",
        "hist"
      ],
      "execution_count": null,
      "outputs": [
        {
          "output_type": "execute_result",
          "data": {
            "text/html": [
              "<div>\n",
              "<style scoped>\n",
              "    .dataframe tbody tr th:only-of-type {\n",
              "        vertical-align: middle;\n",
              "    }\n",
              "\n",
              "    .dataframe tbody tr th {\n",
              "        vertical-align: top;\n",
              "    }\n",
              "\n",
              "    .dataframe thead th {\n",
              "        text-align: right;\n",
              "    }\n",
              "</style>\n",
              "<table border=\"1\" class=\"dataframe\">\n",
              "  <thead>\n",
              "    <tr style=\"text-align: right;\">\n",
              "      <th></th>\n",
              "      <th>loss</th>\n",
              "      <th>mse</th>\n",
              "      <th>mae</th>\n",
              "      <th>val_loss</th>\n",
              "      <th>val_mse</th>\n",
              "      <th>val_mae</th>\n",
              "      <th>epoch</th>\n",
              "    </tr>\n",
              "  </thead>\n",
              "  <tbody>\n",
              "    <tr>\n",
              "      <th>0</th>\n",
              "      <td>1227.036377</td>\n",
              "      <td>1227.036377</td>\n",
              "      <td>9.914561</td>\n",
              "      <td>1.127093</td>\n",
              "      <td>1.127093</td>\n",
              "      <td>0.968840</td>\n",
              "      <td>0</td>\n",
              "    </tr>\n",
              "    <tr>\n",
              "      <th>1</th>\n",
              "      <td>4.924809</td>\n",
              "      <td>4.924809</td>\n",
              "      <td>1.756945</td>\n",
              "      <td>1.533922</td>\n",
              "      <td>1.533922</td>\n",
              "      <td>1.213537</td>\n",
              "      <td>1</td>\n",
              "    </tr>\n",
              "    <tr>\n",
              "      <th>2</th>\n",
              "      <td>2.476662</td>\n",
              "      <td>2.476662</td>\n",
              "      <td>1.176872</td>\n",
              "      <td>0.314373</td>\n",
              "      <td>0.314373</td>\n",
              "      <td>0.539457</td>\n",
              "      <td>2</td>\n",
              "    </tr>\n",
              "    <tr>\n",
              "      <th>3</th>\n",
              "      <td>0.201990</td>\n",
              "      <td>0.201990</td>\n",
              "      <td>0.353260</td>\n",
              "      <td>0.029426</td>\n",
              "      <td>0.029426</td>\n",
              "      <td>0.054233</td>\n",
              "      <td>3</td>\n",
              "    </tr>\n",
              "    <tr>\n",
              "      <th>4</th>\n",
              "      <td>0.013038</td>\n",
              "      <td>0.013038</td>\n",
              "      <td>0.085337</td>\n",
              "      <td>0.026891</td>\n",
              "      <td>0.026891</td>\n",
              "      <td>0.023019</td>\n",
              "      <td>4</td>\n",
              "    </tr>\n",
              "    <tr>\n",
              "      <th>5</th>\n",
              "      <td>0.061606</td>\n",
              "      <td>0.061606</td>\n",
              "      <td>0.041533</td>\n",
              "      <td>0.026535</td>\n",
              "      <td>0.026535</td>\n",
              "      <td>0.015612</td>\n",
              "      <td>5</td>\n",
              "    </tr>\n",
              "    <tr>\n",
              "      <th>6</th>\n",
              "      <td>0.070892</td>\n",
              "      <td>0.070892</td>\n",
              "      <td>0.052037</td>\n",
              "      <td>0.026843</td>\n",
              "      <td>0.026843</td>\n",
              "      <td>0.021264</td>\n",
              "      <td>6</td>\n",
              "    </tr>\n",
              "    <tr>\n",
              "      <th>7</th>\n",
              "      <td>0.198229</td>\n",
              "      <td>0.198229</td>\n",
              "      <td>0.121880</td>\n",
              "      <td>0.026717</td>\n",
              "      <td>0.026717</td>\n",
              "      <td>0.018386</td>\n",
              "      <td>7</td>\n",
              "    </tr>\n",
              "  </tbody>\n",
              "</table>\n",
              "</div>"
            ],
            "text/plain": [
              "          loss          mse       mae  val_loss   val_mse   val_mae  epoch\n",
              "0  1227.036377  1227.036377  9.914561  1.127093  1.127093  0.968840      0\n",
              "1     4.924809     4.924809  1.756945  1.533922  1.533922  1.213537      1\n",
              "2     2.476662     2.476662  1.176872  0.314373  0.314373  0.539457      2\n",
              "3     0.201990     0.201990  0.353260  0.029426  0.029426  0.054233      3\n",
              "4     0.013038     0.013038  0.085337  0.026891  0.026891  0.023019      4\n",
              "5     0.061606     0.061606  0.041533  0.026535  0.026535  0.015612      5\n",
              "6     0.070892     0.070892  0.052037  0.026843  0.026843  0.021264      6\n",
              "7     0.198229     0.198229  0.121880  0.026717  0.026717  0.018386      7"
            ]
          },
          "metadata": {
            "tags": []
          },
          "execution_count": 19
        }
      ]
    },
    {
      "cell_type": "code",
      "metadata": {
        "id": "WODIrGEMqSgL"
      },
      "source": [
        "\n",
        "import matplotlib.pyplot as plt\n",
        "%matplotlib inline\n",
        "def plot_loss(history):\n",
        "  plt.plot(history.history['loss'], label='loss')\n",
        "  plt.plot(history.history['val_loss'], label='val_loss')\n",
        "  plt.xlabel('Epoch')\n",
        "  plt.ylabel('Error [z]')\n",
        "  plt.legend()\n",
        "  plt.grid(True)\n",
        "\n",
        "  hist = pd.DataFrame(history.history)\n",
        "  hist['epoch'] = history.epoch\n",
        "\n",
        "  plt.figure()\n",
        "  plt.xlabel('Epoch')\n",
        "  plt.ylabel('Mean Abs Err [z]')\n",
        "  plt.plot(hist['epoch'], hist['mae'], label='Train Error')\n",
        "  plt.plot(hist['epoch'], hist['val_mae'], label='Val Error')\n",
        "  plt.legend()\n",
        "\n",
        "  plt.figure()\n",
        "  plt.xlabel('Epoch')\n",
        "  plt.ylabel('Mean Squared Err [$z^2$]')\n",
        "  plt.plot(hist['epoch'], hist['mse'], label='Train Error')\n",
        "  plt.plot(hist['epoch'], hist['val_mse'], label='Val Error')\n",
        "  plt.legend()\n",
        "\n"
      ],
      "execution_count": null,
      "outputs": []
    },
    {
      "cell_type": "code",
      "metadata": {
        "colab": {
          "base_uri": "https://localhost:8080/",
          "height": 803
        },
        "id": "KMvc4ljur5sJ",
        "outputId": "fbffd55d-c4f6-4293-853f-f6f38c2c758b"
      },
      "source": [
        "plot_loss(history)"
      ],
      "execution_count": null,
      "outputs": [
        {
          "output_type": "display_data",
          "data": {
            "image/png": "[encoded data removed]",
            "text/plain": [
              "<Figure size 432x288 with 1 Axes>"
            ]
          },
          "metadata": {
            "tags": [],
            "needs_background": "light"
          }
        },
        {
          "output_type": "display_data",
          "data": {
            "image/png": "[encoded data removed]",
            "text/plain": [
              "<Figure size 432x288 with 1 Axes>"
            ]
          },
          "metadata": {
            "tags": [],
            "needs_background": "light"
          }
        },
        {
          "output_type": "display_data",
          "data": {
            "image/png": "[encoded data removed]",
            "text/plain": [
              "<Figure size 432x288 with 1 Axes>"
            ]
          },
          "metadata": {
            "tags": [],
            "needs_background": "light"
          }
        }
      ]
    },
    {
      "cell_type": "code",
      "metadata": {
        "colab": {
          "base_uri": "https://localhost:8080/"
        },
        "id": "iRmPJcC3BUhZ",
        "outputId": "5c106aa4-21c8-47e7-ceed-d3f8f64c75cd"
      },
      "source": [
        "model.save(\"Zmodel_vgg\")"
      ],
      "execution_count": null,
      "outputs": [
        {
          "output_type": "stream",
          "text": [
            "INFO:tensorflow:Assets written to: Zmodel_vgg/assets\n"
          ],
          "name": "stdout"
        }
      ]
    },
    {
      "cell_type": "code",
      "metadata": {
        "id": "eGE8I5ANCAjF"
      },
      "source": [
        "test_features = test_df.copy()\n",
        "test_labels = test_features.pop('z')"
      ],
      "execution_count": null,
      "outputs": []
    },
    {
      "cell_type": "code",
      "metadata": {
        "id": "wWFprGRZ8GVz"
      },
      "source": [
        "np.save('/content/drive/MyDrive/Colab Notebooks/Vggpredictions', test_predictions)"
      ],
      "execution_count": null,
      "outputs": []
    },
    {
      "cell_type": "code",
      "metadata": {
        "id": "SIw6oLvNEkxQ"
      },
      "source": [
        "test_predictions = model.predict(test_generator).flatten()\n"
      ],
      "execution_count": null,
      "outputs": []
    },
    {
      "cell_type": "code",
      "metadata": {
        "colab": {
          "base_uri": "https://localhost:8080/"
        },
        "id": "iRAJMDnlzRtI",
        "outputId": "c77d95a0-b259-413b-8763-6fdce44a7a65"
      },
      "source": [
        "test_predictions"
      ],
      "execution_count": null,
      "outputs": [
        {
          "output_type": "execute_result",
          "data": {
            "text/plain": [
              "array([ 0.0083287 ,  0.0083287 ,  0.0083287 ,  0.0083287 ,  0.0083287 ,\n",
              "        0.0083287 ,  0.0083287 ,  0.0083287 ,  0.0083287 ,  0.00829904,\n",
              "        0.0083287 ,  0.0083287 ,  0.0083287 ,  0.0083287 ,  0.0083287 ,\n",
              "        0.0083287 ,  0.0083287 ,  0.0083287 ,  0.0083287 ,  0.0083287 ,\n",
              "        0.0083287 ,  0.0083287 ,  0.0083287 ,  0.0083287 ,  0.0083287 ,\n",
              "        0.0083287 ,  0.0083287 ,  0.0083287 ,  0.0083287 ,  0.0083287 ,\n",
              "        0.00830792,  0.0083287 ,  0.0083287 ,  0.0083287 ,  0.0083287 ,\n",
              "        0.0083287 ,  0.0083287 ,  0.0083287 ,  0.0083287 ,  0.0083287 ,\n",
              "        0.0083287 ,  0.0083287 ,  0.0083287 ,  0.0083287 ,  0.0083287 ,\n",
              "        0.0083287 ,  0.0083287 ,  0.00427172,  0.0083287 ,  0.0083287 ,\n",
              "        0.0083287 ,  0.0083287 ,  0.0083287 ,  0.0083287 ,  0.0083287 ,\n",
              "        0.0083287 ,  0.0083287 ,  0.0083287 ,  0.0083287 ,  0.0083287 ,\n",
              "        0.0083287 ,  0.0083287 ,  0.0083287 ,  0.0083287 ,  0.0083287 ,\n",
              "        0.0083287 ,  0.0083287 ,  0.0083287 ,  0.0083287 ,  0.0083287 ,\n",
              "        0.0083287 ,  0.0083287 ,  0.0083287 ,  0.0083287 ,  0.0083287 ,\n",
              "        0.00787954,  0.0083287 ,  0.0083287 ,  0.0083287 ,  0.0083287 ,\n",
              "        0.0083287 ,  0.0083287 ,  0.0083287 ,  0.0083287 ,  0.0083287 ,\n",
              "        0.0083287 ,  0.0083287 ,  0.0083287 ,  0.0083287 ,  0.0083287 ,\n",
              "        0.0083287 ,  0.0083287 ,  0.0083287 ,  0.0083287 ,  0.0083287 ,\n",
              "        0.0083287 ,  0.0083287 ,  0.0083287 ,  0.0083287 ,  0.0083287 ,\n",
              "        0.00830196,  0.0083287 ,  0.0083287 ,  0.0083287 ,  0.0083287 ,\n",
              "        0.0083287 ,  0.0083287 ,  0.0083287 ,  0.0083287 ,  0.0083287 ,\n",
              "        0.0083287 ,  0.0083287 ,  0.0083287 ,  0.0083287 ,  0.0083287 ,\n",
              "        0.0083287 ,  0.0083287 ,  0.0083287 ,  0.0083287 ,  0.0083287 ,\n",
              "        0.0083287 ,  0.0083287 ,  0.0083287 ,  0.0083287 ,  0.0083287 ,\n",
              "        0.0083287 ,  0.0083287 ,  0.0083287 ,  0.0083287 ,  0.0083287 ,\n",
              "        0.0083287 ,  0.0083287 ,  0.0083287 ,  0.0083287 ,  0.0083287 ,\n",
              "        0.0083287 ,  0.0083287 ,  0.0083287 ,  0.0083287 ,  0.0083287 ,\n",
              "        0.0083287 ,  0.0083287 ,  0.0083287 ,  0.0083287 ,  0.0083287 ,\n",
              "        0.0083287 ,  0.0083287 ,  0.0083287 ,  0.0083287 ,  0.0083287 ,\n",
              "        0.0083287 ,  0.0083287 , -0.00132264,  0.0083287 ,  0.0083287 ,\n",
              "        0.0083287 ,  0.0083287 ,  0.0083287 ,  0.0083287 ,  0.0083287 ,\n",
              "        0.0083287 ,  0.0083287 ,  0.00831979,  0.0083287 ,  0.0083287 ,\n",
              "        0.0083287 ,  0.0083287 ,  0.0083287 ,  0.0083287 ,  0.0083287 ,\n",
              "        0.0083287 ,  0.0083287 ,  0.0083287 ,  0.0083287 ,  0.0083287 ,\n",
              "        0.0083287 ,  0.0083287 ,  0.0083287 ,  0.0083287 ,  0.0083287 ,\n",
              "        0.0083287 ,  0.0083287 ,  0.0083287 ,  0.00755441,  0.00831487,\n",
              "        0.0083287 ,  0.0083287 ,  0.0083287 ,  0.0083287 ,  0.00623158,\n",
              "        0.0083287 ,  0.00832209,  0.0083287 ,  0.0083287 ,  0.0083287 ,\n",
              "        0.0083287 ,  0.0083287 ,  0.0083287 ,  0.0083287 ,  0.0083287 ,\n",
              "        0.0083287 ,  0.0083287 ,  0.0083287 ,  0.00826254,  0.0083287 ,\n",
              "        0.0083287 ,  0.0083287 ,  0.0083287 ,  0.00507317,  0.0083287 ,\n",
              "        0.0083287 ,  0.0083287 ,  0.0083287 ,  0.0083287 ,  0.0083287 ,\n",
              "        0.0083287 ,  0.0083287 ,  0.0083287 ,  0.0083287 ,  0.0083287 ,\n",
              "        0.0083287 ,  0.0083287 ,  0.0083287 ,  0.0083287 ,  0.0083287 ,\n",
              "        0.0083287 ,  0.0083287 ,  0.0083287 ,  0.0083287 ,  0.0083287 ,\n",
              "        0.0083287 ,  0.0083287 ,  0.0083287 ,  0.0083287 ,  0.0083287 ,\n",
              "        0.0083287 ,  0.0083287 ,  0.0083287 ,  0.0083287 ,  0.0083287 ,\n",
              "        0.0083287 ,  0.0083287 ,  0.0083287 ,  0.0083287 ,  0.0083287 ,\n",
              "        0.0083287 ,  0.00827532,  0.0083287 ,  0.0083287 ,  0.0083287 ,\n",
              "        0.0083287 ,  0.0083287 ,  0.0083287 ,  0.0083287 ,  0.0083287 ,\n",
              "        0.0083287 ,  0.0083287 ,  0.0083287 ,  0.0083287 ,  0.0083287 ,\n",
              "        0.0083287 ,  0.0083287 ,  0.0083287 ,  0.0083287 ,  0.0083287 ,\n",
              "        0.0083287 ,  0.0083287 ,  0.0083287 ,  0.0083287 ,  0.0083287 ,\n",
              "        0.0083287 ,  0.0083287 ,  0.0083287 ,  0.0083287 ,  0.0083287 ,\n",
              "        0.0083287 ,  0.0083287 ,  0.0083287 ,  0.0083287 ,  0.00611026,\n",
              "        0.0083287 ,  0.0083287 ,  0.0083287 ,  0.0083287 ,  0.0083287 ,\n",
              "        0.0083287 ,  0.0083287 ,  0.0083287 ,  0.0083287 ,  0.0083287 ,\n",
              "        0.0083287 ,  0.0083287 ,  0.01039566,  0.0083287 ,  0.0083287 ,\n",
              "        0.0083287 ,  0.0083287 ,  0.0083287 ,  0.0083287 ,  0.0083287 ,\n",
              "        0.0083287 ,  0.0083287 ,  0.0083287 ,  0.0083287 ,  0.00828742,\n",
              "        0.0083287 ,  0.0083287 ,  0.0083287 ,  0.0083287 ,  0.0083287 ,\n",
              "        0.0083287 ,  0.0083287 ,  0.0083287 ,  0.0083287 ,  0.0083287 ,\n",
              "        0.0083287 ,  0.0083287 ,  0.0083287 ,  0.00794068,  0.0083287 ,\n",
              "        0.0083287 ,  0.00832505,  0.0083287 ,  0.0083287 ,  0.0083287 ,\n",
              "        0.0083287 ,  0.0083287 ,  0.0083287 ,  0.0083287 ,  0.0083287 ,\n",
              "        0.0083287 ,  0.0083287 ,  0.0083287 ,  0.0083287 ,  0.0083287 ,\n",
              "        0.0083287 ,  0.0083287 ,  0.0083287 ,  0.0083287 ,  0.0083287 ,\n",
              "        0.00832566,  0.0083287 ,  0.0083287 ,  0.0083287 ,  0.00767324,\n",
              "        0.0083287 ,  0.0083287 ,  0.0082235 ,  0.0083287 ,  0.0083287 ,\n",
              "        0.0083287 ,  0.0083287 ,  0.0083287 ,  0.0083287 ,  0.0083287 ,\n",
              "        0.0083287 ,  0.0083287 ,  0.0083287 ,  0.0083287 ,  0.0083287 ,\n",
              "        0.0083287 ,  0.0083287 ,  0.0083287 ,  0.0083287 ,  0.0083287 ,\n",
              "        0.0083287 ,  0.00697785,  0.0083287 ,  0.0083287 ,  0.0083287 ,\n",
              "        0.0083287 ,  0.0083287 ,  0.0083287 ,  0.0083287 ,  0.0083287 ,\n",
              "        0.0083287 ,  0.0083287 ,  0.0083287 ,  0.0083287 ,  0.0083287 ,\n",
              "        0.0083287 ,  0.0083287 ,  0.0083287 ,  0.0083287 ,  0.0083287 ,\n",
              "        0.0083287 ,  0.0083287 ,  0.0083287 ,  0.0083287 ,  0.0083287 ,\n",
              "        0.00602093,  0.0083287 ,  0.0083287 ,  0.0083287 ,  0.0083287 ,\n",
              "        0.0083287 ,  0.0083287 ,  0.0083287 ,  0.0083287 ,  0.0083287 ,\n",
              "        0.0083287 ,  0.0083287 ,  0.00831669,  0.0083287 ,  0.0083287 ,\n",
              "        0.0083287 ,  0.0083287 ,  0.0083287 ,  0.0083287 ,  0.0083287 ,\n",
              "        0.0083287 ,  0.0083287 ,  0.0083287 ,  0.0083287 ,  0.0083287 ,\n",
              "        0.0083287 ,  0.0083287 ,  0.0083287 ,  0.0083287 ,  0.0083287 ,\n",
              "        0.0083287 ,  0.0083287 ,  0.0083287 ,  0.0083287 ,  0.0083287 ,\n",
              "        0.0083287 ,  0.0083287 ,  0.0083287 ,  0.0083287 ,  0.0083287 ,\n",
              "       -0.00013423,  0.0083287 ,  0.0083287 ,  0.0083287 ,  0.0083287 ,\n",
              "        0.0083287 ,  0.0083287 ,  0.0083287 ,  0.0083287 ,  0.0083287 ,\n",
              "        0.0083287 ,  0.0083287 ,  0.0083287 ,  0.00832844,  0.0083287 ,\n",
              "        0.0083287 ,  0.0083287 ,  0.0083287 ,  0.0083287 ,  0.0083287 ,\n",
              "        0.0083287 ,  0.0083287 ,  0.00814727,  0.0083287 ,  0.0083287 ,\n",
              "        0.0083287 ,  0.0083287 ,  0.0083287 ,  0.0083287 ,  0.0083287 ,\n",
              "        0.0083287 ,  0.0083287 ,  0.0083287 ,  0.0083287 ,  0.0083287 ,\n",
              "        0.0083287 ,  0.0083287 ,  0.0083287 ,  0.0083287 ,  0.0083287 ,\n",
              "        0.0083287 ,  0.0083287 ,  0.0083287 ,  0.0083287 ,  0.0083287 ,\n",
              "        0.0083287 ,  0.0083287 ,  0.0083287 ,  0.0083287 ,  0.0083287 ,\n",
              "        0.0083287 ,  0.0083287 ,  0.0083287 ,  0.0083287 ,  0.0083287 ,\n",
              "        0.0083287 ,  0.0083287 ,  0.0083287 ,  0.0083287 ,  0.0083287 ,\n",
              "        0.0083287 ,  0.0083287 ,  0.0083287 ,  0.0083287 ,  0.0083287 ,\n",
              "        0.0083287 ,  0.00817771,  0.0083287 ,  0.0083287 ,  0.0083287 ,\n",
              "        0.0083287 ,  0.0083287 ,  0.0083287 ,  0.0083287 ,  0.0083287 ,\n",
              "        0.0083287 ,  0.0083287 ,  0.0083287 ,  0.0083287 ,  0.0083287 ,\n",
              "        0.0083287 ,  0.0083287 ,  0.0083287 ,  0.0083287 ,  0.0083287 ,\n",
              "        0.0083287 ,  0.0083287 ,  0.0083287 ,  0.0083287 ,  0.0083287 ,\n",
              "        0.0083287 ,  0.0083287 ,  0.0083287 ,  0.0083287 ,  0.0083287 ,\n",
              "        0.0083287 ,  0.0083287 ,  0.0083287 ,  0.0083287 ,  0.0083287 ,\n",
              "        0.0083287 ,  0.0083287 ,  0.0083287 ,  0.0083287 ,  0.0083287 ,\n",
              "        0.0083287 ,  0.0083287 ,  0.0083287 ,  0.0083287 ,  0.0083287 ,\n",
              "        0.0083287 ,  0.0083287 ,  0.0083287 ,  0.0083223 ,  0.0083287 ,\n",
              "        0.0083287 ,  0.0083287 ,  0.0083287 ,  0.0083287 ,  0.0083287 ,\n",
              "        0.0082946 ,  0.0083287 ,  0.0083287 ,  0.0083287 ,  0.0083287 ,\n",
              "        0.0083287 ,  0.0083287 ,  0.0083287 ,  0.0083287 ,  0.0083287 ,\n",
              "        0.0083287 ,  0.0083287 ,  0.00831376,  0.0083287 ,  0.0083287 ,\n",
              "        0.0083287 ,  0.0083287 ,  0.0083287 ,  0.0083287 ,  0.0083287 ,\n",
              "        0.0083287 ,  0.0083287 ,  0.0083287 ,  0.0083287 ,  0.00824175,\n",
              "        0.0083287 ,  0.0083287 ,  0.0083287 ,  0.00831685,  0.0083287 ,\n",
              "        0.0083287 ,  0.0083287 ,  0.00647536,  0.0083287 ,  0.0083287 ,\n",
              "        0.0083287 ,  0.0083287 ,  0.0083287 ,  0.0083287 ,  0.0083287 ,\n",
              "        0.0083287 ,  0.0083287 ,  0.0083287 ,  0.0083287 ,  0.0083287 ,\n",
              "        0.0083287 ,  0.0083287 ,  0.0083287 ,  0.00719485,  0.0083287 ,\n",
              "        0.0083287 ,  0.0083287 ,  0.0083287 ,  0.0083287 ,  0.0083287 ,\n",
              "        0.0083287 ,  0.0083287 ,  0.0083287 ,  0.0083287 ,  0.0083287 ,\n",
              "        0.0083287 ,  0.0083287 ,  0.00812497,  0.0083287 ,  0.0083287 ,\n",
              "        0.0083287 ,  0.0083287 ,  0.0083287 ,  0.0083287 ,  0.0083287 ,\n",
              "        0.0083287 ,  0.007888  ,  0.00691021,  0.0083287 ,  0.0083287 ,\n",
              "        0.0083287 ,  0.0083287 ,  0.0083287 ,  0.0083287 ,  0.0083287 ,\n",
              "        0.0083287 ,  0.0083287 ,  0.0083287 ,  0.0083287 ,  0.0083287 ,\n",
              "        0.0083287 ,  0.0083287 ,  0.0083287 ,  0.00812387,  0.00830426,\n",
              "        0.0083287 ,  0.0083287 ,  0.0083287 ,  0.0083287 ,  0.0083287 ,\n",
              "        0.0083287 ,  0.0083287 ,  0.0083287 ,  0.0083287 ,  0.0083287 ,\n",
              "        0.0083287 ,  0.0083287 ,  0.0083287 ,  0.0083287 ,  0.0083287 ,\n",
              "        0.0083287 ,  0.0083287 ,  0.0083287 ,  0.0083287 ,  0.0083287 ,\n",
              "        0.0083287 ,  0.0083287 ,  0.00393725,  0.0083287 ,  0.0083287 ,\n",
              "        0.0083287 ,  0.0083287 ,  0.0083287 ,  0.0083287 ,  0.0083287 ,\n",
              "        0.0083287 ,  0.0083287 ,  0.0083287 ,  0.0083287 ,  0.0083287 ,\n",
              "        0.0083287 ,  0.0083287 ,  0.0083287 ,  0.0083287 ,  0.0083287 ,\n",
              "        0.0083287 ,  0.0083287 ,  0.0083287 ,  0.0083287 ,  0.0083287 ,\n",
              "        0.0083287 ,  0.0083287 ,  0.0083287 ,  0.0083287 ,  0.0083287 ,\n",
              "        0.0083287 ,  0.0083287 ,  0.0083287 ,  0.0083287 ,  0.0083287 ,\n",
              "        0.0083287 ,  0.0083287 ,  0.00826229,  0.0083287 ,  0.0083287 ,\n",
              "        0.0083287 ,  0.0083287 ,  0.0083287 ,  0.00832325,  0.0083287 ,\n",
              "        0.0083287 ,  0.0083287 ,  0.00827408,  0.0083287 ,  0.0083287 ,\n",
              "        0.0083287 ,  0.00556267,  0.0083287 ,  0.00487783,  0.0083287 ,\n",
              "        0.0083287 ,  0.0083287 ,  0.0083287 ,  0.0083287 ,  0.0083287 ,\n",
              "        0.00732517,  0.0083287 ,  0.0083287 ,  0.00791705,  0.0083287 ,\n",
              "        0.0083287 ,  0.0083287 ,  0.0083287 ,  0.0083287 ,  0.0083287 ,\n",
              "        0.0083287 ,  0.0083287 ,  0.0083287 ,  0.0083287 ,  0.0083287 ,\n",
              "        0.0083287 ,  0.0077332 ,  0.0083287 ,  0.0083287 ,  0.0083287 ,\n",
              "        0.0083287 ,  0.0083287 ,  0.0083287 ,  0.0083287 ,  0.0083287 ,\n",
              "        0.0083287 ,  0.0083287 ,  0.00579832,  0.0083287 ,  0.0083287 ,\n",
              "        0.0083287 ,  0.00824649,  0.0083287 ,  0.0083287 ,  0.0083287 ,\n",
              "        0.0083287 ,  0.0083287 ,  0.0083287 ,  0.0083287 ,  0.0083287 ,\n",
              "        0.00806558,  0.0083287 ,  0.0083287 ,  0.0083287 ,  0.0083287 ,\n",
              "        0.0083287 ,  0.0083287 ,  0.0083287 ,  0.0083287 ,  0.0083287 ,\n",
              "        0.0083287 ,  0.0083287 ,  0.0083287 ,  0.0083287 ,  0.0083287 ,\n",
              "        0.0083287 ,  0.0083287 ,  0.0083287 ,  0.0083287 ,  0.0083287 ,\n",
              "        0.0083287 ,  0.0083287 ,  0.0083287 ,  0.00831644,  0.0083287 ,\n",
              "        0.0083287 ,  0.0083287 ,  0.00826161,  0.00662789,  0.0083287 ,\n",
              "        0.0083287 ,  0.0083287 ,  0.0083287 ,  0.0083287 ,  0.0083287 ,\n",
              "        0.0083287 ,  0.0083287 ,  0.0083287 ,  0.0083287 ,  0.0083287 ,\n",
              "        0.0083287 ,  0.0083287 ,  0.0083287 ,  0.0083287 ,  0.0083287 ,\n",
              "        0.0083287 ,  0.0083287 ,  0.0083287 ,  0.0083287 ,  0.0083287 ,\n",
              "        0.0083287 ,  0.0083287 ,  0.0083287 ,  0.0083287 ,  0.0083287 ,\n",
              "        0.0083287 ,  0.0083287 ,  0.0083287 ,  0.0083287 ,  0.00745569,\n",
              "        0.0083287 ,  0.0083287 ,  0.0083287 ,  0.0083287 ,  0.0083287 ,\n",
              "        0.0083287 ,  0.0083287 ,  0.0083287 ,  0.0083287 ,  0.0083287 ,\n",
              "        0.0083287 ,  0.0083287 ,  0.00826177,  0.0083287 ,  0.0083287 ,\n",
              "        0.0083287 ,  0.0083287 ,  0.00820037,  0.0083287 ,  0.0083287 ,\n",
              "        0.0083287 ,  0.0083287 ,  0.0083287 ,  0.0083287 ,  0.0083287 ,\n",
              "        0.00832541,  0.0083287 ,  0.0083287 ,  0.0083287 ,  0.0083287 ,\n",
              "        0.0083287 ,  0.0083287 ,  0.0083287 ,  0.0083287 ,  0.0083287 ,\n",
              "        0.0083287 ,  0.0083287 ,  0.00832226,  0.0083287 ,  0.0083287 ,\n",
              "        0.0083287 ,  0.0083287 ,  0.0083287 ,  0.0083287 ,  0.0083287 ,\n",
              "        0.00822046,  0.0083287 ,  0.0083287 ,  0.0083287 ,  0.0083287 ,\n",
              "        0.0083287 ,  0.0083287 ,  0.0083287 ,  0.0083287 ,  0.00829995,\n",
              "        0.0083287 ,  0.0083287 ,  0.0083287 ,  0.0083287 ,  0.0083287 ,\n",
              "        0.0083287 ,  0.0083287 ,  0.0083287 ,  0.0083287 ,  0.0083287 ,\n",
              "        0.0083287 ,  0.0083287 ,  0.0083287 ,  0.0083287 ,  0.0083287 ,\n",
              "        0.0083287 ,  0.0083287 ], dtype=float32)"
            ]
          },
          "metadata": {
            "tags": []
          },
          "execution_count": 27
        }
      ]
    },
    {
      "cell_type": "code",
      "metadata": {
        "colab": {
          "base_uri": "https://localhost:8080/",
          "height": 396
        },
        "id": "m6D_rOhxymhU",
        "outputId": "43d3790c-7b53-465c-ac48-35152c8587cc"
      },
      "source": [
        "fig1 = plt.gcf()\n",
        "pd.value_counts(test_predictions.round(2)).sort_index().plot(kind=\"bar\")"
      ],
      "execution_count": null,
      "outputs": [
        {
          "output_type": "execute_result",
          "data": {
            "text/plain": [
              "<matplotlib.axes._subplots.AxesSubplot at 0x7fd3f8a36828>"
            ]
          },
          "metadata": {
            "tags": []
          },
          "execution_count": 32
        },
        {
          "output_type": "display_data",
          "data": {
            "image/png": "[encoded data removed]",
            "text/plain": [
              "<Figure size 432x288 with 1 Axes>"
            ]
          },
          "metadata": {
            "tags": [],
            "needs_background": "light"
          }
        }
      ]
    },
    {
      "cell_type": "code",
      "metadata": {
        "colab": {
          "base_uri": "https://localhost:8080/",
          "height": 282
        },
        "id": "v1yIxlQizDPN",
        "outputId": "b184665f-2179-4cfd-bfcb-64d2d4b4b87e"
      },
      "source": [
        "plt.scatter(test_labels, test_predictions )\n",
        "plt.plot(test_labels, test_predictions)"
      ],
      "execution_count": null,
      "outputs": [
        {
          "output_type": "execute_result",
          "data": {
            "text/plain": [
              "[<matplotlib.lines.Line2D at 0x7fd3f8a57d30>]"
            ]
          },
          "metadata": {
            "tags": []
          },
          "execution_count": 33
        },
        {
          "output_type": "display_data",
          "data": {
            "image/png": "[encoded data removed]",
            "text/plain": [
              "<Figure size 432x288 with 1 Axes>"
            ]
          },
          "metadata": {
            "tags": [],
            "needs_background": "light"
          }
        }
      ]
    },
    {
      "cell_type": "code",
      "metadata": {
        "colab": {
          "base_uri": "https://localhost:8080/",
          "height": 282
        },
        "id": "mVPnjjct59C2",
        "outputId": "0bf15640-b716-4eeb-8b8a-68703ad96222"
      },
      "source": [
        "plt.plot(test_labels, test_predictions,'*g')"
      ],
      "execution_count": null,
      "outputs": [
        {
          "output_type": "execute_result",
          "data": {
            "text/plain": [
              "[<matplotlib.lines.Line2D at 0x7fd3f8643588>]"
            ]
          },
          "metadata": {
            "tags": []
          },
          "execution_count": 41
        },
        {
          "output_type": "display_data",
          "data": {
            "image/png": "[encoded data removed]",
            "text/plain": [
              "<Figure size 432x288 with 1 Axes>"
            ]
          },
          "metadata": {
            "tags": [],
            "needs_background": "light"
          }
        }
      ]
    },
    {
      "cell_type": "code",
      "metadata": {
        "colab": {
          "base_uri": "https://localhost:8080/",
          "height": 283
        },
        "id": "lLiIP6fmDSfI",
        "outputId": "4de09624-bf36-4edf-9a5b-67b8abb9c729"
      },
      "source": [
        "\n",
        "a = plt.axes(aspect='equal')\n",
        "plt.scatter(test_labels, test_predictions)\n",
        "plt.xlabel('True Values [z]')\n",
        "plt.ylabel('Predictions [z]')\n",
        "lims = [0, 0.01]\n",
        "plt.xlim(lims)\n",
        "plt.ylim(lims)\n",
        "_ = plt.plot(lims, lims)"
      ],
      "execution_count": null,
      "outputs": [
        {
          "output_type": "display_data",
          "data": {
            "image/png": "[encoded data removed]",
            "text/plain": [
              "<Figure size 432x288 with 1 Axes>"
            ]
          },
          "metadata": {
            "tags": [],
            "needs_background": "light"
          }
        }
      ]
    },
    {
      "cell_type": "code",
      "metadata": {
        "id": "wvZtRPyPSdhG"
      },
      "source": [
        "test_predictions = np.load('/content/drive/MyDrive/Colab Notebooks/Vggpredictions.npy')"
      ],
      "execution_count": null,
      "outputs": []
    },
    {
      "cell_type": "code",
      "metadata": {
        "id": "g0VWePUFjlf5"
      },
      "source": [
        "spec=test_labels.to_numpy()"
      ],
      "execution_count": null,
      "outputs": []
    },
    {
      "cell_type": "code",
      "metadata": {
        "colab": {
          "base_uri": "https://localhost:8080/"
        },
        "id": "bOKhQQxBi2iZ",
        "outputId": "3d54d88e-93e5-4560-d3da-517642413e8a"
      },
      "source": [
        "type(spec)"
      ],
      "execution_count": null,
      "outputs": [
        {
          "output_type": "execute_result",
          "data": {
            "text/plain": [
              "numpy.ndarray"
            ]
          },
          "metadata": {
            "tags": []
          },
          "execution_count": 39
        }
      ]
    },
    {
      "cell_type": "code",
      "metadata": {
        "colab": {
          "base_uri": "https://localhost:8080/"
        },
        "id": "rubxEHbojAsp",
        "outputId": "a2e060a7-90f5-4c67-ee98-bbdeb5e81073"
      },
      "source": [
        "type(test_predictions)"
      ],
      "execution_count": null,
      "outputs": [
        {
          "output_type": "execute_result",
          "data": {
            "text/plain": [
              "numpy.ndarray"
            ]
          },
          "metadata": {
            "tags": []
          },
          "execution_count": 35
        }
      ]
    },
    {
      "cell_type": "code",
      "metadata": {
        "id": "FD1HLl96k2Ob"
      },
      "source": [
        "outlier=(spec-test_predictions)/(1+spec)"
      ],
      "execution_count": null,
      "outputs": []
    },
    {
      "cell_type": "code",
      "metadata": {
        "colab": {
          "base_uri": "https://localhost:8080/"
        },
        "id": "IkGdhESilMqT",
        "outputId": "ebe10540-a614-486d-c205-2c6955593fad"
      },
      "source": [
        "outlier\n"
      ],
      "execution_count": null,
      "outputs": [
        {
          "output_type": "execute_result",
          "data": {
            "text/plain": [
              "array([ 2.80700797e-02,  9.59758788e-03,  1.21591240e-02,  9.07199990e-03,\n",
              "        4.61135658e-03,  5.00012288e-02,  3.39142111e-03,  5.45568838e-03,\n",
              "        1.04140619e-02,  1.21881793e-02,  6.77820768e-03,  1.21591240e-02,\n",
              "       -3.32112007e-03,  1.21591240e-02, -1.85869235e-03, -2.31082161e-03,\n",
              "        3.67881474e-02,  1.83238127e-02,  1.21591240e-02,  9.52948756e-03,\n",
              "       -1.85471064e-03,  8.95512681e-03,  9.73376043e-03,  1.21591240e-02,\n",
              "        9.58785983e-03,  1.21591240e-02,  1.21591240e-02,  1.21591240e-02,\n",
              "        1.21591240e-02,  8.34109049e-03,  3.34008360e-02,  4.80100684e-02,\n",
              "        1.76352057e-02,  8.57509878e-03,  1.21591240e-02,  9.46137787e-03,\n",
              "        1.46689314e-02,  3.80495981e-03,  1.21591240e-02,  3.27318377e-02,\n",
              "        1.60534985e-02,  4.43445451e-03,  1.21591240e-02,  1.21591240e-02,\n",
              "        1.15587423e-02,  1.28554268e-02,  1.27201114e-02,  1.61336690e-02,\n",
              "        1.16265639e-02, -4.06743359e-03,  1.21591240e-02,  1.90209988e-02,\n",
              "        1.21591240e-02,  1.51212669e-02,  1.33094285e-02,  9.26672714e-03,\n",
              "        2.03743362e-02,  1.21591240e-02,  1.21591240e-02,  1.21591240e-02,\n",
              "        5.52435002e-03,  1.21591240e-02,  9.07199990e-03,  1.21591240e-02,\n",
              "        1.19461688e-02,  1.21591240e-02,  1.21591240e-02,  1.44377912e-02,\n",
              "        1.21591240e-02,  1.21591240e-02,  1.03557870e-02,  1.28554268e-02,\n",
              "        1.30100274e-02,  1.83715968e-02,  5.07297130e-03,  6.27115838e-03,\n",
              "        3.15705957e-02,  7.23781527e-03,  1.21591240e-02,  1.13164464e-02,\n",
              "        8.40935432e-03,  1.21591240e-02,  1.21591240e-02,  1.21591240e-02,\n",
              "        1.21591240e-02,  7.07162334e-03,  1.11807088e-02,  1.89255524e-02,\n",
              "        1.21591240e-02,  8.93564528e-03,  1.21591240e-02,  1.21591240e-02,\n",
              "        1.21591240e-02,  1.21591240e-02, -4.57099324e-04,  1.23623137e-02,\n",
              "        9.71430950e-03,  1.82664657e-02,  1.21591240e-02,  1.21591240e-02,\n",
              "        6.65777179e-03,  1.89828224e-02,  9.61704339e-03,  3.04065621e-02,\n",
              "        1.03266469e-02,  1.21591240e-02,  1.21591240e-02, -8.48355175e-04,\n",
              "        6.03411131e-03,  6.83690468e-03,  2.10210919e-02,  1.21591240e-02,\n",
              "        1.21591240e-02,  1.21591240e-02,  1.21591240e-02, -1.50543922e-03,\n",
              "        2.84353120e-02,  1.21591240e-02,  1.21591240e-02,  1.21591240e-02,\n",
              "       -6.30200355e-03, -1.75816398e-03,  2.76201859e-02,  1.21591240e-02,\n",
              "        1.21591240e-02,  1.29907050e-02,  1.21591240e-02,  1.51405060e-02,\n",
              "        1.21591240e-02,  1.03557870e-02,  1.94312068e-02,  1.87823479e-02,\n",
              "        1.21591240e-02,  2.00315900e-02,  6.17126546e-03,  8.40935432e-03,\n",
              "       -2.25503030e-03,  1.51212669e-02,  8.43860737e-03,  8.77976547e-03,\n",
              "        2.23689201e-02,  2.12016504e-02,  1.21591240e-02,  8.45810844e-03,\n",
              "        2.05741607e-02,  1.95265548e-02,  1.06082621e-02,  1.21591240e-02,\n",
              "        3.50263233e-04,  1.15684317e-02,  1.21591240e-02,  1.48903389e-02,\n",
              "        1.13279998e-02,  2.71417172e-02, -3.49086632e-03,  2.06217260e-02,\n",
              "       -1.23681102e-04,  7.63840233e-03, -9.50688258e-04,  1.21591240e-02,\n",
              "        5.86751609e-03,  1.21591240e-02,  1.92204961e-02,  1.21591240e-02,\n",
              "        1.25654199e-02, -2.04387659e-03,  5.49492476e-03, -6.46730829e-04,\n",
              "        1.87250545e-02, -1.57010074e-03,  1.21591240e-02,  1.25847590e-02,\n",
              "        1.81039460e-02,  1.90782577e-02, -2.24307583e-03,  1.35893489e-02,\n",
              "        1.21591240e-02,  1.21591240e-02,  1.21591240e-02,  1.21591240e-02,\n",
              "        1.21591240e-02,  8.50685777e-03,  3.82464357e-03,  1.29176819e-02,\n",
              "        7.30521676e-04,  1.21591240e-02,  1.21591240e-02,  4.81766289e-03,\n",
              "        1.21591240e-02,  4.30553227e-04,  6.31817433e-03,  6.34426593e-03,\n",
              "        1.11516174e-02,  1.21591240e-02,  1.07926817e-02,  1.38787547e-02,\n",
              "        1.33383931e-02,  7.74582190e-03,  1.21591240e-02,  9.19858132e-03,\n",
              "        1.21591240e-02,  1.03654999e-02,  1.21591240e-02,  6.97053275e-03,\n",
              "        8.31183168e-03, -3.46190554e-03,  1.05305912e-02,  1.21591240e-02,\n",
              "        1.53485046e-02,  1.21591240e-02, -4.39948500e-03,  1.33383931e-02,\n",
              "        1.80300373e-03, -6.74307544e-03,  1.21591240e-02,  1.21591240e-02,\n",
              "        1.21591240e-02, -3.20432807e-03, -3.67865258e-03,  1.26331034e-02,\n",
              "        3.58763725e-02,  1.21591240e-02,  1.21591240e-02,  3.18216600e-02,\n",
              "        1.21591240e-02,  1.47459540e-02,  1.21591240e-02,  1.43607204e-02,\n",
              "        2.33253303e-02,  2.47800225e-02,  1.36086479e-02,  1.96504795e-02,\n",
              "        2.02029931e-02,  5.09490279e-02,  1.21591240e-02,  1.97934307e-02,\n",
              "        1.61015039e-02,  1.21591240e-02,  1.21591240e-02,  1.21591240e-02,\n",
              "        1.45504766e-03,  1.21591240e-02,  1.83620403e-02,  2.69539539e-02,\n",
              "        1.21591240e-02,  1.32997732e-02,  1.22114127e-02,  1.21591240e-02,\n",
              "        1.21591240e-02, -4.70672803e-03,  3.27225588e-02,  1.21591240e-02,\n",
              "        1.21591240e-02, -2.91595835e-03,  1.21591240e-02,  1.21591240e-02,\n",
              "       -3.29616223e-03, -2.00603768e-03,  4.26567910e-04,  1.13356595e-03,\n",
              "        2.63620253e-02,  1.28650907e-02,  1.21591240e-02,  2.78076923e-02,\n",
              "        1.21591240e-02,  4.45851453e-01,  2.67849049e-02,  1.21591240e-02,\n",
              "        2.43837181e-02,  5.02796501e-01,  1.21591240e-02,  2.32117953e-02,\n",
              "        1.28844181e-02,  1.89255524e-02,  3.03319686e-02,  1.12097986e-02,\n",
              "        1.21591240e-02,  1.67251475e-02,  1.29134077e-02,  2.20260480e-02,\n",
              "        2.68976107e-02,  3.43898953e-02,  5.14043710e-02,  2.08404667e-02,\n",
              "       -3.01671924e-03,  1.21591240e-02,  1.21591240e-02,  1.63318644e-02,\n",
              "        7.70676293e-03,  1.21591240e-02,  3.01174486e-02,  2.05361052e-02,\n",
              "        1.28516792e-02,  3.12542553e-02,  1.21591240e-02,  1.26524399e-02,\n",
              "        1.21591240e-02,  1.10740317e-02,  2.40154328e-02,  1.21591240e-02,\n",
              "       -1.59994734e-03,  1.62070992e-02,  1.58614303e-02,  1.50443029e-02,\n",
              "        3.89024648e-02,  1.21591240e-02,  1.99458660e-02, -2.46527638e-03,\n",
              "        2.86599339e-02, -2.98379514e-03,  2.61739608e-02,  2.82480477e-02,\n",
              "       -5.76199118e-03,  3.48520246e-02,  2.26247775e-02,  1.21591240e-02,\n",
              "       -1.87760588e-03, -1.27769823e-03,  1.65856708e-02,  3.95954893e-02,\n",
              "        1.21591240e-02,  3.29394287e-02,  3.03785909e-02, -2.58887448e-03,\n",
              "        1.21591240e-02,  2.14201322e-02,  3.02014025e-02,  3.34087159e-02,\n",
              "        3.58948093e-02,  9.56840317e-03,  1.21591240e-02,  1.37630127e-02,\n",
              "        1.21591240e-02,  1.24010071e-02,  2.26058297e-02,  3.00334801e-02,\n",
              "        1.10255345e-02,  3.48058316e-02,  1.21591240e-02,  1.21591240e-02,\n",
              "        3.87194096e-02,  1.21591240e-02,  1.21591240e-02,  1.21591240e-02,\n",
              "        1.92102075e-02,  1.00740280e-02,  1.50539241e-02,  3.74156096e-03,\n",
              "        3.10773869e-02,  1.19655322e-02,  1.21591240e-02,  3.43621534e-02,\n",
              "       -3.82553443e-03,  3.43159135e-02,  2.27289773e-02,  1.21591240e-02,\n",
              "        5.53147495e-02,  1.21591240e-02,  4.81766289e-03,  1.21591240e-02,\n",
              "        1.16459398e-02,  1.21591240e-02,  9.44191624e-03,  1.96600109e-02,\n",
              "        1.64757849e-02,  3.03133185e-02,  1.26312965e-02, -2.71508778e-04,\n",
              "        1.21591240e-02, -5.49621295e-03,  1.79318077e-02,  8.67256965e-03,\n",
              "        1.26911105e-02,  1.21591240e-02,  4.14033010e-02,  3.71560523e-02,\n",
              "        6.35094912e-02,  4.54256880e-03,  1.26137662e-02,  1.21591240e-02,\n",
              "        1.21591240e-02,  1.31162873e-02,  1.41679907e-02,  2.28697085e-03,\n",
              "        1.08314981e-02,  1.26814431e-02,  2.45476817e-03, -4.80684778e-03,\n",
              "        1.20913755e-02,  1.21591240e-02,  1.44199986e-02,  1.95120679e-03,\n",
              "        1.21591240e-02,  1.25557501e-02,  1.21591240e-02,  1.21591240e-02,\n",
              "        1.18493407e-02,  1.21107331e-02,  1.19268047e-02,  1.54866814e-02,\n",
              "       -1.75617353e-03,  1.35314473e-02,  1.21708830e-02,  1.21591240e-02,\n",
              "        1.21591240e-02,  4.97479126e-03, -7.57956038e-03,  2.86318619e-02,\n",
              "        1.21591240e-02,  1.21591240e-02,  1.61495045e-02,  1.24010071e-02,\n",
              "        1.21591240e-02,  2.42987539e-02, -1.58800848e-03, -7.09902787e-03,\n",
              "       -8.85592389e-03,  1.21591240e-02,  1.21591240e-02, -3.70163126e-03,\n",
              "        1.21591240e-02,  1.54770687e-02, -4.26943871e-03, -9.04983519e-04,\n",
              "       -1.06993766e-03, -5.42101820e-03, -6.55414083e-03,  1.04723299e-02,\n",
              "        3.95680458e-02, -2.37772440e-04,  1.21270041e-02,  5.25945999e-03,\n",
              "        7.43326399e-03,  1.21591240e-02, -8.24513579e-04,  1.21591240e-02,\n",
              "        1.21591240e-02,  1.21591240e-02,  1.21591240e-02,  1.21591240e-02,\n",
              "        1.21591240e-02, -4.49954352e-03,  1.43318158e-02,  1.21593722e-02,\n",
              "       -5.25663152e-03, -1.87661041e-03,  9.93794906e-03, -2.14346631e-03,\n",
              "       -5.22756873e-03, -1.55816260e-03, -4.55258262e-03, -1.33039763e-03,\n",
              "        1.23368612e-02,  1.21591240e-02,  1.21591240e-02,  1.52655418e-02,\n",
              "        1.21591240e-02,  1.62838815e-02,  2.33306184e-04, -4.38047613e-03,\n",
              "       -2.50115656e-03,  1.61591041e-02,  1.21591240e-02, -8.04140398e-03,\n",
              "       -5.26865799e-03,  1.21591240e-02, -4.09942899e-03, -2.57392147e-03,\n",
              "        2.03267469e-02,  1.21591240e-02, -3.40398900e-03,  1.21591240e-02,\n",
              "        1.56116294e-02, -6.07107230e-03,  2.12301536e-02,  1.21591240e-02,\n",
              "       -6.77423636e-03, -2.40049923e-03,  1.21591240e-02,  1.21591240e-02,\n",
              "       -5.81616700e-03, -4.60077274e-04,  1.21591240e-02,  1.21591240e-02,\n",
              "        1.56596779e-02, -5.47014416e-03,  3.05370730e-02,  1.44281580e-02,\n",
              "        1.21591240e-02, -4.83288218e-03,  1.21591240e-02, -6.61342650e-03,\n",
              "       -6.62548546e-03,  1.21591240e-02,  1.21591240e-02,  1.21591240e-02,\n",
              "        1.23070385e-02, -8.01691615e-03,  1.21591240e-02,  1.21591240e-02,\n",
              "        1.43414508e-02,  1.21591240e-02,  1.21591240e-02,  2.92779290e-04,\n",
              "        4.12964239e-03,  1.21591240e-02,  1.21591240e-02, -4.70372474e-03,\n",
              "        1.49288344e-02, -1.36520217e-03,  1.55059062e-02,  1.21591240e-02,\n",
              "        1.44474242e-02, -4.31245029e-03, -7.95333396e-03, -4.52155907e-03,\n",
              "        1.21591240e-02, -1.61586625e-03,  3.78083918e-02,  1.21591240e-02,\n",
              "       -5.02217283e-03, -4.32945589e-03,  7.39418040e-03,  8.29232485e-03,\n",
              "        3.80837627e-02, -4.68670647e-03,  1.21591240e-02,  7.43326399e-03,\n",
              "        7.37463745e-03, -4.54657792e-03,  1.21591240e-02,  1.21591240e-02,\n",
              "       -6.40143703e-03,  1.49480811e-02,  1.20913755e-02, -2.46527638e-03,\n",
              "        1.21591240e-02,  7.36850431e-05,  5.23666108e-04, -3.94646944e-03,\n",
              "        1.21591240e-02,  1.21591240e-02, -5.68575362e-03,  1.79177923e-04,\n",
              "        2.67661180e-02,  1.21591240e-02,  1.91355099e-02,  1.21591240e-02,\n",
              "       -4.34946321e-03,  1.21591240e-02,  1.12723161e-02,  4.14579769e-02,\n",
              "        1.21591240e-02,  7.71652796e-03,  9.65595213e-03,  1.57365457e-02,\n",
              "        1.63990325e-02,  1.21591240e-02,  1.55635762e-02,  1.84252885e-03,\n",
              "        1.21591240e-02, -5.43505370e-03,  1.21737534e-02,  1.21591240e-02,\n",
              "        1.21591240e-02,  1.62166976e-02,  1.21591240e-02,  1.21591240e-02,\n",
              "        2.85289171e-02,  1.21591240e-02,  1.21591240e-02,  1.21591240e-02,\n",
              "        1.21881562e-02,  1.91832150e-02,  1.52061903e-02,  3.03319686e-02,\n",
              "        1.45052183e-02,  1.47844608e-02,  1.42277563e-02,  8.21428986e-03,\n",
              "        1.21591240e-02,  1.21591240e-02,  1.43513967e-02,  1.56885047e-02,\n",
              "        2.54357921e-03,  1.22462155e-02,  1.59094544e-02, -4.02044406e-03,\n",
              "        1.40619572e-02,  1.47266995e-02,  1.66867922e-02, -7.90739928e-04,\n",
              "        1.90181066e-03,  1.70606282e-02,  1.49480811e-02,  2.35144965e-02,\n",
              "       -1.63362093e-04,  1.21591240e-02,  1.63824650e-02, -3.51483512e-03,\n",
              "        3.06625690e-03,  1.21591240e-02,  1.55635762e-02,  1.41872670e-02,\n",
              "        2.57599631e-02, -8.44381497e-04,  1.21591240e-02,  1.03654999e-02,\n",
              "       -4.44450887e-03, -6.27863742e-04,  1.21591240e-02,  1.21591240e-02,\n",
              "        1.27069179e-02,  1.21591240e-02, -5.94103363e-04,  7.15961424e-03,\n",
              "       -4.24343047e-04,  9.65595213e-03,  1.82276668e-03,  1.21591240e-02,\n",
              "       -2.70951168e-03,  1.18163836e-02,  1.72650725e-02,  1.42740014e-02,\n",
              "        1.21591240e-02, -3.65784140e-04,  1.21591240e-02, -2.05084722e-03,\n",
              "        6.16146999e-03,  1.97839019e-02,  5.84791298e-03,  1.21591240e-02,\n",
              "        9.98655299e-03, -4.96806778e-04,  1.61399048e-02, -2.28491773e-03,\n",
              "        1.21591240e-02,  1.21591240e-02,  1.23597843e-02,  1.59525100e-02,\n",
              "        4.61135658e-03,  1.08509052e-02,  1.54866814e-02, -4.15842584e-03,\n",
              "        2.40437723e-02,  1.52751587e-02,  1.21591240e-02,  1.66388440e-02,\n",
              "       -4.21042881e-03,  7.11073233e-03,  1.21591240e-02, -4.86592779e-03,\n",
              "        1.53520865e-02,  1.48903389e-02,  1.62166976e-02,  1.21591240e-02,\n",
              "       -1.94430666e-03,  1.15296731e-02, -2.01699076e-03,  2.02315544e-02,\n",
              "        1.21591240e-02,  1.55155184e-02,  1.64613409e-02,  8.74078785e-03,\n",
              "        1.21591240e-02,  1.21591240e-02,  3.78527527e-03, -2.37558717e-03,\n",
              "        1.21591240e-02,  1.21591240e-02,  1.87346038e-02,  2.49969098e-02,\n",
              "        9.91850615e-03,  1.00934648e-02,  1.95646888e-02, -3.43094932e-03,\n",
              "        1.90305424e-02,  4.57205044e-03,  1.51405060e-02,  1.69264634e-02,\n",
              "       -5.67295272e-04,  1.21591240e-02, -3.91648284e-03,  6.17126546e-03,\n",
              "        1.21591240e-02,  5.44587880e-03, -2.78629592e-03,  6.59228805e-03,\n",
              "       -4.77945344e-04, -1.93932868e-03,  1.21591240e-02,  1.21591240e-02,\n",
              "       -2.99576729e-03,  1.21591240e-02,  2.71980321e-02,  1.21591240e-02,\n",
              "        2.18378257e-02, -9.32460350e-04,  4.01160049e-03,  1.21591240e-02,\n",
              "        1.21591240e-02,  1.78552824e-02,  1.78074480e-02,  1.21644560e-02,\n",
              "       -6.07011474e-04,  7.22804082e-03, -1.91344400e-03, -2.61033260e-03,\n",
              "       -3.11251073e-03,  1.21591240e-02,  2.01839512e-02,  2.13406712e-02,\n",
              "        1.21591240e-02,  2.48732866e-02,  2.13441496e-02,  2.18947563e-02,\n",
              "        1.74054553e-02,  2.10115870e-02,  1.21591240e-02,  3.09582605e-03,\n",
              "        2.36353551e-02,  2.01934722e-02,  1.93453777e-02,  5.42026583e-03,\n",
              "        2.68600450e-02,  1.21591240e-02,  2.50157616e-04,  2.26626709e-02,\n",
              "        1.99601617e-04,  1.21591240e-02,  1.06082621e-02,  1.21591240e-02,\n",
              "        1.21591240e-02,  1.21591240e-02,  1.21591240e-02,  1.35410981e-02,\n",
              "       -1.99876176e-03,  1.21591240e-02,  2.06217260e-02,  2.61645557e-02,\n",
              "        2.54357921e-03,  1.21591240e-02,  1.21591240e-02,  1.21591240e-02,\n",
              "        1.21591240e-02,  8.88693810e-03,  2.82199518e-02,  1.46380858e-02,\n",
              "        2.41948886e-02,  2.17619079e-02,  3.04997877e-02,  1.44121716e-02,\n",
              "        1.21591240e-02,  6.04897044e-04,  2.45252924e-02,  4.17649783e-04,\n",
              "        1.21591240e-02,  2.26153037e-02,  1.21591240e-02,  3.01920750e-02,\n",
              "        2.26240279e-02,  2.90852514e-03,  1.01031830e-02,  3.33415176e-04,\n",
              "        1.38980423e-02,  6.72928821e-03,  1.08023861e-02,  2.73857013e-02,\n",
              "        2.29278425e-02,  1.21591240e-02,  1.21591240e-02,  5.09567755e-01,\n",
              "        5.15150137e-03,  5.38701725e-03,  2.23878771e-02,  1.28940815e-02,\n",
              "        2.29467779e-02,  6.64122102e-03,  7.82393063e-03,  1.21591240e-02,\n",
              "        1.21591240e-02,  9.29592963e-03,  2.33915468e-02,  1.21711275e-02,\n",
              "        1.14036866e-02,  1.21591240e-02,  9.37379451e-03,  1.22248459e-02,\n",
              "        2.38191897e-02,  3.46487422e-02,  2.25489819e-02,  6.48461856e-03,\n",
              "        2.30414435e-02,  3.48281138e-04,  2.50157651e-02,  2.12681552e-02,\n",
              "        2.28047450e-02,  6.07330207e-03,  1.21591240e-02,  1.21591240e-02,\n",
              "        2.70947832e-02,  1.21591240e-02,  7.22804082e-03,  2.76483165e-02,\n",
              "        2.98654995e-02,  2.49309108e-02,  2.65406192e-02,  1.21591240e-02,\n",
              "        2.76014313e-02,  2.95760632e-02,  2.75639199e-02,  3.03039931e-02,\n",
              "        6.03411131e-03,  2.90621219e-02,  1.71947564e-02,  1.21591240e-02,\n",
              "        2.17334357e-02,  2.37224947e-02,  1.21591240e-02,  2.21440155e-02,\n",
              "       -8.26235212e-03,  1.21591240e-02,  1.97171953e-02,  1.21591240e-02,\n",
              "        1.21591240e-02,  1.83333699e-02,  2.01553871e-02, -1.65346226e-04,\n",
              "        1.21591240e-02,  2.28710322e-02,  2.04504694e-02,  2.28142152e-02,\n",
              "        2.13426122e-02,  1.21591240e-02,  1.21591240e-02,  1.21591240e-02,\n",
              "        1.21591240e-02,  2.11836930e-02,  1.21591240e-02,  2.18947563e-02,\n",
              "        1.21591240e-02,  2.28331549e-02,  2.20370537e-02,  1.21591240e-02,\n",
              "        2.82867597e-04,  2.67880761e-02,  1.21591240e-02,  1.21591240e-02,\n",
              "        1.21591240e-02,  1.21591240e-02,  1.21591240e-02,  1.21591240e-02,\n",
              "        2.44025971e-02,  2.20275685e-02,  1.21591240e-02,  1.21591240e-02,\n",
              "        2.01744300e-02,  4.73560572e-03,  1.86229024e-03,  1.21591240e-02,\n",
              "        1.19171224e-02,  1.95360886e-02,  1.21591240e-02,  1.21591240e-02,\n",
              "        4.40496472e-03,  2.02986461e-02,  1.50443029e-02,  1.70031335e-02,\n",
              "        1.94884178e-02,  1.07926817e-02,  1.21591240e-02,  1.21591240e-02,\n",
              "        1.21591240e-02,  1.21591240e-02,  1.21872898e-02,  1.21591240e-02,\n",
              "       -2.44833386e-03,  2.94796276e-03,  2.34577543e-02,  6.30918151e-02,\n",
              "       -7.68887605e-04,  3.22212345e-02,  2.14391260e-02,  1.21591240e-02,\n",
              "        1.21591240e-02,  1.21591240e-02,  4.78819580e-03,  1.21591240e-02,\n",
              "        4.89623328e-03,  2.48743332e-02,  1.73863046e-02,  1.35893489e-02])"
            ]
          },
          "metadata": {
            "tags": []
          },
          "execution_count": 14
        }
      ]
    },
    {
      "cell_type": "code",
      "metadata": {
        "id": "-Dmap4sOkVW7"
      },
      "source": [
        "f=pd.DataFrame(outlier)"
      ],
      "execution_count": null,
      "outputs": []
    },
    {
      "cell_type": "code",
      "metadata": {
        "colab": {
          "base_uri": "https://localhost:8080/"
        },
        "id": "EuKS7DC8rV5P",
        "outputId": "bcd12541-c54a-4841-94c2-467142f400fc"
      },
      "source": [
        "f[0].median()"
      ],
      "execution_count": null,
      "outputs": [
        {
          "output_type": "execute_result",
          "data": {
            "text/plain": [
              "0.012159123986981065"
            ]
          },
          "metadata": {
            "tags": []
          },
          "execution_count": 19
        }
      ]
    }
  ]
}