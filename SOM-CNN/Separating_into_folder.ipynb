{
  "nbformat": 4,
  "nbformat_minor": 0,
  "metadata": {
    "colab": {
      "name": "separating into folder.ipynb",
      "provenance": [],
      "collapsed_sections": []
    },
    "kernelspec": {
      "name": "python3",
      "display_name": "Python 3"
    },
    "language_info": {
      "name": "python"
    }
  },
  "cells": [
    {
      "cell_type": "code",
      "metadata": {
        "id": "JY1s_6lNaQ2u"
      },
      "source": [
        "import os\n",
        "import cv2\n",
        "import matplotlib.pyplot as plt\n",
        "import numpy as np\n",
        "import pandas as pd\n",
        "from tensorflow import keras\n",
        "from tensorflow.keras import preprocessing, layers\n",
        "from tensorflow.keras.callbacks import EarlyStopping\n",
        "from keras_preprocessing import image\n",
        "from keras.layers.normalization import BatchNormalization\n",
        "import tensorflow as tf"
      ],
      "execution_count": null,
      "outputs": []
    },
    {
      "cell_type": "code",
      "metadata": {
        "id": "VWEqvekEbgPb"
      },
      "source": [
        "image_shape=(227,227,3)\n",
        "model = tf.keras.models.Sequential([\n",
        "    \n",
        "    tf.keras.layers.Conv2D(64, (3,3),activation='relu', padding='valid', input_shape=image_shape),\n",
        "    tf.keras.layers.MaxPooling2D(pool_size=(3,3), strides=(2,2), padding='valid'),\n",
        "\n",
        "    tf.keras.layers.Conv2D(64, (3,3),activation='relu', padding='valid'),\n",
        "    tf.keras.layers.MaxPooling2D(pool_size=(3,3), strides=(2,2), padding='valid'),\n",
        "    \n",
        "    tf.keras.layers.Conv2D(64, (3,3),activation='relu', padding='valid'),\n",
        "    tf.keras.layers.MaxPooling2D(pool_size=(3,3), strides=(2,2), padding='valid'),\n",
        "\n",
        "    tf.keras.layers.Conv2D(64, (3,3),activation='relu', padding='valid'),\n",
        "    tf.keras.layers.MaxPooling2D(pool_size=(3,3), strides=(2,2), padding='valid'),\n",
        "    \n",
        "\n",
        "    # flatten the image pixels\n",
        "    tf.keras.layers.Flatten(),\n",
        "\n",
        "    tf.keras.layers.Dense(2048, input_shape=(227*227*3,), activation='relu'),\n",
        "    tf.keras.layers.Dropout(0.5),\n",
        "    tf.keras.layers.Dropout(0.5),\n",
        "\n",
        "    # 3 neuron fully connected hidden layer\n",
        "    tf.keras.layers.Dense(3, activation='softmax')\n",
        "])"
      ],
      "execution_count": null,
      "outputs": []
    },
    {
      "cell_type": "code",
      "metadata": {
        "id": "lXmvbTjha83o"
      },
      "source": [
        "model.load_weights(\"/content/drive/MyDrive/Colab Notebooks/Custom_cnn_classify.h5\")"
      ],
      "execution_count": null,
      "outputs": []
    },
    {
      "cell_type": "code",
      "metadata": {
        "id": "8qZ1luDRbfhw"
      },
      "source": [
        "'/content/drive/MyDrive/Colab Notebooks/new som images/',"
      ],
      "execution_count": null,
      "outputs": []
    },
    {
      "cell_type": "code",
      "metadata": {
        "id": "WQE9KgcBcE10"
      },
      "source": [
        "\n",
        "test_datagen = keras.preprocessing.image.ImageDataGenerator(rescale=1./255)\n",
        "test_set = test_datagen.flow_from_directory(\n",
        "        'Category1',\n",
        "        target_size=(256, 256),\n",
        "        batch_size=4458,\n",
        "        class_mode='categorical')"
      ],
      "execution_count": null,
      "outputs": []
    },
    {
      "cell_type": "code",
      "metadata": {
        "id": "WCPdJ1ZxsgfT"
      },
      "source": [
        "data = pd.read_csv(\"/content/drive/MyDrive/Colab Notebooks/proper_dataset.csv\")\n",
        "data.drop(data.columns[[2, 3, 4]], axis = 1, inplace = True)"
      ],
      "execution_count": null,
      "outputs": []
    },
    {
      "cell_type": "code",
      "metadata": {
        "colab": {
          "base_uri": "https://localhost:8080/",
          "height": 419
        },
        "id": "SeYnk_hbu-QB",
        "outputId": "190db4c4-7ca6-4795-f60f-cb134ae6cc1b"
      },
      "source": [
        "data"
      ],
      "execution_count": null,
      "outputs": [
        {
          "output_type": "execute_result",
          "data": {
            "text/html": [
              "<div>\n",
              "<style scoped>\n",
              "    .dataframe tbody tr th:only-of-type {\n",
              "        vertical-align: middle;\n",
              "    }\n",
              "\n",
              "    .dataframe tbody tr th {\n",
              "        vertical-align: top;\n",
              "    }\n",
              "\n",
              "    .dataframe thead th {\n",
              "        text-align: right;\n",
              "    }\n",
              "</style>\n",
              "<table border=\"1\" class=\"dataframe\">\n",
              "  <thead>\n",
              "    <tr style=\"text-align: right;\">\n",
              "      <th></th>\n",
              "      <th>img_path</th>\n",
              "      <th>z</th>\n",
              "    </tr>\n",
              "  </thead>\n",
              "  <tbody>\n",
              "    <tr>\n",
              "      <th>0</th>\n",
              "      <td>/content/drive/MyDrive/Colab Notebooks/new som...</td>\n",
              "      <td>0.037450</td>\n",
              "    </tr>\n",
              "    <tr>\n",
              "      <th>1</th>\n",
              "      <td>/content/drive/MyDrive/Colab Notebooks/new som...</td>\n",
              "      <td>0.029610</td>\n",
              "    </tr>\n",
              "    <tr>\n",
              "      <th>2</th>\n",
              "      <td>/content/drive/MyDrive/Colab Notebooks/new som...</td>\n",
              "      <td>0.002882</td>\n",
              "    </tr>\n",
              "    <tr>\n",
              "      <th>3</th>\n",
              "      <td>/content/drive/MyDrive/Colab Notebooks/new som...</td>\n",
              "      <td>0.038340</td>\n",
              "    </tr>\n",
              "    <tr>\n",
              "      <th>4</th>\n",
              "      <td>/content/drive/MyDrive/Colab Notebooks/new som...</td>\n",
              "      <td>0.017610</td>\n",
              "    </tr>\n",
              "    <tr>\n",
              "      <th>...</th>\n",
              "      <td>...</td>\n",
              "      <td>...</td>\n",
              "    </tr>\n",
              "    <tr>\n",
              "      <th>3096</th>\n",
              "      <td>/content/drive/MyDrive/Colab Notebooks/new som...</td>\n",
              "      <td>0.026500</td>\n",
              "    </tr>\n",
              "    <tr>\n",
              "      <th>3097</th>\n",
              "      <td>/content/drive/MyDrive/Colab Notebooks/new som...</td>\n",
              "      <td>0.026170</td>\n",
              "    </tr>\n",
              "    <tr>\n",
              "      <th>3098</th>\n",
              "      <td>/content/drive/MyDrive/Colab Notebooks/new som...</td>\n",
              "      <td>0.024300</td>\n",
              "    </tr>\n",
              "    <tr>\n",
              "      <th>3099</th>\n",
              "      <td>/content/drive/MyDrive/Colab Notebooks/new som...</td>\n",
              "      <td>0.022220</td>\n",
              "    </tr>\n",
              "    <tr>\n",
              "      <th>3100</th>\n",
              "      <td>/content/drive/MyDrive/Colab Notebooks/new som...</td>\n",
              "      <td>0.005804</td>\n",
              "    </tr>\n",
              "  </tbody>\n",
              "</table>\n",
              "<p>3101 rows × 2 columns</p>\n",
              "</div>"
            ],
            "text/plain": [
              "                                               img_path         z\n",
              "0     /content/drive/MyDrive/Colab Notebooks/new som...  0.037450\n",
              "1     /content/drive/MyDrive/Colab Notebooks/new som...  0.029610\n",
              "2     /content/drive/MyDrive/Colab Notebooks/new som...  0.002882\n",
              "3     /content/drive/MyDrive/Colab Notebooks/new som...  0.038340\n",
              "4     /content/drive/MyDrive/Colab Notebooks/new som...  0.017610\n",
              "...                                                 ...       ...\n",
              "3096  /content/drive/MyDrive/Colab Notebooks/new som...  0.026500\n",
              "3097  /content/drive/MyDrive/Colab Notebooks/new som...  0.026170\n",
              "3098  /content/drive/MyDrive/Colab Notebooks/new som...  0.024300\n",
              "3099  /content/drive/MyDrive/Colab Notebooks/new som...  0.022220\n",
              "3100  /content/drive/MyDrive/Colab Notebooks/new som...  0.005804\n",
              "\n",
              "[3101 rows x 2 columns]"
            ]
          },
          "metadata": {
            "tags": []
          },
          "execution_count": 11
        }
      ]
    },
    {
      "cell_type": "code",
      "metadata": {
        "id": "u8Ar1tEwveN2"
      },
      "source": [
        "X = data.iloc [: ,:-1].values    # independent variables\n",
        "y = data.iloc [: , -1].values    # dependent variables"
      ],
      "execution_count": null,
      "outputs": []
    },
    {
      "cell_type": "code",
      "metadata": {
        "colab": {
          "base_uri": "https://localhost:8080/"
        },
        "id": "-IThtzurwV6U",
        "outputId": "3708de61-9e5e-4ad2-acc5-c0b611a61b66"
      },
      "source": [
        "!pip install scipy==1.1.0\n",
        "import scipy.misc"
      ],
      "execution_count": null,
      "outputs": [
        {
          "output_type": "stream",
          "text": [
            "Requirement already satisfied: scipy==1.1.0 in /usr/local/lib/python3.7/dist-packages (1.1.0)\n",
            "Requirement already satisfied: numpy>=1.8.2 in /usr/local/lib/python3.7/dist-packages (from scipy==1.1.0) (1.19.5)\n"
          ],
          "name": "stdout"
        }
      ]
    },
    {
      "cell_type": "code",
      "metadata": {
        "id": "cGnVoAY32lYt"
      },
      "source": [
        "from PIL import Image"
      ],
      "execution_count": null,
      "outputs": []
    },
    {
      "cell_type": "code",
      "metadata": {
        "id": "v9oHZ67l6VHK"
      },
      "source": [
        "pred_result = [0, 0, 0]"
      ],
      "execution_count": null,
      "outputs": []
    },
    {
      "cell_type": "code",
      "metadata": {
        "colab": {
          "base_uri": "https://localhost:8080/"
        },
        "id": "qSQRpFjcciwq",
        "outputId": "28f4578f-761f-4a5a-a4de-941c108910eb"
      },
      "source": [
        "for i in X:\n",
        "  p=str(i)\n",
        "  path = p[2:-2]\n",
        "  imgs = plt.imread(path)\n",
        "  # plt.imshow(imgs)\n",
        "  # plt.show()\n",
        "  imgs= scipy.misc.imresize(imgs,(227,227))\n",
        "  pred = model.predict_classes(imgs.reshape(1,227,227,3))\n",
        "  pred_result[pred[0]] += 1\n",
        "pred_result"
      ],
      "execution_count": null,
      "outputs": [
        {
          "output_type": "stream",
          "text": [
            "/usr/local/lib/python3.7/dist-packages/ipykernel_launcher.py:7: DeprecationWarning:     `imresize` is deprecated!\n",
            "    `imresize` is deprecated in SciPy 1.0.0, and will be removed in 1.2.0.\n",
            "    Use ``skimage.transform.resize`` instead.\n",
            "  import sys\n",
            "/usr/local/lib/python3.7/dist-packages/tensorflow/python/keras/engine/sequential.py:455: UserWarning: `model.predict_classes()` is deprecated and will be removed after 2021-01-01. Please use instead:* `np.argmax(model.predict(x), axis=-1)`,   if your model does multi-class classification   (e.g. if it uses a `softmax` last-layer activation).* `(model.predict(x) > 0.5).astype(\"int32\")`,   if your model does binary classification   (e.g. if it uses a `sigmoid` last-layer activation).\n",
            "  warnings.warn('`model.predict_classes()` is deprecated and '\n"
          ],
          "name": "stderr"
        },
        {
          "output_type": "execute_result",
          "data": {
            "text/plain": [
              "[758, 47, 2297]"
            ]
          },
          "metadata": {
            "tags": []
          },
          "execution_count": 21
        }
      ]
    },
    {
      "cell_type": "code",
      "metadata": {
        "id": "CnWpmHqhSNli"
      },
      "source": [
        "directory = r'/content/drive/MyDrive/Colab Notebooks/new som images/'\n",
        "os.chdir(directory)"
      ],
      "execution_count": null,
      "outputs": []
    },
    {
      "cell_type": "code",
      "metadata": {
        "colab": {
          "base_uri": "https://localhost:8080/"
        },
        "id": "lap1aBo9D5k_",
        "outputId": "9657e495-cfa8-4d57-a0b6-5a36d4856c46"
      },
      "source": [
        "for i in X:\n",
        "  p=str(i)\n",
        "  path = p[2:-2]\n",
        "  imgs = plt.imread(path)\n",
        "  # plt.imshow(imgs)\n",
        "  # plt.show()\n",
        "  imgs= scipy.misc.imresize(imgs,(227,227))\n",
        "  pred = model.predict_classes(imgs.reshape(1,227,227,3))\n",
        "  if pred[0] == 0:\n",
        "    directory = r'/content/drive/MyDrive/Colab Notebooks/classified_images/spiral/'\n",
        "    os.chdir(directory)\n",
        "    cv2.imwrite(path[54:], imgs)\n",
        "  elif pred[0] == 1:\n",
        "    directory = r'/content/drive/MyDrive/Colab Notebooks/classified_images/lenticular/'\n",
        "    os.chdir(directory)\n",
        "    cv2.imwrite(path[54:], imgs)\n",
        "  else:\n",
        "    directory = r'/content/drive/MyDrive/Colab Notebooks/classified_images/elliptical/'\n",
        "    os.chdir(directory)\n",
        "    cv2.imwrite(path[54:], imgs)\n",
        "\n",
        "print(\"done!!\")"
      ],
      "execution_count": null,
      "outputs": [
        {
          "output_type": "stream",
          "text": [
            "/usr/local/lib/python3.7/dist-packages/ipykernel_launcher.py:7: DeprecationWarning:     `imresize` is deprecated!\n",
            "    `imresize` is deprecated in SciPy 1.0.0, and will be removed in 1.2.0.\n",
            "    Use ``skimage.transform.resize`` instead.\n",
            "  import sys\n",
            "/usr/local/lib/python3.7/dist-packages/tensorflow/python/keras/engine/sequential.py:455: UserWarning: `model.predict_classes()` is deprecated and will be removed after 2021-01-01. Please use instead:* `np.argmax(model.predict(x), axis=-1)`,   if your model does multi-class classification   (e.g. if it uses a `softmax` last-layer activation).* `(model.predict(x) > 0.5).astype(\"int32\")`,   if your model does binary classification   (e.g. if it uses a `sigmoid` last-layer activation).\n",
            "  warnings.warn('`model.predict_classes()` is deprecated and '\n"
          ],
          "name": "stderr"
        },
        {
          "output_type": "stream",
          "text": [
            "done!!\n"
          ],
          "name": "stdout"
        }
      ]
    },
    {
      "cell_type": "code",
      "metadata": {
        "id": "fH4Hoqa4fCtV"
      },
      "source": [
        "elliptical = []\n",
        "spiral = []\n",
        "lenticular = []"
      ],
      "execution_count": null,
      "outputs": []
    },
    {
      "cell_type": "code",
      "metadata": {
        "colab": {
          "base_uri": "https://localhost:8080/"
        },
        "id": "oIbAL4cWK6RY",
        "outputId": "08c5ed98-ab25-4cc6-9a7c-d1f02b97d32e"
      },
      "source": [
        "for i in X:\n",
        "  p=str(i)\n",
        "  path = p[2:-2]\n",
        "  imgs = plt.imread(path)\n",
        "  imgs= scipy.misc.imresize(imgs,(227,227))\n",
        "  pred = model.predict_classes(imgs.reshape(1,227,227,3))\n",
        "  if pred[0] == 0:\n",
        "    spiral.append(path[54:])\n",
        "  elif pred[0] == 1:\n",
        "    lenticular.append(path[54:])\n",
        "  else:\n",
        "    elliptical.append(path[54:])"
      ],
      "execution_count": null,
      "outputs": [
        {
          "output_type": "stream",
          "text": [
            "/usr/local/lib/python3.7/dist-packages/ipykernel_launcher.py:5: DeprecationWarning:     `imresize` is deprecated!\n",
            "    `imresize` is deprecated in SciPy 1.0.0, and will be removed in 1.2.0.\n",
            "    Use ``skimage.transform.resize`` instead.\n",
            "  \"\"\"\n",
            "/usr/local/lib/python3.7/dist-packages/tensorflow/python/keras/engine/sequential.py:455: UserWarning: `model.predict_classes()` is deprecated and will be removed after 2021-01-01. Please use instead:* `np.argmax(model.predict(x), axis=-1)`,   if your model does multi-class classification   (e.g. if it uses a `softmax` last-layer activation).* `(model.predict(x) > 0.5).astype(\"int32\")`,   if your model does binary classification   (e.g. if it uses a `sigmoid` last-layer activation).\n",
            "  warnings.warn('`model.predict_classes()` is deprecated and '\n"
          ],
          "name": "stderr"
        }
      ]
    },
    {
      "cell_type": "code",
      "metadata": {
        "id": "yjZsAuQVikWA"
      },
      "source": [
        "elliptical"
      ],
      "execution_count": null,
      "outputs": []
    },
    {
      "cell_type": "code",
      "metadata": {
        "colab": {
          "base_uri": "https://localhost:8080/"
        },
        "id": "9WH_hl0liro6",
        "outputId": "1c5b49fa-4ebe-4afa-d9da-6089a7c0a2a6"
      },
      "source": [
        "print(type(spiral))"
      ],
      "execution_count": null,
      "outputs": [
        {
          "output_type": "stream",
          "text": [
            "<class 'list'>\n"
          ],
          "name": "stdout"
        }
      ]
    },
    {
      "cell_type": "code",
      "metadata": {
        "id": "nXAVDrGYiwkZ"
      },
      "source": [
        "import pickle\n",
        "\n",
        "with open(\"/content/drive/MyDrive/Colab Notebooks/ellip_list\", \"wb\") as fp:   #Pickling\n",
        "  pickle.dump(elliptical, fp)\n",
        "with open(\"/content/drive/MyDrive/Colab Notebooks/len_list\", \"wb\") as fp:   #Pickling\n",
        "  pickle.dump(lenticular, fp)\n",
        "with open(\"/content/drive/MyDrive/Colab Notebooks/spiral_list\", \"wb\") as fp:   #Pickling\n",
        "  pickle.dump(spiral, fp)"
      ],
      "execution_count": null,
      "outputs": []
    },
    {
      "cell_type": "code",
      "metadata": {
        "id": "Z3GN6rrMkVO0"
      },
      "source": [
        ""
      ],
      "execution_count": null,
      "outputs": []
    }
  ]
}